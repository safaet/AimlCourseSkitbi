{
  "cells": [
    {
      "cell_type": "markdown",
      "metadata": {
        "id": "JRbqXdAjM5Rd"
      },
      "source": [
        "# Python Lambda"
      ]
    },
    {
      "cell_type": "code",
      "execution_count": null,
      "metadata": {
        "id": "uGpu3nmjM2wy"
      },
      "outputs": [],
      "source": [
        "def add(a,b):\n",
        "  return a+b"
      ]
    },
    {
      "cell_type": "code",
      "execution_count": null,
      "metadata": {
        "id": "WAuhcZBIB-Bn"
      },
      "outputs": [],
      "source": [
        "add(5,7)"
      ]
    },
    {
      "cell_type": "code",
      "execution_count": null,
      "metadata": {
        "id": "0SeUlnd2yiw2"
      },
      "outputs": [],
      "source": [
        "add = lambda a,b: a+b"
      ]
    },
    {
      "cell_type": "code",
      "execution_count": null,
      "metadata": {
        "id": "seW7Ni9oLZlJ"
      },
      "outputs": [],
      "source": [
        "add(5,7)"
      ]
    },
    {
      "cell_type": "code",
      "execution_count": null,
      "metadata": {
        "id": "PTivLnUAy3QS"
      },
      "outputs": [],
      "source": [
        "add(10,25)"
      ]
    },
    {
      "cell_type": "code",
      "execution_count": null,
      "metadata": {
        "id": "D80JbJ3Ayism"
      },
      "outputs": [],
      "source": [
        "def distance(x1, y1, x2, y2):\n",
        "  return ( (x1-x2)**2 + (y1-y2)**2 )**.5"
      ]
    },
    {
      "cell_type": "code",
      "execution_count": null,
      "metadata": {
        "id": "c5EdlaB6zvpl"
      },
      "outputs": [],
      "source": [
        "new_distance = lambda x1, y1, x2, y2: ( (x1-x2)**2 + (y1-y2)**2 )**.5"
      ]
    },
    {
      "cell_type": "code",
      "execution_count": null,
      "metadata": {
        "id": "Ucv-vdPhyipu"
      },
      "outputs": [],
      "source": [
        "distance(5,6,10,20)"
      ]
    },
    {
      "cell_type": "code",
      "execution_count": null,
      "metadata": {
        "id": "OdWa7SMnyinS"
      },
      "outputs": [],
      "source": [
        "new_distance(5,6,10,20)"
      ]
    },
    {
      "cell_type": "code",
      "execution_count": null,
      "metadata": {
        "id": "-jlBHpKHyikX"
      },
      "outputs": [],
      "source": []
    },
    {
      "cell_type": "code",
      "execution_count": null,
      "metadata": {
        "id": "ZEbdfLzO0Nbf"
      },
      "outputs": [],
      "source": []
    },
    {
      "cell_type": "markdown",
      "metadata": {
        "id": "PVlahuqv5dNu"
      },
      "source": [
        "# Python Variable Scope"
      ]
    },
    {
      "cell_type": "code",
      "execution_count": null,
      "metadata": {
        "id": "BHhEzR5j5c_o"
      },
      "outputs": [],
      "source": [
        "def print_name(name):\n",
        "  name = \"Asif\"\n",
        "  print(f'My name is {name}')\n",
        "\n",
        "name = \"Iqbal\"\n",
        "print_name(name)\n",
        "print(f'My name is {name}')"
      ]
    },
    {
      "cell_type": "code",
      "execution_count": null,
      "metadata": {
        "id": "bVXIczmI5c8Z"
      },
      "outputs": [],
      "source": [
        "def grade(number):\n",
        "  a = 100\n",
        "  b = 20\n",
        "  c = 12\n",
        "  print(a)\n",
        "  if number>=100:\n",
        "    number = 80\n",
        "    print(f'The number is {number}')\n",
        "    return number\n",
        "\n",
        "  if number<=33:\n",
        "    number = 33\n",
        "    print(f'The number is {number}')\n",
        "    return number\n",
        "\n",
        "  print(f'The number is {number}')\n",
        "  return number"
      ]
    },
    {
      "cell_type": "code",
      "execution_count": null,
      "metadata": {
        "id": "_bIvDrAV5c5f"
      },
      "outputs": [],
      "source": [
        "number = 120\n",
        "new_number = grade(number)\n",
        "\n",
        "print(f'You got {number}, but the final number is {new_number}')"
      ]
    },
    {
      "cell_type": "code",
      "execution_count": null,
      "metadata": {
        "id": "c02VgXrH5c2w"
      },
      "outputs": [],
      "source": [
        "a = 10\n",
        "\n",
        "def print_a():\n",
        "  a = 20\n",
        "  print(f'The value of a inside the function is {a}')\n",
        "\n",
        "print_a()\n",
        "print(f'The value of a outside the function is {a}')"
      ]
    },
    {
      "cell_type": "code",
      "execution_count": null,
      "metadata": {
        "id": "VX8KEOGf5cxP"
      },
      "outputs": [],
      "source": []
    },
    {
      "cell_type": "code",
      "execution_count": null,
      "metadata": {
        "id": "1Mwynwzr5cuW"
      },
      "outputs": [],
      "source": []
    },
    {
      "cell_type": "markdown",
      "metadata": {
        "id": "hbS7ChXQ3Fom"
      },
      "source": [
        "# Python Classes/Objects"
      ]
    },
    {
      "cell_type": "markdown",
      "metadata": {
        "id": "LO-pn2mD2F1h"
      },
      "source": [
        "\n",
        "### Classes:\n",
        "\n",
        "###### Definition: A class in Python is a blueprint for creating objects. It defines a datatype by encapsulating the attributes and behaviors (methods) that the objects created from the class can perform.\n",
        "###### Components: A class typically includes:\n",
        "<br>\n",
        "Attributes: Variables that store data specific to the class.\n",
        "<br>\n",
        "Methods: Functions that define behaviors of the class.\n",
        "\n",
        "### Objects:\n",
        "\n",
        "###### Definition: An object is an instance of a class. When a class is defined, no memory is allocated until an object of that class is created.\n",
        "###### Creation: Objects are created by calling the class itself as if it were a function. This triggers the class's __init__ method, which initializes the object.\n",
        "###### Usage: Objects access the attributes and methods of the class they were created from, allowing for individual object data and behaviors as defined by the class."
      ]
    },
    {
      "cell_type": "markdown",
      "metadata": {
        "id": "g-b-IoTv2QBC"
      },
      "source": [
        "### __init__() Function\n",
        "###### Purpose: The __init__() method is the constructor in Python. It's automatically invoked when a new object of a class is created.\n",
        "###### Self Parameter: The first parameter of the __init__() method is self, which is a reference to the current instance of the class. It allows access to the attributes and methods of the class in Python.\n",
        "###### Initialization: The __init__() method is used to initialize the attributes of an object. This method can take additional arguments to set the initial state of a new object."
      ]
    },
    {
      "cell_type": "code",
      "execution_count": 1,
      "metadata": {
        "id": "9yRVlS1EZt9i"
      },
      "outputs": [],
      "source": [
        "class animal:\n",
        "  legs = 0\n",
        "  mammal = False\n",
        "  bark = \"------\"\n",
        "  is_pet = False\n",
        "\n",
        "  def barks(self):\n",
        "    print(self.bark)\n",
        "\n",
        "  def pet(self):\n",
        "    if self.is_pet == True:\n",
        "      print(\"The animal is suitable for petting\")\n",
        "    else:\n",
        "      print(\"The animal is not suitable for petting\")"
      ]
    },
    {
      "cell_type": "code",
      "execution_count": 2,
      "metadata": {
        "id": "rVeZcQUjZ9ss"
      },
      "outputs": [],
      "source": [
        "cat = animal"
      ]
    },
    {
      "cell_type": "code",
      "source": [
        "cat.legs"
      ],
      "metadata": {
        "colab": {
          "base_uri": "https://localhost:8080/"
        },
        "id": "zHv9HPJpAt4_",
        "outputId": "f2bb6b30-128a-4ac3-fe48-3ee81ea821cf"
      },
      "execution_count": 6,
      "outputs": [
        {
          "output_type": "execute_result",
          "data": {
            "text/plain": [
              "0"
            ]
          },
          "metadata": {},
          "execution_count": 6
        }
      ]
    },
    {
      "cell_type": "code",
      "execution_count": 4,
      "metadata": {
        "id": "cOgEU64yaIDy",
        "colab": {
          "base_uri": "https://localhost:8080/"
        },
        "outputId": "2fd829b0-98ae-4d22-875d-234fec5c5640"
      },
      "outputs": [
        {
          "output_type": "execute_result",
          "data": {
            "text/plain": [
              "False"
            ]
          },
          "metadata": {},
          "execution_count": 4
        }
      ],
      "source": [
        "cat.mammal"
      ]
    },
    {
      "cell_type": "code",
      "execution_count": 7,
      "metadata": {
        "id": "hI8bEAc6auHa"
      },
      "outputs": [],
      "source": [
        "class animal:\n",
        "\n",
        "  def __init__(self, p_legs, p_mammal, p_bark, p_is_pet):\n",
        "    self.legs = p_legs\n",
        "    self.mammal = p_mammal\n",
        "    self.bark = p_bark\n",
        "    self.is_pet = p_is_pet\n",
        "\n",
        "  def barks(self):\n",
        "    print(self.bark)\n",
        "\n",
        "  def pet(self):\n",
        "    if self.is_pet == True:\n",
        "      print(\"The animal is suitable for petting\")\n",
        "    else:\n",
        "      print(\"The animal is not suitable for petting\")"
      ]
    },
    {
      "cell_type": "code",
      "execution_count": 8,
      "metadata": {
        "id": "DwDBkx0tawLL"
      },
      "outputs": [],
      "source": [
        "cat = animal(4, True, \"Mhew Mhew\", True)"
      ]
    },
    {
      "cell_type": "code",
      "execution_count": 11,
      "metadata": {
        "id": "CI-zMLBaawIi",
        "colab": {
          "base_uri": "https://localhost:8080/"
        },
        "outputId": "d010dcc0-61b7-44e5-a548-dfcdca53d357"
      },
      "outputs": [
        {
          "output_type": "stream",
          "name": "stdout",
          "text": [
            "The animal is suitable for petting\n"
          ]
        }
      ],
      "source": [
        "cat.pet()"
      ]
    },
    {
      "cell_type": "code",
      "execution_count": 12,
      "metadata": {
        "id": "1dh7GkjD2PvS"
      },
      "outputs": [],
      "source": [
        "class animal:\n",
        "\n",
        "  def __init__(self, p_legs, p_mammal, p_bark, p_is_pet, fur, aggresive):\n",
        "    self.legs = p_legs\n",
        "    self.mammal = p_mammal\n",
        "    self.bark = p_bark\n",
        "    self.is_pet = p_is_pet\n",
        "    self.fur = fur\n",
        "    self.aggresive = aggresive\n",
        "\n",
        "  def aggresive(self):\n",
        "    print(self.aggresive)\n",
        "\n",
        "  def barks(self):\n",
        "    print(self.bark)\n",
        "\n",
        "  def pet(self):\n",
        "    if self.is_pet == True:\n",
        "      print(\"The animal is suitable for petting\")\n",
        "    else:\n",
        "      print(\"The animal is not suitable for petting\")"
      ]
    },
    {
      "cell_type": "code",
      "execution_count": 13,
      "metadata": {
        "id": "8KdZCpqT2Fjs"
      },
      "outputs": [],
      "source": [
        "cat = animal(4, True, \"Mew Mew\", True, True, False)\n",
        "\n",
        "cow = animal(4, True, \"Hamba Hamba\", False, True, False)\n",
        "\n",
        "eagle = animal(2, False, \"----\", False, True, True)\n",
        "\n",
        "\n",
        "# cat.barks()"
      ]
    },
    {
      "cell_type": "code",
      "execution_count": 14,
      "metadata": {
        "colab": {
          "base_uri": "https://localhost:8080/"
        },
        "id": "fBWC3ZSHVkpw",
        "outputId": "07ed046b-e9df-41c6-da30-e4a216f28901"
      },
      "outputs": [
        {
          "output_type": "execute_result",
          "data": {
            "text/plain": [
              "4"
            ]
          },
          "metadata": {},
          "execution_count": 14
        }
      ],
      "source": [
        "cow.legs"
      ]
    },
    {
      "cell_type": "code",
      "execution_count": 15,
      "metadata": {
        "colab": {
          "base_uri": "https://localhost:8080/"
        },
        "id": "kq1y0obkVpVw",
        "outputId": "5d01489c-f522-4232-9d89-3da9a801944a"
      },
      "outputs": [
        {
          "output_type": "execute_result",
          "data": {
            "text/plain": [
              "2"
            ]
          },
          "metadata": {},
          "execution_count": 15
        }
      ],
      "source": [
        "eagle.legs"
      ]
    },
    {
      "cell_type": "code",
      "execution_count": 16,
      "metadata": {
        "id": "hLkBIyTf2Fec",
        "colab": {
          "base_uri": "https://localhost:8080/"
        },
        "outputId": "fa92f518-a92c-488c-abfe-92c037dd29fe"
      },
      "outputs": [
        {
          "output_type": "stream",
          "name": "stdout",
          "text": [
            "Mew Mew\n"
          ]
        }
      ],
      "source": [
        "cat.barks()"
      ]
    },
    {
      "cell_type": "code",
      "execution_count": 17,
      "metadata": {
        "id": "wwUfYQmv2FYX",
        "colab": {
          "base_uri": "https://localhost:8080/"
        },
        "outputId": "afd2a784-9336-4980-f132-0e0656c4d17b"
      },
      "outputs": [
        {
          "output_type": "stream",
          "name": "stdout",
          "text": [
            "The animal is suitable for petting\n"
          ]
        }
      ],
      "source": [
        "cat.pet()"
      ]
    },
    {
      "cell_type": "code",
      "source": [
        "class animal:\n",
        "\n",
        "  def __init__(self, p_legs, p_mammal, p_bark, p_is_pet):\n",
        "    self.legs = p_legs\n",
        "    self.mammal = p_mammal\n",
        "    self.bark = p_bark\n",
        "    self.is_pet = p_is_pet\n",
        "\n",
        "  def barks(self):\n",
        "    print(self.bark)\n",
        "    return 0\n",
        "\n",
        "  def pet(self):\n",
        "    if self.is_pet == True:\n",
        "      print(\"The animal is suitable for petting\")\n",
        "    else:\n",
        "      print(\"The animal is not suitable for petting\")\n",
        "    return 0"
      ],
      "metadata": {
        "id": "1p2tqT6fDGgA"
      },
      "execution_count": 26,
      "outputs": []
    },
    {
      "cell_type": "code",
      "source": [
        "cat = animal(4, True, \"Mew Mew\", True)"
      ],
      "metadata": {
        "id": "2a4-vWgRDij1"
      },
      "execution_count": 27,
      "outputs": []
    },
    {
      "cell_type": "code",
      "execution_count": 28,
      "metadata": {
        "id": "q-IgtX844efa",
        "colab": {
          "base_uri": "https://localhost:8080/"
        },
        "outputId": "1e9b7d9e-023e-42b1-93c2-331e12dd34a8"
      },
      "outputs": [
        {
          "output_type": "stream",
          "name": "stdout",
          "text": [
            "Mew Mew\n",
            "The animal is suitable for petting\n",
            "4 True 0 0\n"
          ]
        }
      ],
      "source": [
        "print(cat.legs, cat.mammal, cat.barks(), cat.pet())"
      ]
    },
    {
      "cell_type": "markdown",
      "metadata": {
        "id": "wdolrttU6qA6"
      },
      "source": [
        "# Python RegEx\n"
      ]
    },
    {
      "cell_type": "markdown",
      "metadata": {
        "id": "SnnPMXKL8RDa"
      },
      "source": [
        "### Metacharacters\n",
        "<li>\n",
        "[] ->\tA set of characters <br>\n",
        ". ->\tAny character (except newline character) <br>\n",
        "^ ->\tStarts with <br>\n",
        "$ ->\tEnds with <br>\n",
        "* ->\tZero or more occurrences <br>\n",
        "+ ->\tOne or more occurrences <br>\n",
        "? ->\tZero or one occurrences <br>\n",
        "{} ->\tExactly the specified number of occurrences <br>\n",
        "</li>"
      ]
    },
    {
      "cell_type": "code",
      "execution_count": null,
      "metadata": {
        "id": "YcdA3j0U6fdQ"
      },
      "outputs": [],
      "source": []
    },
    {
      "cell_type": "code",
      "execution_count": null,
      "metadata": {
        "id": "mVUypieJ6fZy"
      },
      "outputs": [],
      "source": []
    },
    {
      "cell_type": "code",
      "execution_count": null,
      "metadata": {
        "id": "Kh0o1m8M6fWF"
      },
      "outputs": [],
      "source": []
    },
    {
      "cell_type": "code",
      "execution_count": null,
      "metadata": {
        "id": "53Ym24eZ6fSK"
      },
      "outputs": [],
      "source": []
    },
    {
      "cell_type": "code",
      "execution_count": null,
      "metadata": {
        "id": "U60oaM8j6fMO"
      },
      "outputs": [],
      "source": []
    },
    {
      "cell_type": "code",
      "execution_count": null,
      "metadata": {
        "id": "IJvZfprC6fIy"
      },
      "outputs": [],
      "source": []
    },
    {
      "cell_type": "code",
      "execution_count": null,
      "metadata": {
        "id": "ogHFU1ix6fGD"
      },
      "outputs": [],
      "source": []
    },
    {
      "cell_type": "code",
      "execution_count": null,
      "metadata": {
        "id": "W_C27zQK6fAS"
      },
      "outputs": [],
      "source": []
    },
    {
      "cell_type": "code",
      "execution_count": null,
      "metadata": {
        "id": "1Zz-z3es6e9D"
      },
      "outputs": [],
      "source": []
    },
    {
      "cell_type": "code",
      "execution_count": null,
      "metadata": {
        "id": "CD1lAzfU9bLI"
      },
      "outputs": [],
      "source": []
    },
    {
      "cell_type": "markdown",
      "metadata": {
        "id": "3r-qY3i2-BSe"
      },
      "source": [
        "# Try .. Except"
      ]
    },
    {
      "cell_type": "code",
      "execution_count": 29,
      "metadata": {
        "id": "YTGaht_tX7Q6",
        "colab": {
          "base_uri": "https://localhost:8080/",
          "height": 245
        },
        "outputId": "66b1d3b8-b609-4eee-c088-ae1f2b317efc"
      },
      "outputs": [
        {
          "output_type": "stream",
          "name": "stdout",
          "text": [
            "This is before try--except\n",
            "Hello World\n"
          ]
        },
        {
          "output_type": "error",
          "ename": "ZeroDivisionError",
          "evalue": "division by zero",
          "traceback": [
            "\u001b[0;31m---------------------------------------------------------------------------\u001b[0m",
            "\u001b[0;31mZeroDivisionError\u001b[0m                         Traceback (most recent call last)",
            "\u001b[0;32m<ipython-input-29-9fe54214d829>\u001b[0m in \u001b[0;36m<cell line: 5>\u001b[0;34m()\u001b[0m\n\u001b[1;32m      3\u001b[0m \u001b[0;34m\u001b[0m\u001b[0m\n\u001b[1;32m      4\u001b[0m \u001b[0mprint\u001b[0m\u001b[0;34m(\u001b[0m\u001b[0;34m\"Hello World\"\u001b[0m\u001b[0;34m)\u001b[0m\u001b[0;34m\u001b[0m\u001b[0;34m\u001b[0m\u001b[0m\n\u001b[0;32m----> 5\u001b[0;31m \u001b[0mprint\u001b[0m\u001b[0;34m(\u001b[0m\u001b[0;36m1\u001b[0m\u001b[0;34m/\u001b[0m\u001b[0;36m0\u001b[0m\u001b[0;34m)\u001b[0m\u001b[0;34m\u001b[0m\u001b[0;34m\u001b[0m\u001b[0m\n\u001b[0m\u001b[1;32m      6\u001b[0m \u001b[0mprint\u001b[0m\u001b[0;34m(\u001b[0m\u001b[0;34m\"This is python programming class.\"\u001b[0m\u001b[0;34m)\u001b[0m\u001b[0;34m\u001b[0m\u001b[0;34m\u001b[0m\u001b[0m\n\u001b[1;32m      7\u001b[0m \u001b[0;34m\u001b[0m\u001b[0m\n",
            "\u001b[0;31mZeroDivisionError\u001b[0m: division by zero"
          ]
        }
      ],
      "source": [
        "print(\"This is before try--except\")\n",
        "\n",
        "\n",
        "print(\"Hello World\")\n",
        "print(1/0)\n",
        "print(\"This is python programming class.\")\n",
        "\n",
        "print(\"This is after try--except\")"
      ]
    },
    {
      "cell_type": "code",
      "source": [
        "print(\"This is before try--except\")\n",
        "\n",
        "try:\n",
        "  print(\"Hello World\")\n",
        "  print(1/0)\n",
        "  print(\"This is python programming class.\")\n",
        "except:\n",
        "  print(\"Warning!!! Don't divide by 0\")\n",
        "\n",
        "print(\"This is after try--except\")"
      ],
      "metadata": {
        "colab": {
          "base_uri": "https://localhost:8080/"
        },
        "id": "hDW32ETPGrCs",
        "outputId": "6fe0ba32-5fb1-4a1e-e6a2-c8f1f05c404d"
      },
      "execution_count": 37,
      "outputs": [
        {
          "output_type": "stream",
          "name": "stdout",
          "text": [
            "This is before try--except\n",
            "Hello World\n",
            "This is python programming class.\n",
            "This is after try--except\n"
          ]
        }
      ]
    },
    {
      "cell_type": "code",
      "execution_count": 36,
      "metadata": {
        "id": "KIbSqg4k-7H_",
        "colab": {
          "base_uri": "https://localhost:8080/"
        },
        "outputId": "b00b5374-8bdf-41fc-8ff1-50f32cd6687b"
      },
      "outputs": [
        {
          "output_type": "stream",
          "name": "stdout",
          "text": [
            "Fiat\n"
          ]
        }
      ],
      "source": [
        "car = ['Ford', \"Fiat\", \"Audi\"]\n",
        "\n",
        "try:\n",
        "  print(car[1])\n",
        "except:\n",
        "  print(\"Please check the index of the list\")"
      ]
    },
    {
      "cell_type": "markdown",
      "metadata": {
        "id": "iCRn_ClP-HYE"
      },
      "source": [
        "### try Block:\n",
        "<li>\n",
        "Purpose: This is where you place the code that might cause an exception during execution. The Python interpreter checks the code in this block for any errors.\n",
        "</li>\n",
        "\n",
        "### except Block:\n",
        "<li>\n",
        "Handling Exceptions: If an exception occurs in the try block, Python stops the execution of that block and transfers control to the except block. You can specify particular exceptions to catch or handle all exceptions generically.\n",
        "</li>\n",
        "<li>\n",
        "Multiple Exceptions: You can have multiple except clauses to handle different exceptions in different ways.\n",
        "</li>\n",
        "\n",
        "### else Block:\n",
        "<li>\n",
        "No Exceptions: This block is executed if no exceptions were raised in the try block. It’s often used for code that should run if the try block was successful.\n",
        "</li>\n",
        "<li>\n",
        "Placement: It must be placed after all except blocks.\n",
        "</li>\n",
        "\n",
        "### finally Block:\n",
        "<li>\n",
        "Always Executes: This block runs regardless of whether an exception was raised or not and whether it was caught if raised. It's typically used for clean-up actions, such as closing files or releasing resources.\n",
        "</li>\n",
        "<li>\n",
        "Guaranteed Execution: Even if the program crashes or a return statement is encountered in the try or except blocks, the finally block will still execute.\n",
        "</li>"
      ]
    },
    {
      "cell_type": "code",
      "execution_count": null,
      "metadata": {
        "id": "c0dzrvaE-FI7"
      },
      "outputs": [],
      "source": []
    },
    {
      "cell_type": "markdown",
      "metadata": {
        "id": "P5_uvUNl_4ZF"
      },
      "source": [
        "### We can use try..except for multiple error."
      ]
    },
    {
      "cell_type": "code",
      "execution_count": 39,
      "metadata": {
        "id": "zwa0-prU-FSp",
        "colab": {
          "base_uri": "https://localhost:8080/"
        },
        "outputId": "e51cbc46-af65-4c0a-8c3c-bc0222e46c89"
      },
      "outputs": [
        {
          "output_type": "stream",
          "name": "stdout",
          "text": [
            "Please check the index of the list\n"
          ]
        }
      ],
      "source": [
        "car = ['Ford', \"Fiat\", \"Audi\"]\n",
        "\n",
        "try:\n",
        "  divide = 1/0\n",
        "  print(car[3])\n",
        "except:\n",
        "  print(\"Please check the index of the list\")"
      ]
    },
    {
      "cell_type": "code",
      "source": [
        "car = ['Ford', \"Fiat\", \"Audi\"]\n",
        "print(car[3])"
      ],
      "metadata": {
        "colab": {
          "base_uri": "https://localhost:8080/",
          "height": 158
        },
        "id": "Xmco0e8LIfBu",
        "outputId": "ddf5fd4b-03bb-435f-cb34-ac50ea104509"
      },
      "execution_count": 40,
      "outputs": [
        {
          "output_type": "error",
          "ename": "IndexError",
          "evalue": "list index out of range",
          "traceback": [
            "\u001b[0;31m---------------------------------------------------------------------------\u001b[0m",
            "\u001b[0;31mIndexError\u001b[0m                                Traceback (most recent call last)",
            "\u001b[0;32m<ipython-input-40-2aadc6e36385>\u001b[0m in \u001b[0;36m<cell line: 2>\u001b[0;34m()\u001b[0m\n\u001b[1;32m      1\u001b[0m \u001b[0mcar\u001b[0m \u001b[0;34m=\u001b[0m \u001b[0;34m[\u001b[0m\u001b[0;34m'Ford'\u001b[0m\u001b[0;34m,\u001b[0m \u001b[0;34m\"Fiat\"\u001b[0m\u001b[0;34m,\u001b[0m \u001b[0;34m\"Audi\"\u001b[0m\u001b[0;34m]\u001b[0m\u001b[0;34m\u001b[0m\u001b[0;34m\u001b[0m\u001b[0m\n\u001b[0;32m----> 2\u001b[0;31m \u001b[0mprint\u001b[0m\u001b[0;34m(\u001b[0m\u001b[0mcar\u001b[0m\u001b[0;34m[\u001b[0m\u001b[0;36m3\u001b[0m\u001b[0;34m]\u001b[0m\u001b[0;34m)\u001b[0m\u001b[0;34m\u001b[0m\u001b[0;34m\u001b[0m\u001b[0m\n\u001b[0m",
            "\u001b[0;31mIndexError\u001b[0m: list index out of range"
          ]
        }
      ]
    },
    {
      "cell_type": "code",
      "source": [
        "1/0"
      ],
      "metadata": {
        "colab": {
          "base_uri": "https://localhost:8080/",
          "height": 141
        },
        "id": "zeOhtigHIidd",
        "outputId": "d5e51f62-1f92-4d44-a04c-a20a9ecf8b77"
      },
      "execution_count": 41,
      "outputs": [
        {
          "output_type": "error",
          "ename": "ZeroDivisionError",
          "evalue": "division by zero",
          "traceback": [
            "\u001b[0;31m---------------------------------------------------------------------------\u001b[0m",
            "\u001b[0;31mZeroDivisionError\u001b[0m                         Traceback (most recent call last)",
            "\u001b[0;32m<ipython-input-41-9e1622b385b6>\u001b[0m in \u001b[0;36m<cell line: 1>\u001b[0;34m()\u001b[0m\n\u001b[0;32m----> 1\u001b[0;31m \u001b[0;36m1\u001b[0m\u001b[0;34m/\u001b[0m\u001b[0;36m0\u001b[0m\u001b[0;34m\u001b[0m\u001b[0;34m\u001b[0m\u001b[0m\n\u001b[0m",
            "\u001b[0;31mZeroDivisionError\u001b[0m: division by zero"
          ]
        }
      ]
    },
    {
      "cell_type": "code",
      "execution_count": 50,
      "metadata": {
        "id": "cCk1iPeEZjh6",
        "colab": {
          "base_uri": "https://localhost:8080/"
        },
        "outputId": "c1a7cd96-92bb-4f79-f0a0-2408f356e2c4"
      },
      "outputs": [
        {
          "output_type": "stream",
          "name": "stdout",
          "text": [
            "Don't divide by zero\n"
          ]
        }
      ],
      "source": [
        "car = ['Ford', \"Fiat\", \"Audi\"]\n",
        "\n",
        "try:\n",
        "  divide = 1/0\n",
        "  print(car[3])\n",
        "except ZeroDivisionError:\n",
        "  print(\"Don't divide by zero\")\n",
        "except IndexError:\n",
        "  print(\"Please check the index of the list\")\n",
        "except:\n",
        "  print(\"We are facing some Error\")"
      ]
    },
    {
      "cell_type": "code",
      "source": [
        "car = ['Ford', \"Fiat\", \"Audi\"]\n",
        "\n",
        "try:\n",
        "  print(car[3])\n",
        "  divide = 1/0\n",
        "except ZeroDivisionError:\n",
        "  print(\"Don't divide by zero\")\n",
        "except IndexError:\n",
        "  print(\"Please check the index of the list\")\n",
        "finally:\n",
        "  print(\"This will always print in the try..except block\")"
      ],
      "metadata": {
        "colab": {
          "base_uri": "https://localhost:8080/"
        },
        "id": "Kc-EM3h4JFPl",
        "outputId": "2ef1ecf2-3b7d-4c1b-8a2c-09a21f4f8316"
      },
      "execution_count": 45,
      "outputs": [
        {
          "output_type": "stream",
          "name": "stdout",
          "text": [
            "Please check the index of the list\n",
            "This will always print in the try..except block\n"
          ]
        }
      ]
    },
    {
      "cell_type": "markdown",
      "metadata": {
        "id": "IQY6QhzMwTOc"
      },
      "source": [
        "# Read Documentation"
      ]
    },
    {
      "cell_type": "code",
      "execution_count": 52,
      "metadata": {
        "id": "C8WAfMlHwSWc",
        "colab": {
          "base_uri": "https://localhost:8080/"
        },
        "outputId": "16bfc79c-b640-475d-d45f-ad6ad7cc000e"
      },
      "outputs": [
        {
          "output_type": "stream",
          "name": "stdout",
          "text": [
            "Help on class dict in module builtins:\n",
            "\n",
            "class dict(object)\n",
            " |  dict() -> new empty dictionary\n",
            " |  dict(mapping) -> new dictionary initialized from a mapping object's\n",
            " |      (key, value) pairs\n",
            " |  dict(iterable) -> new dictionary initialized as if via:\n",
            " |      d = {}\n",
            " |      for k, v in iterable:\n",
            " |          d[k] = v\n",
            " |  dict(**kwargs) -> new dictionary initialized with the name=value pairs\n",
            " |      in the keyword argument list.  For example:  dict(one=1, two=2)\n",
            " |  \n",
            " |  Built-in subclasses:\n",
            " |      StgDict\n",
            " |  \n",
            " |  Methods defined here:\n",
            " |  \n",
            " |  __contains__(self, key, /)\n",
            " |      True if the dictionary has the specified key, else False.\n",
            " |  \n",
            " |  __delitem__(self, key, /)\n",
            " |      Delete self[key].\n",
            " |  \n",
            " |  __eq__(self, value, /)\n",
            " |      Return self==value.\n",
            " |  \n",
            " |  __ge__(self, value, /)\n",
            " |      Return self>=value.\n",
            " |  \n",
            " |  __getattribute__(self, name, /)\n",
            " |      Return getattr(self, name).\n",
            " |  \n",
            " |  __getitem__(...)\n",
            " |      x.__getitem__(y) <==> x[y]\n",
            " |  \n",
            " |  __gt__(self, value, /)\n",
            " |      Return self>value.\n",
            " |  \n",
            " |  __init__(self, /, *args, **kwargs)\n",
            " |      Initialize self.  See help(type(self)) for accurate signature.\n",
            " |  \n",
            " |  __ior__(self, value, /)\n",
            " |      Return self|=value.\n",
            " |  \n",
            " |  __iter__(self, /)\n",
            " |      Implement iter(self).\n",
            " |  \n",
            " |  __le__(self, value, /)\n",
            " |      Return self<=value.\n",
            " |  \n",
            " |  __len__(self, /)\n",
            " |      Return len(self).\n",
            " |  \n",
            " |  __lt__(self, value, /)\n",
            " |      Return self<value.\n",
            " |  \n",
            " |  __ne__(self, value, /)\n",
            " |      Return self!=value.\n",
            " |  \n",
            " |  __or__(self, value, /)\n",
            " |      Return self|value.\n",
            " |  \n",
            " |  __repr__(self, /)\n",
            " |      Return repr(self).\n",
            " |  \n",
            " |  __reversed__(self, /)\n",
            " |      Return a reverse iterator over the dict keys.\n",
            " |  \n",
            " |  __ror__(self, value, /)\n",
            " |      Return value|self.\n",
            " |  \n",
            " |  __setitem__(self, key, value, /)\n",
            " |      Set self[key] to value.\n",
            " |  \n",
            " |  __sizeof__(...)\n",
            " |      D.__sizeof__() -> size of D in memory, in bytes\n",
            " |  \n",
            " |  clear(...)\n",
            " |      D.clear() -> None.  Remove all items from D.\n",
            " |  \n",
            " |  copy(...)\n",
            " |      D.copy() -> a shallow copy of D\n",
            " |  \n",
            " |  get(self, key, default=None, /)\n",
            " |      Return the value for key if key is in the dictionary, else default.\n",
            " |  \n",
            " |  items(...)\n",
            " |      D.items() -> a set-like object providing a view on D's items\n",
            " |  \n",
            " |  keys(...)\n",
            " |      D.keys() -> a set-like object providing a view on D's keys\n",
            " |  \n",
            " |  pop(...)\n",
            " |      D.pop(k[,d]) -> v, remove specified key and return the corresponding value.\n",
            " |      \n",
            " |      If the key is not found, return the default if given; otherwise,\n",
            " |      raise a KeyError.\n",
            " |  \n",
            " |  popitem(self, /)\n",
            " |      Remove and return a (key, value) pair as a 2-tuple.\n",
            " |      \n",
            " |      Pairs are returned in LIFO (last-in, first-out) order.\n",
            " |      Raises KeyError if the dict is empty.\n",
            " |  \n",
            " |  setdefault(self, key, default=None, /)\n",
            " |      Insert key with a value of default if key is not in the dictionary.\n",
            " |      \n",
            " |      Return the value for key if key is in the dictionary, else default.\n",
            " |  \n",
            " |  update(...)\n",
            " |      D.update([E, ]**F) -> None.  Update D from dict/iterable E and F.\n",
            " |      If E is present and has a .keys() method, then does:  for k in E: D[k] = E[k]\n",
            " |      If E is present and lacks a .keys() method, then does:  for k, v in E: D[k] = v\n",
            " |      In either case, this is followed by: for k in F:  D[k] = F[k]\n",
            " |  \n",
            " |  values(...)\n",
            " |      D.values() -> an object providing a view on D's values\n",
            " |  \n",
            " |  ----------------------------------------------------------------------\n",
            " |  Class methods defined here:\n",
            " |  \n",
            " |  __class_getitem__(...) from builtins.type\n",
            " |      See PEP 585\n",
            " |  \n",
            " |  fromkeys(iterable, value=None, /) from builtins.type\n",
            " |      Create a new dictionary with keys from iterable and values set to value.\n",
            " |  \n",
            " |  ----------------------------------------------------------------------\n",
            " |  Static methods defined here:\n",
            " |  \n",
            " |  __new__(*args, **kwargs) from builtins.type\n",
            " |      Create and return a new object.  See help(type) for accurate signature.\n",
            " |  \n",
            " |  ----------------------------------------------------------------------\n",
            " |  Data and other attributes defined here:\n",
            " |  \n",
            " |  __hash__ = None\n",
            "\n"
          ]
        }
      ],
      "source": [
        "help(dict)"
      ]
    },
    {
      "cell_type": "markdown",
      "metadata": {
        "id": "oA0ANX4O4tti"
      },
      "source": [
        "### ** Please learn the following concept by yourself.**\n",
        "(Out of scope for this course)\n",
        "\n",
        "1. Inheritance\n",
        "2. Polymorphism\n",
        "3. Iterators\n",
        "4. File Handling\n",
        "5. IO File"
      ]
    },
    {
      "cell_type": "markdown",
      "metadata": {
        "id": "ROb_veYVA1UL"
      },
      "source": [
        "# Install package"
      ]
    },
    {
      "cell_type": "code",
      "execution_count": 53,
      "metadata": {
        "id": "YgKf-5EEAmha",
        "colab": {
          "base_uri": "https://localhost:8080/"
        },
        "outputId": "d7e5683f-ec95-4494-8f95-31d627c7ce66"
      },
      "outputs": [
        {
          "output_type": "stream",
          "name": "stdout",
          "text": [
            "Requirement already satisfied: numpy in /usr/local/lib/python3.10/dist-packages (1.25.2)\n"
          ]
        }
      ],
      "source": [
        "pip install numpy"
      ]
    },
    {
      "cell_type": "code",
      "execution_count": 54,
      "metadata": {
        "id": "4xQoykV0A8Xh",
        "colab": {
          "base_uri": "https://localhost:8080/"
        },
        "outputId": "9aca12e5-eeb3-4bfb-e896-e37c4eeea7c5"
      },
      "outputs": [
        {
          "output_type": "stream",
          "name": "stdout",
          "text": [
            "Requirement already satisfied: pandas in /usr/local/lib/python3.10/dist-packages (2.0.3)\n",
            "Requirement already satisfied: python-dateutil>=2.8.2 in /usr/local/lib/python3.10/dist-packages (from pandas) (2.8.2)\n",
            "Requirement already satisfied: pytz>=2020.1 in /usr/local/lib/python3.10/dist-packages (from pandas) (2023.4)\n",
            "Requirement already satisfied: tzdata>=2022.1 in /usr/local/lib/python3.10/dist-packages (from pandas) (2024.1)\n",
            "Requirement already satisfied: numpy>=1.21.0 in /usr/local/lib/python3.10/dist-packages (from pandas) (1.25.2)\n",
            "Requirement already satisfied: six>=1.5 in /usr/local/lib/python3.10/dist-packages (from python-dateutil>=2.8.2->pandas) (1.16.0)\n"
          ]
        }
      ],
      "source": [
        "pip install pandas"
      ]
    },
    {
      "cell_type": "code",
      "execution_count": null,
      "metadata": {
        "id": "lXwV41w1A-ux"
      },
      "outputs": [],
      "source": []
    },
    {
      "cell_type": "markdown",
      "metadata": {
        "id": "F-VXKir5vzO0"
      },
      "source": [
        "# Python Numpy\n",
        "NumPy (Numerical Python) is an open source Python library that’s used in almost every field of science and engineering.\n",
        "\n",
        "It’s the universal standard for working with numerical data in Python.\n"
      ]
    },
    {
      "cell_type": "code",
      "source": [
        "import numpy"
      ],
      "metadata": {
        "id": "EWZIHoZh86Sj"
      },
      "execution_count": 58,
      "outputs": []
    },
    {
      "cell_type": "code",
      "source": [
        "import numpy as np"
      ],
      "metadata": {
        "id": "hvz0xWN4-JX0"
      },
      "execution_count": 59,
      "outputs": []
    },
    {
      "cell_type": "code",
      "execution_count": 60,
      "metadata": {
        "id": "wQyFGszxvyN4"
      },
      "outputs": [],
      "source": [
        "a = np.array([1,2,3]) # 1 Dimensional array"
      ]
    },
    {
      "cell_type": "code",
      "execution_count": 61,
      "metadata": {
        "id": "R6Xk-RyjvyJt",
        "colab": {
          "base_uri": "https://localhost:8080/"
        },
        "outputId": "edde34fd-eec5-4506-e1e8-303d4850f486"
      },
      "outputs": [
        {
          "output_type": "execute_result",
          "data": {
            "text/plain": [
              "numpy.ndarray"
            ]
          },
          "metadata": {},
          "execution_count": 61
        }
      ],
      "source": [
        "type(a)"
      ]
    },
    {
      "cell_type": "code",
      "source": [
        "a"
      ],
      "metadata": {
        "colab": {
          "base_uri": "https://localhost:8080/"
        },
        "id": "WFPsCXBGQFCn",
        "outputId": "17007dcb-f4fa-4d04-e59b-60bd6dd0508d"
      },
      "execution_count": 62,
      "outputs": [
        {
          "output_type": "execute_result",
          "data": {
            "text/plain": [
              "array([1, 2, 3])"
            ]
          },
          "metadata": {},
          "execution_count": 62
        }
      ]
    },
    {
      "cell_type": "code",
      "execution_count": 63,
      "metadata": {
        "id": "ngv0bGbRwOSl"
      },
      "outputs": [],
      "source": [
        "b = np.array( [ [1,2,3], [4,5,6] ])  # 2 Dimensional array"
      ]
    },
    {
      "cell_type": "code",
      "execution_count": 65,
      "metadata": {
        "id": "KMz1IdO1vyGl",
        "colab": {
          "base_uri": "https://localhost:8080/"
        },
        "outputId": "d80c302a-14be-485c-d1c2-56cd7e6e11b5"
      },
      "outputs": [
        {
          "output_type": "stream",
          "name": "stdout",
          "text": [
            "[[1 2 3]\n",
            " [4 5 6]]\n"
          ]
        }
      ],
      "source": [
        "print(b)"
      ]
    },
    {
      "cell_type": "code",
      "execution_count": 66,
      "metadata": {
        "id": "ft_ARNucvx85",
        "colab": {
          "base_uri": "https://localhost:8080/"
        },
        "outputId": "ec915fe0-86ba-4dd7-d2e1-c44df64204c0"
      },
      "outputs": [
        {
          "output_type": "execute_result",
          "data": {
            "text/plain": [
              "(3,)"
            ]
          },
          "metadata": {},
          "execution_count": 66
        }
      ],
      "source": [
        "a.shape"
      ]
    },
    {
      "cell_type": "code",
      "execution_count": 67,
      "metadata": {
        "id": "e30VvRngx8BH",
        "colab": {
          "base_uri": "https://localhost:8080/"
        },
        "outputId": "d33905a1-e57f-43c6-8ece-33ffc16f97f8"
      },
      "outputs": [
        {
          "output_type": "execute_result",
          "data": {
            "text/plain": [
              "(2, 3)"
            ]
          },
          "metadata": {},
          "execution_count": 67
        }
      ],
      "source": [
        "b.shape"
      ]
    },
    {
      "cell_type": "code",
      "execution_count": 74,
      "metadata": {
        "id": "S2exjjKvyDA4"
      },
      "outputs": [],
      "source": [
        "c = np.array([ [  [1,2,3], [4,5,6]  ], [   [7,8,9], [10,11,12]  ] ])"
      ]
    },
    {
      "cell_type": "code",
      "execution_count": 75,
      "metadata": {
        "id": "_bTmNw9lx1Gz",
        "colab": {
          "base_uri": "https://localhost:8080/"
        },
        "outputId": "d94c77ba-1f43-4393-d08f-a2731c6d9f27"
      },
      "outputs": [
        {
          "output_type": "execute_result",
          "data": {
            "text/plain": [
              "(2, 2, 3)"
            ]
          },
          "metadata": {},
          "execution_count": 75
        }
      ],
      "source": [
        "c.shape"
      ]
    },
    {
      "cell_type": "code",
      "execution_count": 93,
      "metadata": {
        "id": "gOa09xNYxvJF"
      },
      "outputs": [],
      "source": [
        "d = np.array([ [  [1,2,3], [4,5,6]  ], [   [7,8,9], [10,11,12]  ], [ [13,14,15], [16,17,18] ] ])"
      ]
    },
    {
      "cell_type": "code",
      "execution_count": 94,
      "metadata": {
        "id": "ZjtRkvNFxvGm",
        "colab": {
          "base_uri": "https://localhost:8080/"
        },
        "outputId": "4ce00e05-0a05-4526-9f91-771f849e6b3a"
      },
      "outputs": [
        {
          "output_type": "execute_result",
          "data": {
            "text/plain": [
              "(3, 2, 3)"
            ]
          },
          "metadata": {},
          "execution_count": 94
        }
      ],
      "source": [
        "d.shape"
      ]
    },
    {
      "cell_type": "code",
      "execution_count": 77,
      "metadata": {
        "id": "ugwWEjsQvx6c",
        "colab": {
          "base_uri": "https://localhost:8080/"
        },
        "outputId": "eb172bf1-7e50-49ff-e953-df817e78d070"
      },
      "outputs": [
        {
          "output_type": "stream",
          "name": "stdout",
          "text": [
            "[1 2 3]\n",
            "######\n",
            "[[1 2 3]\n",
            " [4 5 6]]\n",
            "######\n",
            "[[[ 1  2  3]\n",
            "  [ 4  5  6]]\n",
            "\n",
            " [[ 7  8  9]\n",
            "  [10 11 12]]]\n"
          ]
        }
      ],
      "source": [
        "print(a)\n",
        "print(\"######\")\n",
        "print(b)\n",
        "print(\"######\")\n",
        "print(c)"
      ]
    },
    {
      "cell_type": "code",
      "source": [
        "a[1]"
      ],
      "metadata": {
        "colab": {
          "base_uri": "https://localhost:8080/"
        },
        "id": "_B9MAlRiTAff",
        "outputId": "4ee5b2c3-6e47-4945-feb8-f44a1a1e82bf"
      },
      "execution_count": 79,
      "outputs": [
        {
          "output_type": "execute_result",
          "data": {
            "text/plain": [
              "2"
            ]
          },
          "metadata": {},
          "execution_count": 79
        }
      ]
    },
    {
      "cell_type": "code",
      "execution_count": 81,
      "metadata": {
        "id": "rsdl3eWKyeKo",
        "colab": {
          "base_uri": "https://localhost:8080/"
        },
        "outputId": "a0431af6-f45a-4084-b107-e1dee92f8bf5"
      },
      "outputs": [
        {
          "output_type": "execute_result",
          "data": {
            "text/plain": [
              "5"
            ]
          },
          "metadata": {},
          "execution_count": 81
        }
      ],
      "source": [
        "b[1][1]"
      ]
    },
    {
      "cell_type": "code",
      "source": [
        "c[1][0][2]"
      ],
      "metadata": {
        "colab": {
          "base_uri": "https://localhost:8080/"
        },
        "id": "rc2BfC8jS0ce",
        "outputId": "64689d99-9bee-4b32-c70a-79a04fd8f730"
      },
      "execution_count": 88,
      "outputs": [
        {
          "output_type": "execute_result",
          "data": {
            "text/plain": [
              "9"
            ]
          },
          "metadata": {},
          "execution_count": 88
        }
      ]
    },
    {
      "cell_type": "code",
      "source": [
        "print(a)\n",
        "print(\"######\")\n",
        "print(b)\n",
        "print(\"######\")\n",
        "print(c)"
      ],
      "metadata": {
        "colab": {
          "base_uri": "https://localhost:8080/"
        },
        "id": "xZQDOAMgU8MT",
        "outputId": "d328e905-5554-4d73-a791-a15400980aa4"
      },
      "execution_count": 90,
      "outputs": [
        {
          "output_type": "stream",
          "name": "stdout",
          "text": [
            "[1 2 3]\n",
            "######\n",
            "[[1 2 3]\n",
            " [4 5 6]]\n",
            "######\n",
            "[[[ 1  2  3]\n",
            "  [ 4  5  6]]\n",
            "\n",
            " [[ 7  8  9]\n",
            "  [10 11 12]]]\n"
          ]
        }
      ]
    },
    {
      "cell_type": "code",
      "source": [
        "len(a)"
      ],
      "metadata": {
        "colab": {
          "base_uri": "https://localhost:8080/"
        },
        "id": "lBYQbi_6S0Zs",
        "outputId": "1cd83f01-5182-419e-ad21-86f00b71740a"
      },
      "execution_count": 89,
      "outputs": [
        {
          "output_type": "execute_result",
          "data": {
            "text/plain": [
              "3"
            ]
          },
          "metadata": {},
          "execution_count": 89
        }
      ]
    },
    {
      "cell_type": "code",
      "source": [
        "len(b)"
      ],
      "metadata": {
        "colab": {
          "base_uri": "https://localhost:8080/"
        },
        "id": "B4OHvRulS0Wp",
        "outputId": "1c94ec01-2311-49c6-d059-5590b6fbd5c2"
      },
      "execution_count": 91,
      "outputs": [
        {
          "output_type": "execute_result",
          "data": {
            "text/plain": [
              "2"
            ]
          },
          "metadata": {},
          "execution_count": 91
        }
      ]
    },
    {
      "cell_type": "code",
      "source": [
        "len(c)"
      ],
      "metadata": {
        "colab": {
          "base_uri": "https://localhost:8080/"
        },
        "id": "1vC0MFd6VPpE",
        "outputId": "06a1c76d-7952-4616-b131-d5ad48216fa8"
      },
      "execution_count": 92,
      "outputs": [
        {
          "output_type": "execute_result",
          "data": {
            "text/plain": [
              "2"
            ]
          },
          "metadata": {},
          "execution_count": 92
        }
      ]
    },
    {
      "cell_type": "markdown",
      "metadata": {
        "id": "dVcZQlrrykhI"
      },
      "source": [
        "### What’s the difference between a Python list and a NumPy array?\n",
        "\n",
        "###### NumPy gives you an enormous range of fast and efficient ways of creating arrays and manipulating numerical data inside them.\n",
        "\n",
        "###### While a Python list can contain different data types within a single list, all of the elements in a NumPy array should be homogeneous.\n",
        "\n",
        "###### The mathematical operations that are meant to be performed on arrays would be extremely inefficient if the arrays weren’t homogeneous.\n",
        "\n",
        "###### NumPy arrays are faster and more compact than Python lists. NumPy uses much less memory to store data and it provides a mechanism of specifying the data types. This allows the code to be optimized even further."
      ]
    },
    {
      "cell_type": "code",
      "execution_count": null,
      "metadata": {
        "id": "4G5lQsqp0Iaa"
      },
      "outputs": [],
      "source": []
    },
    {
      "cell_type": "markdown",
      "metadata": {
        "id": "XJhmGgPd0JCr"
      },
      "source": [
        "###### 1D Matrix / column Matrix"
      ]
    },
    {
      "cell_type": "code",
      "execution_count": 103,
      "metadata": {
        "id": "jJgYY5cWyTai"
      },
      "outputs": [],
      "source": [
        "a = np.array([1,2,3])"
      ]
    },
    {
      "cell_type": "markdown",
      "metadata": {
        "id": "-KC7ZkwP0M6S"
      },
      "source": [
        "###### 2D Matrix"
      ]
    },
    {
      "cell_type": "code",
      "execution_count": 117,
      "metadata": {
        "id": "ElJmsBfnyTQ3"
      },
      "outputs": [],
      "source": [
        "b = np.array( [ [1,2,3], [4,5,6] ])"
      ]
    },
    {
      "cell_type": "markdown",
      "metadata": {
        "id": "om7D7RAc0Xm9"
      },
      "source": [
        "###### 3D Matrix"
      ]
    },
    {
      "cell_type": "code",
      "execution_count": 105,
      "metadata": {
        "id": "Gp638X-yyTNy"
      },
      "outputs": [],
      "source": [
        "c = np.array([ [  [1,2,3]  ,   [4,5,6] ], [[7,8,9], [10,11,12]] ])"
      ]
    },
    {
      "cell_type": "markdown",
      "source": [
        "### More concepts"
      ],
      "metadata": {
        "id": "lCPe62bCXFLc"
      }
    },
    {
      "cell_type": "code",
      "source": [
        "b = np.array( [ [1,2,3], [4,5] ])"
      ],
      "metadata": {
        "id": "48t7YyfcElbb",
        "colab": {
          "base_uri": "https://localhost:8080/",
          "height": 141
        },
        "outputId": "24baa2de-b3bf-4a67-a7bc-75b6f813a141"
      },
      "execution_count": 102,
      "outputs": [
        {
          "output_type": "error",
          "ename": "ValueError",
          "evalue": "setting an array element with a sequence. The requested array has an inhomogeneous shape after 1 dimensions. The detected shape was (2,) + inhomogeneous part.",
          "traceback": [
            "\u001b[0;31m---------------------------------------------------------------------------\u001b[0m",
            "\u001b[0;31mValueError\u001b[0m                                Traceback (most recent call last)",
            "\u001b[0;32m<ipython-input-102-83cf6ac42da4>\u001b[0m in \u001b[0;36m<cell line: 1>\u001b[0;34m()\u001b[0m\n\u001b[0;32m----> 1\u001b[0;31m \u001b[0mb\u001b[0m \u001b[0;34m=\u001b[0m \u001b[0mnp\u001b[0m\u001b[0;34m.\u001b[0m\u001b[0marray\u001b[0m\u001b[0;34m(\u001b[0m \u001b[0;34m[\u001b[0m \u001b[0;34m[\u001b[0m\u001b[0;36m1\u001b[0m\u001b[0;34m,\u001b[0m\u001b[0;36m2\u001b[0m\u001b[0;34m,\u001b[0m\u001b[0;36m3\u001b[0m\u001b[0;34m]\u001b[0m\u001b[0;34m,\u001b[0m \u001b[0;34m[\u001b[0m\u001b[0;36m4\u001b[0m\u001b[0;34m,\u001b[0m\u001b[0;36m5\u001b[0m\u001b[0;34m]\u001b[0m \u001b[0;34m]\u001b[0m\u001b[0;34m)\u001b[0m\u001b[0;34m\u001b[0m\u001b[0;34m\u001b[0m\u001b[0m\n\u001b[0m",
            "\u001b[0;31mValueError\u001b[0m: setting an array element with a sequence. The requested array has an inhomogeneous shape after 1 dimensions. The detected shape was (2,) + inhomogeneous part."
          ]
        }
      ]
    },
    {
      "cell_type": "code",
      "source": [
        "c = np.array([ [ [1,2,3] , [4,5,6] ], [ [7,8,9] ] ])"
      ],
      "metadata": {
        "id": "t3PutJ6cE9Qj",
        "colab": {
          "base_uri": "https://localhost:8080/",
          "height": 141
        },
        "outputId": "da98eed8-7ed6-419e-be84-8485059d8232"
      },
      "execution_count": 99,
      "outputs": [
        {
          "output_type": "error",
          "ename": "ValueError",
          "evalue": "setting an array element with a sequence. The requested array has an inhomogeneous shape after 1 dimensions. The detected shape was (2,) + inhomogeneous part.",
          "traceback": [
            "\u001b[0;31m---------------------------------------------------------------------------\u001b[0m",
            "\u001b[0;31mValueError\u001b[0m                                Traceback (most recent call last)",
            "\u001b[0;32m<ipython-input-99-5b5a02335ad8>\u001b[0m in \u001b[0;36m<cell line: 1>\u001b[0;34m()\u001b[0m\n\u001b[0;32m----> 1\u001b[0;31m \u001b[0mc\u001b[0m \u001b[0;34m=\u001b[0m \u001b[0mnp\u001b[0m\u001b[0;34m.\u001b[0m\u001b[0marray\u001b[0m\u001b[0;34m(\u001b[0m\u001b[0;34m[\u001b[0m \u001b[0;34m[\u001b[0m\u001b[0;34m[\u001b[0m\u001b[0;36m1\u001b[0m\u001b[0;34m,\u001b[0m\u001b[0;36m2\u001b[0m\u001b[0;34m,\u001b[0m\u001b[0;36m3\u001b[0m\u001b[0;34m]\u001b[0m\u001b[0;34m,\u001b[0m \u001b[0;34m[\u001b[0m\u001b[0;36m4\u001b[0m\u001b[0;34m,\u001b[0m\u001b[0;36m5\u001b[0m\u001b[0;34m,\u001b[0m\u001b[0;36m6\u001b[0m\u001b[0;34m]\u001b[0m\u001b[0;34m]\u001b[0m\u001b[0;34m,\u001b[0m \u001b[0;34m[\u001b[0m\u001b[0;34m[\u001b[0m\u001b[0;36m7\u001b[0m\u001b[0;34m,\u001b[0m\u001b[0;36m8\u001b[0m\u001b[0;34m,\u001b[0m\u001b[0;36m9\u001b[0m\u001b[0;34m]\u001b[0m\u001b[0;34m]\u001b[0m \u001b[0;34m]\u001b[0m\u001b[0;34m)\u001b[0m\u001b[0;34m\u001b[0m\u001b[0;34m\u001b[0m\u001b[0m\n\u001b[0m",
            "\u001b[0;31mValueError\u001b[0m: setting an array element with a sequence. The requested array has an inhomogeneous shape after 1 dimensions. The detected shape was (2,) + inhomogeneous part."
          ]
        }
      ]
    },
    {
      "cell_type": "markdown",
      "metadata": {
        "id": "qncH6H7i3n4h"
      },
      "source": [
        "### Indexing and Slicing"
      ]
    },
    {
      "cell_type": "code",
      "source": [
        "print(a)\n",
        "print(\"######\")\n",
        "print(b)\n",
        "print(\"######\")\n",
        "print(c)"
      ],
      "metadata": {
        "colab": {
          "base_uri": "https://localhost:8080/"
        },
        "id": "J-TxUU9KYONx",
        "outputId": "3d3e5a77-b9e2-4e17-af80-527b5f407349"
      },
      "execution_count": 106,
      "outputs": [
        {
          "output_type": "stream",
          "name": "stdout",
          "text": [
            "[1 2 3]\n",
            "######\n",
            "[[1 2 3]\n",
            " [4 5 6]]\n",
            "######\n",
            "[[[ 1  2  3]\n",
            "  [ 4  5  6]]\n",
            "\n",
            " [[ 7  8  9]\n",
            "  [10 11 12]]]\n"
          ]
        }
      ]
    },
    {
      "cell_type": "code",
      "execution_count": 107,
      "metadata": {
        "id": "sVY_wBvr3rh1",
        "colab": {
          "base_uri": "https://localhost:8080/"
        },
        "outputId": "d2bb850f-99b7-43b7-9f67-af16587baf87"
      },
      "outputs": [
        {
          "output_type": "execute_result",
          "data": {
            "text/plain": [
              "array([4, 5, 6])"
            ]
          },
          "metadata": {},
          "execution_count": 107
        }
      ],
      "source": [
        "b[1]"
      ]
    },
    {
      "cell_type": "code",
      "execution_count": 108,
      "metadata": {
        "id": "hDNvIY-S3rbh",
        "colab": {
          "base_uri": "https://localhost:8080/"
        },
        "outputId": "ba6cf363-b201-4dcb-cfd8-0c3d796a2d1c"
      },
      "outputs": [
        {
          "output_type": "execute_result",
          "data": {
            "text/plain": [
              "3"
            ]
          },
          "metadata": {},
          "execution_count": 108
        }
      ],
      "source": [
        "c[0][0][2]"
      ]
    },
    {
      "cell_type": "code",
      "execution_count": 109,
      "metadata": {
        "id": "BTlddPzA3rYN",
        "colab": {
          "base_uri": "https://localhost:8080/"
        },
        "outputId": "190252de-5b42-43df-9160-5dd7fd7b2453"
      },
      "outputs": [
        {
          "output_type": "stream",
          "name": "stdout",
          "text": [
            "[[1 2 3]\n",
            " [4 5 6]]\n"
          ]
        }
      ],
      "source": [
        "print(b)"
      ]
    },
    {
      "cell_type": "code",
      "source": [
        "b[0][1] = 100"
      ],
      "metadata": {
        "id": "5PDXIbv4ERRr"
      },
      "execution_count": 110,
      "outputs": []
    },
    {
      "cell_type": "code",
      "execution_count": 111,
      "metadata": {
        "id": "SoRFSJ5A4GrX",
        "colab": {
          "base_uri": "https://localhost:8080/"
        },
        "outputId": "eac21bd6-5131-460f-c84a-3e3d57d14c1c"
      },
      "outputs": [
        {
          "output_type": "stream",
          "name": "stdout",
          "text": [
            "[[  1 100   3]\n",
            " [  4   5   6]]\n"
          ]
        }
      ],
      "source": [
        "print(b)"
      ]
    },
    {
      "cell_type": "code",
      "source": [
        "b[1][1] = 1000"
      ],
      "metadata": {
        "id": "WatQp6yHFbOK"
      },
      "execution_count": 112,
      "outputs": []
    },
    {
      "cell_type": "code",
      "source": [
        "print(b)"
      ],
      "metadata": {
        "id": "3ygugtnFFfrj",
        "colab": {
          "base_uri": "https://localhost:8080/"
        },
        "outputId": "0f67ce64-afff-4925-bc63-aa185582d0c2"
      },
      "execution_count": 113,
      "outputs": [
        {
          "output_type": "stream",
          "name": "stdout",
          "text": [
            "[[   1  100    3]\n",
            " [   4 1000    6]]\n"
          ]
        }
      ]
    },
    {
      "cell_type": "markdown",
      "metadata": {
        "id": "nm1FOsNK1uUP"
      },
      "source": [
        "### Shape and Size of an ndarray"
      ]
    },
    {
      "cell_type": "code",
      "source": [
        "print(a)\n",
        "print(\"######\")\n",
        "print(b)\n",
        "print(\"######\")\n",
        "print(c)"
      ],
      "metadata": {
        "colab": {
          "base_uri": "https://localhost:8080/"
        },
        "id": "w-fYsbgcY_zZ",
        "outputId": "39d07b45-41be-46b1-f93b-77ebf98c314d"
      },
      "execution_count": 118,
      "outputs": [
        {
          "output_type": "stream",
          "name": "stdout",
          "text": [
            "[1 2 3]\n",
            "######\n",
            "[[1 2 3]\n",
            " [4 5 6]]\n",
            "######\n",
            "[[[ 1  2  3]\n",
            "  [ 4  5  6]]\n",
            "\n",
            " [[ 7  8  9]\n",
            "  [10 11 12]]]\n"
          ]
        }
      ]
    },
    {
      "cell_type": "code",
      "execution_count": 114,
      "metadata": {
        "id": "fqcQiMXH1txh",
        "colab": {
          "base_uri": "https://localhost:8080/"
        },
        "outputId": "10fa1e6b-781a-4a8d-ab67-415ce1e67a8b"
      },
      "outputs": [
        {
          "output_type": "execute_result",
          "data": {
            "text/plain": [
              "(3,)"
            ]
          },
          "metadata": {},
          "execution_count": 114
        }
      ],
      "source": [
        "a.shape"
      ]
    },
    {
      "cell_type": "code",
      "source": [
        "a.size"
      ],
      "metadata": {
        "id": "y-clj9AeEDUE",
        "colab": {
          "base_uri": "https://localhost:8080/"
        },
        "outputId": "d5170e36-4472-4b01-ad82-db99c2a45463"
      },
      "execution_count": 116,
      "outputs": [
        {
          "output_type": "execute_result",
          "data": {
            "text/plain": [
              "3"
            ]
          },
          "metadata": {},
          "execution_count": 116
        }
      ]
    },
    {
      "cell_type": "code",
      "execution_count": 119,
      "metadata": {
        "id": "IqP5DLQp1tqp",
        "colab": {
          "base_uri": "https://localhost:8080/"
        },
        "outputId": "23db37b4-677a-497a-ebc4-45a9d465d212"
      },
      "outputs": [
        {
          "output_type": "execute_result",
          "data": {
            "text/plain": [
              "(2, 3)"
            ]
          },
          "metadata": {},
          "execution_count": 119
        }
      ],
      "source": [
        "b.shape"
      ]
    },
    {
      "cell_type": "code",
      "source": [
        "b.size"
      ],
      "metadata": {
        "id": "FchS_RmjEAD7",
        "colab": {
          "base_uri": "https://localhost:8080/"
        },
        "outputId": "b728db77-ba6b-417b-9fed-589382e4b0ce"
      },
      "execution_count": 120,
      "outputs": [
        {
          "output_type": "execute_result",
          "data": {
            "text/plain": [
              "6"
            ]
          },
          "metadata": {},
          "execution_count": 120
        }
      ]
    },
    {
      "cell_type": "code",
      "execution_count": 121,
      "metadata": {
        "id": "ZmaakpC_15Xu",
        "colab": {
          "base_uri": "https://localhost:8080/"
        },
        "outputId": "0280501c-9c77-43ee-e7b4-8eca04410d25"
      },
      "outputs": [
        {
          "output_type": "execute_result",
          "data": {
            "text/plain": [
              "12"
            ]
          },
          "metadata": {},
          "execution_count": 121
        }
      ],
      "source": [
        "c.size"
      ]
    },
    {
      "cell_type": "code",
      "source": [],
      "metadata": {
        "id": "LSZgcVb_ZcfK"
      },
      "execution_count": null,
      "outputs": []
    },
    {
      "cell_type": "markdown",
      "metadata": {
        "id": "2EirfxEe0fCx"
      },
      "source": [
        "### Create a matrix\n",
        "###### with zeros, ones, arange"
      ]
    },
    {
      "cell_type": "code",
      "execution_count": 125,
      "metadata": {
        "id": "ufFf_nvM0efP",
        "colab": {
          "base_uri": "https://localhost:8080/"
        },
        "outputId": "40c4b037-d5cf-422f-e1bf-fbff2c7b9bf0"
      },
      "outputs": [
        {
          "output_type": "execute_result",
          "data": {
            "text/plain": [
              "array([0., 0., 0., 0., 0.])"
            ]
          },
          "metadata": {},
          "execution_count": 125
        }
      ],
      "source": [
        "np.zeros(5)"
      ]
    },
    {
      "cell_type": "code",
      "execution_count": 126,
      "metadata": {
        "id": "obfAH3TO0ecF"
      },
      "outputs": [],
      "source": [
        "zero = np.zeros( [2,3] )"
      ]
    },
    {
      "cell_type": "code",
      "execution_count": 128,
      "metadata": {
        "id": "AzCW6n1r0eZL",
        "colab": {
          "base_uri": "https://localhost:8080/"
        },
        "outputId": "e1291eb3-5926-412c-df07-7a5a0da8a883"
      },
      "outputs": [
        {
          "output_type": "stream",
          "name": "stdout",
          "text": [
            "[[0. 0. 0.]\n",
            " [0. 0. 0.]]\n"
          ]
        }
      ],
      "source": [
        "print(zero)"
      ]
    },
    {
      "cell_type": "code",
      "execution_count": 129,
      "metadata": {
        "id": "-Y59l9Mm0eWn",
        "colab": {
          "base_uri": "https://localhost:8080/"
        },
        "outputId": "5320c77b-f78f-41e9-cb1a-0a0e135189c4"
      },
      "outputs": [
        {
          "output_type": "stream",
          "name": "stdout",
          "text": [
            "[[  0.   0.   0.]\n",
            " [  0.   0. 100.]]\n"
          ]
        }
      ],
      "source": [
        "zero[1][2] = 100\n",
        "\n",
        "print(zero)"
      ]
    },
    {
      "cell_type": "code",
      "execution_count": 133,
      "metadata": {
        "id": "dGcnw9Yj0eUN",
        "colab": {
          "base_uri": "https://localhost:8080/"
        },
        "outputId": "901562ba-e586-4a5f-cad3-173c19f2bb39"
      },
      "outputs": [
        {
          "output_type": "stream",
          "name": "stdout",
          "text": [
            "[[[1. 1. 1.]\n",
            "  [1. 1. 1.]\n",
            "  [1. 1. 1.]]\n",
            "\n",
            " [[1. 1. 1.]\n",
            "  [1. 1. 1.]\n",
            "  [1. 1. 1.]]\n",
            "\n",
            " [[1. 1. 1.]\n",
            "  [1. 1. 1.]\n",
            "  [1. 1. 1.]]]\n"
          ]
        }
      ],
      "source": [
        "one = np.ones([3,3,3])\n",
        "print(one)"
      ]
    },
    {
      "cell_type": "code",
      "source": [
        "one[1][0][2] = 100"
      ],
      "metadata": {
        "id": "5gSuLgzkGyWe"
      },
      "execution_count": 131,
      "outputs": []
    },
    {
      "cell_type": "code",
      "execution_count": 132,
      "metadata": {
        "id": "VqWjD_ca0eRP",
        "colab": {
          "base_uri": "https://localhost:8080/"
        },
        "outputId": "85d76877-1b68-40ea-9483-d1b24510553f"
      },
      "outputs": [
        {
          "output_type": "stream",
          "name": "stdout",
          "text": [
            "[[[  1.   1.   1.]\n",
            "  [  1.   1.   1.]\n",
            "  [  1.   1.   1.]]\n",
            "\n",
            " [[  1.   1. 100.]\n",
            "  [  1.   1.   1.]\n",
            "  [  1.   1.   1.]]\n",
            "\n",
            " [[  1.   1.   1.]\n",
            "  [  1.   1.   1.]\n",
            "  [  1.   1.   1.]]]\n"
          ]
        }
      ],
      "source": [
        "print(one)"
      ]
    },
    {
      "cell_type": "code",
      "source": [
        "a = np.array([ [1,2,3], [1,2,3], [1,2,3], [1,2,3], [1,2,3], [1,2,3], [1,2,3], [1,2,3], [1,2,3], [1,2,3] ])\n",
        "\n",
        "a.shape"
      ],
      "metadata": {
        "colab": {
          "base_uri": "https://localhost:8080/"
        },
        "id": "imxOl4Irg0o3",
        "outputId": "b735b1fc-d7a0-487c-8d6a-425a9d0ed3b0"
      },
      "execution_count": 137,
      "outputs": [
        {
          "output_type": "execute_result",
          "data": {
            "text/plain": [
              "(10, 3)"
            ]
          },
          "metadata": {},
          "execution_count": 137
        }
      ]
    },
    {
      "cell_type": "code",
      "execution_count": 140,
      "metadata": {
        "id": "r81gnpU-0xgz",
        "colab": {
          "base_uri": "https://localhost:8080/"
        },
        "outputId": "7e72940d-cf49-423c-cf8b-37c534893a8f"
      },
      "outputs": [
        {
          "output_type": "execute_result",
          "data": {
            "text/plain": [
              "array([ 0,  1,  2,  3,  4,  5,  6,  7,  8,  9, 10, 11, 12, 13, 14, 15, 16,\n",
              "       17, 18, 19, 20, 21, 22, 23, 24, 25, 26, 27, 28, 29, 30, 31, 32, 33,\n",
              "       34, 35, 36, 37, 38, 39, 40, 41, 42, 43, 44, 45, 46, 47, 48, 49, 50,\n",
              "       51, 52, 53, 54, 55, 56, 57, 58, 59, 60, 61, 62, 63, 64, 65, 66, 67,\n",
              "       68, 69, 70, 71, 72, 73, 74, 75, 76, 77, 78, 79, 80, 81, 82, 83, 84,\n",
              "       85, 86, 87, 88, 89, 90, 91, 92, 93, 94, 95, 96, 97, 98, 99])"
            ]
          },
          "metadata": {},
          "execution_count": 140
        }
      ],
      "source": [
        "np.arange(100)"
      ]
    },
    {
      "cell_type": "markdown",
      "metadata": {
        "id": "2h1nE_i81Bi1"
      },
      "source": [
        "### Adding, removing, and sorting elements"
      ]
    },
    {
      "cell_type": "code",
      "execution_count": 142,
      "metadata": {
        "id": "alubfbcz1FLl",
        "colab": {
          "base_uri": "https://localhost:8080/"
        },
        "outputId": "fbc45e06-f925-4425-ff36-a87dae090ab3"
      },
      "outputs": [
        {
          "output_type": "stream",
          "name": "stdout",
          "text": [
            "[1 2 3 4 5 6 7 8]\n"
          ]
        }
      ],
      "source": [
        "a = np.array([1,2,3,4])\n",
        "b = np.array([5,6,7,8])\n",
        "\n",
        "c = np.concatenate( (a, b) )\n",
        "\n",
        "print(c)"
      ]
    },
    {
      "cell_type": "code",
      "source": [
        "type(c)"
      ],
      "metadata": {
        "colab": {
          "base_uri": "https://localhost:8080/"
        },
        "id": "LA_1ZGughv2b",
        "outputId": "bac5f5a2-b438-40a0-d4e3-d60f34c77ee1"
      },
      "execution_count": 143,
      "outputs": [
        {
          "output_type": "execute_result",
          "data": {
            "text/plain": [
              "numpy.ndarray"
            ]
          },
          "metadata": {},
          "execution_count": 143
        }
      ]
    },
    {
      "cell_type": "markdown",
      "metadata": {
        "id": "ZrY5rL1Y1Wyp"
      },
      "source": [
        "###### But you need to think about the \"axis\" sometime"
      ]
    },
    {
      "cell_type": "code",
      "source": [
        "a = np.array([ [1, 2], [3, 4] ])  # 2D numpy Array\n",
        "b = np.array([   [5, 6]   ])      # 2D numpy array\n",
        "\n",
        "print(a.shape)\n",
        "print(b.shape)"
      ],
      "metadata": {
        "id": "Zkg6y4ByMKbz",
        "colab": {
          "base_uri": "https://localhost:8080/"
        },
        "outputId": "69e0803a-7bb9-4be4-a04f-25dffb100601"
      },
      "execution_count": 146,
      "outputs": [
        {
          "output_type": "stream",
          "name": "stdout",
          "text": [
            "(2, 2)\n",
            "(1, 2)\n"
          ]
        }
      ]
    },
    {
      "cell_type": "code",
      "execution_count": 149,
      "metadata": {
        "id": "zudIjt8K5zKF",
        "colab": {
          "base_uri": "https://localhost:8080/"
        },
        "outputId": "71126fef-9908-434f-e6df-025a54146685"
      },
      "outputs": [
        {
          "output_type": "execute_result",
          "data": {
            "text/plain": [
              "array([[1, 2],\n",
              "       [3, 4],\n",
              "       [5, 6]])"
            ]
          },
          "metadata": {},
          "execution_count": 149
        }
      ],
      "source": [
        "a = np.array([[1, 2], [3, 4]])\n",
        "b = np.array([[5, 6]])\n",
        "\n",
        "np.concatenate( (a, b), axis=0)"
      ]
    },
    {
      "cell_type": "code",
      "execution_count": 150,
      "metadata": {
        "id": "fWX9xrov1h8u"
      },
      "outputs": [],
      "source": [
        "a1 = np.array([[1,2], [3,4]])\n",
        "a2 = np.array([[5,6], [7,8]])"
      ]
    },
    {
      "cell_type": "code",
      "source": [
        "np.concatenate((a1, a2), axis=0)"
      ],
      "metadata": {
        "id": "INujvA55NfHi",
        "colab": {
          "base_uri": "https://localhost:8080/"
        },
        "outputId": "2fb2a449-321f-4983-dad6-1183b617876b"
      },
      "execution_count": 153,
      "outputs": [
        {
          "output_type": "execute_result",
          "data": {
            "text/plain": [
              "array([[1, 2],\n",
              "       [3, 4],\n",
              "       [5, 6],\n",
              "       [7, 8]])"
            ]
          },
          "metadata": {},
          "execution_count": 153
        }
      ]
    },
    {
      "cell_type": "code",
      "execution_count": 155,
      "metadata": {
        "id": "Q9Ywx-cs0909",
        "colab": {
          "base_uri": "https://localhost:8080/"
        },
        "outputId": "6e31af88-1617-4733-d753-c16833bc7e0d"
      },
      "outputs": [
        {
          "output_type": "execute_result",
          "data": {
            "text/plain": [
              "array([[1, 2],\n",
              "       [3, 4],\n",
              "       [5, 6],\n",
              "       [7, 8]])"
            ]
          },
          "metadata": {},
          "execution_count": 155
        }
      ],
      "source": [
        "np.vstack((a1,a2))"
      ]
    },
    {
      "cell_type": "code",
      "source": [
        "np.concatenate((a1, a2), axis=1)"
      ],
      "metadata": {
        "id": "GLoeQMjPNjcy",
        "colab": {
          "base_uri": "https://localhost:8080/"
        },
        "outputId": "0b9af9a1-9689-487d-b5ae-5fa8bc2956bc"
      },
      "execution_count": 154,
      "outputs": [
        {
          "output_type": "execute_result",
          "data": {
            "text/plain": [
              "array([[1, 2, 5, 6],\n",
              "       [3, 4, 7, 8]])"
            ]
          },
          "metadata": {},
          "execution_count": 154
        }
      ]
    },
    {
      "cell_type": "code",
      "execution_count": 156,
      "metadata": {
        "id": "De4ecpS91Dd1",
        "colab": {
          "base_uri": "https://localhost:8080/"
        },
        "outputId": "b5d7251e-65dd-484e-af14-18bdc64fe073"
      },
      "outputs": [
        {
          "output_type": "execute_result",
          "data": {
            "text/plain": [
              "array([[1, 2, 5, 6],\n",
              "       [3, 4, 7, 8]])"
            ]
          },
          "metadata": {},
          "execution_count": 156
        }
      ],
      "source": [
        "np.hstack((a1,a2))"
      ]
    },
    {
      "cell_type": "code",
      "execution_count": 160,
      "metadata": {
        "id": "-mcSqMd99TI6"
      },
      "outputs": [],
      "source": [
        "a = np.array([1000,2, 10, 200, 5])"
      ]
    },
    {
      "cell_type": "code",
      "execution_count": 161,
      "metadata": {
        "id": "waEgtJOv9Znp"
      },
      "outputs": [],
      "source": [
        "a = np.sort(a)"
      ]
    },
    {
      "cell_type": "code",
      "source": [
        "print(a)"
      ],
      "metadata": {
        "colab": {
          "base_uri": "https://localhost:8080/"
        },
        "id": "E_O0Krwzj_rE",
        "outputId": "cbd5b455-4f68-4739-d8a2-3f4fed340768"
      },
      "execution_count": 159,
      "outputs": [
        {
          "output_type": "stream",
          "name": "stdout",
          "text": [
            "[   2    5   10  200 1000]\n"
          ]
        }
      ]
    },
    {
      "cell_type": "code",
      "source": [
        "reverse_array = a[::-1]\n",
        "print(reverse_array)"
      ],
      "metadata": {
        "id": "FIFdF_NkPq-K",
        "colab": {
          "base_uri": "https://localhost:8080/"
        },
        "outputId": "7be37a16-68a7-4891-f94b-b8efb15df13e"
      },
      "execution_count": 162,
      "outputs": [
        {
          "output_type": "stream",
          "name": "stdout",
          "text": [
            "[1000  200   10    5    2]\n"
          ]
        }
      ]
    },
    {
      "cell_type": "code",
      "source": [
        "a = np.sort(a)[::-1]\n",
        "print(a)"
      ],
      "metadata": {
        "id": "dkDKJ4gsVPNx",
        "colab": {
          "base_uri": "https://localhost:8080/"
        },
        "outputId": "b7a149b8-7d3e-4566-a709-111b29d48085"
      },
      "execution_count": 163,
      "outputs": [
        {
          "output_type": "stream",
          "name": "stdout",
          "text": [
            "[1000  200   10    5    2]\n"
          ]
        }
      ]
    },
    {
      "cell_type": "markdown",
      "metadata": {
        "id": "wPQ9Twfm2vHV"
      },
      "source": [
        "### Reshape an ndarray"
      ]
    },
    {
      "cell_type": "code",
      "execution_count": 164,
      "metadata": {
        "id": "iRZSR_3r1jje",
        "colab": {
          "base_uri": "https://localhost:8080/"
        },
        "outputId": "5820bf17-4d18-4f8b-d0af-5fed3ae53506"
      },
      "outputs": [
        {
          "output_type": "execute_result",
          "data": {
            "text/plain": [
              "(6,)"
            ]
          },
          "metadata": {},
          "execution_count": 164
        }
      ],
      "source": [
        "a = np.array([1,2,3,4,5,6])\n",
        "a.shape"
      ]
    },
    {
      "cell_type": "code",
      "execution_count": 165,
      "metadata": {
        "id": "Q0q7fak_27nI",
        "colab": {
          "base_uri": "https://localhost:8080/"
        },
        "outputId": "7a93e7c6-799e-4228-f147-fc2de1fa308b"
      },
      "outputs": [
        {
          "output_type": "stream",
          "name": "stdout",
          "text": [
            "[[1 2 3]\n",
            " [4 5 6]]\n"
          ]
        }
      ],
      "source": [
        "b = a.reshape(2,3)\n",
        "print(b)"
      ]
    },
    {
      "cell_type": "code",
      "execution_count": 166,
      "metadata": {
        "id": "deH3hpla3DVl",
        "colab": {
          "base_uri": "https://localhost:8080/"
        },
        "outputId": "8501c1dc-4049-49cd-b229-7b60cd080c39"
      },
      "outputs": [
        {
          "output_type": "stream",
          "name": "stdout",
          "text": [
            "[[1 2]\n",
            " [3 4]\n",
            " [5 6]]\n"
          ]
        }
      ],
      "source": [
        "c = a.reshape(3,2)\n",
        "print(c)"
      ]
    },
    {
      "cell_type": "code",
      "source": [
        "a = np.array([1,2,3,4,5])\n",
        "a.shape"
      ],
      "metadata": {
        "id": "Kr01BjyzVuxF",
        "colab": {
          "base_uri": "https://localhost:8080/"
        },
        "outputId": "feb1535c-4245-4f6c-88c4-3a07170185e4"
      },
      "execution_count": 169,
      "outputs": [
        {
          "output_type": "execute_result",
          "data": {
            "text/plain": [
              "(5,)"
            ]
          },
          "metadata": {},
          "execution_count": 169
        }
      ]
    },
    {
      "cell_type": "code",
      "source": [
        "d = a.reshape(2,3)"
      ],
      "metadata": {
        "id": "3gpBL6AGWGdK",
        "colab": {
          "base_uri": "https://localhost:8080/",
          "height": 141
        },
        "outputId": "d4352b12-54c3-4b85-8a46-b29e6919d15a"
      },
      "execution_count": 170,
      "outputs": [
        {
          "output_type": "error",
          "ename": "ValueError",
          "evalue": "cannot reshape array of size 5 into shape (2,3)",
          "traceback": [
            "\u001b[0;31m---------------------------------------------------------------------------\u001b[0m",
            "\u001b[0;31mValueError\u001b[0m                                Traceback (most recent call last)",
            "\u001b[0;32m<ipython-input-170-98dfb2c12f23>\u001b[0m in \u001b[0;36m<cell line: 1>\u001b[0;34m()\u001b[0m\n\u001b[0;32m----> 1\u001b[0;31m \u001b[0md\u001b[0m \u001b[0;34m=\u001b[0m \u001b[0ma\u001b[0m\u001b[0;34m.\u001b[0m\u001b[0mreshape\u001b[0m\u001b[0;34m(\u001b[0m\u001b[0;36m2\u001b[0m\u001b[0;34m,\u001b[0m\u001b[0;36m3\u001b[0m\u001b[0;34m)\u001b[0m\u001b[0;34m\u001b[0m\u001b[0;34m\u001b[0m\u001b[0m\n\u001b[0m",
            "\u001b[0;31mValueError\u001b[0m: cannot reshape array of size 5 into shape (2,3)"
          ]
        }
      ]
    },
    {
      "cell_type": "code",
      "source": [
        "a = np.array([1,2,3,4,5,6,7,8,9,10,11,12])\n",
        "a.shape"
      ],
      "metadata": {
        "id": "kqCcgZa6WXXj",
        "colab": {
          "base_uri": "https://localhost:8080/"
        },
        "outputId": "9f0f1fdd-daff-421a-8729-9d48675219a6"
      },
      "execution_count": 172,
      "outputs": [
        {
          "output_type": "execute_result",
          "data": {
            "text/plain": [
              "(12,)"
            ]
          },
          "metadata": {},
          "execution_count": 172
        }
      ]
    },
    {
      "cell_type": "code",
      "source": [
        "e = a.reshape(2,2,3)\n",
        "print(e)"
      ],
      "metadata": {
        "id": "C9eABhVcWaua",
        "colab": {
          "base_uri": "https://localhost:8080/"
        },
        "outputId": "bcd6c8f2-8c67-4a4c-85b4-2d93523f8011"
      },
      "execution_count": 173,
      "outputs": [
        {
          "output_type": "stream",
          "name": "stdout",
          "text": [
            "[[[ 1  2  3]\n",
            "  [ 4  5  6]]\n",
            "\n",
            " [[ 7  8  9]\n",
            "  [10 11 12]]]\n"
          ]
        }
      ]
    },
    {
      "cell_type": "code",
      "source": [
        "c = np.array([ [  [1,2,3], [4,5,6]   ], [   [7,8,9], [10,11,12]   ] ])"
      ],
      "metadata": {
        "id": "tjVS1wzdYpZy"
      },
      "execution_count": 180,
      "outputs": []
    },
    {
      "cell_type": "code",
      "source": [
        "c.shape"
      ],
      "metadata": {
        "id": "oYenFH6BYrjr",
        "colab": {
          "base_uri": "https://localhost:8080/"
        },
        "outputId": "23c0447f-daa7-431c-c471-e10b8035ca81"
      },
      "execution_count": 181,
      "outputs": [
        {
          "output_type": "execute_result",
          "data": {
            "text/plain": [
              "(2, 2, 3)"
            ]
          },
          "metadata": {},
          "execution_count": 181
        }
      ]
    },
    {
      "cell_type": "code",
      "source": [
        "x = c.reshape(4,3)\n",
        "x.shape"
      ],
      "metadata": {
        "id": "7Zi0qNZHYwJL",
        "colab": {
          "base_uri": "https://localhost:8080/"
        },
        "outputId": "1884b83f-0b19-48ae-ecdd-74d86d56d845"
      },
      "execution_count": 182,
      "outputs": [
        {
          "output_type": "execute_result",
          "data": {
            "text/plain": [
              "(4, 3)"
            ]
          },
          "metadata": {},
          "execution_count": 182
        }
      ]
    },
    {
      "cell_type": "code",
      "source": [
        "x"
      ],
      "metadata": {
        "colab": {
          "base_uri": "https://localhost:8080/"
        },
        "id": "8VUoIFs0l643",
        "outputId": "88fa17f6-aee9-48c1-9cbb-34bd47e9ae60"
      },
      "execution_count": 183,
      "outputs": [
        {
          "output_type": "execute_result",
          "data": {
            "text/plain": [
              "array([[ 1,  2,  3],\n",
              "       [ 4,  5,  6],\n",
              "       [ 7,  8,  9],\n",
              "       [10, 11, 12]])"
            ]
          },
          "metadata": {},
          "execution_count": 183
        }
      ]
    },
    {
      "cell_type": "code",
      "source": [
        "x = c.reshape(6,2)\n",
        "x"
      ],
      "metadata": {
        "id": "qUmWJCwtYwF6",
        "colab": {
          "base_uri": "https://localhost:8080/"
        },
        "outputId": "ccb77532-a27c-473f-97b6-8385c8a3286b"
      },
      "execution_count": 184,
      "outputs": [
        {
          "output_type": "execute_result",
          "data": {
            "text/plain": [
              "array([[ 1,  2],\n",
              "       [ 3,  4],\n",
              "       [ 5,  6],\n",
              "       [ 7,  8],\n",
              "       [ 9, 10],\n",
              "       [11, 12]])"
            ]
          },
          "metadata": {},
          "execution_count": 184
        }
      ]
    },
    {
      "cell_type": "code",
      "source": [],
      "metadata": {
        "id": "eq1Tgb6wZEyx"
      },
      "execution_count": null,
      "outputs": []
    },
    {
      "cell_type": "markdown",
      "metadata": {
        "id": "OoNOJuLv9oS2"
      },
      "source": [
        "### Flatten an ndarray"
      ]
    },
    {
      "cell_type": "code",
      "execution_count": 185,
      "metadata": {
        "id": "tZB-kg_29mR2",
        "colab": {
          "base_uri": "https://localhost:8080/"
        },
        "outputId": "3e3ec261-9b7f-4dd7-9aaa-ec19f988494e"
      },
      "outputs": [
        {
          "output_type": "execute_result",
          "data": {
            "text/plain": [
              "(2, 2, 3)"
            ]
          },
          "metadata": {},
          "execution_count": 185
        }
      ],
      "source": [
        "c = np.array([ [[1,2,3], [4,5,6]], [[7,8,9], [10,11,12]] ])\n",
        "c.shape"
      ]
    },
    {
      "cell_type": "code",
      "execution_count": 186,
      "metadata": {
        "id": "rdTm4a809nzA",
        "colab": {
          "base_uri": "https://localhost:8080/"
        },
        "outputId": "169690ac-8118-4c16-e5d1-43151d116853"
      },
      "outputs": [
        {
          "output_type": "stream",
          "name": "stdout",
          "text": [
            "[ 1  2  3  4  5  6  7  8  9 10 11 12]\n"
          ]
        }
      ],
      "source": [
        "x = c.flatten()\n",
        "print(x)"
      ]
    },
    {
      "cell_type": "code",
      "source": [
        "type(x)"
      ],
      "metadata": {
        "id": "aPJxETzBWu7S",
        "colab": {
          "base_uri": "https://localhost:8080/"
        },
        "outputId": "e99d3a7e-986c-4178-acbb-40720406dd1a"
      },
      "execution_count": 187,
      "outputs": [
        {
          "output_type": "execute_result",
          "data": {
            "text/plain": [
              "numpy.ndarray"
            ]
          },
          "metadata": {},
          "execution_count": 187
        }
      ]
    },
    {
      "cell_type": "markdown",
      "metadata": {
        "id": "CAjqubWM4TMF"
      },
      "source": [
        "### Creating array from existing data"
      ]
    },
    {
      "cell_type": "code",
      "execution_count": 188,
      "metadata": {
        "id": "76B8aT1O3WFF",
        "colab": {
          "base_uri": "https://localhost:8080/"
        },
        "outputId": "0e7d084b-3634-4bfc-a38b-4552583dd8e0"
      },
      "outputs": [
        {
          "output_type": "stream",
          "name": "stdout",
          "text": [
            "[3 4 5]\n"
          ]
        }
      ],
      "source": [
        "### [2:5]  -> [2,3,4]\n",
        "\n",
        "a = np.array([1,2,3,4,5,6])\n",
        "b = a[2:5]\n",
        "print(b)"
      ]
    },
    {
      "cell_type": "code",
      "source": [
        "type(b)"
      ],
      "metadata": {
        "id": "G6v8Cj7XXJhR",
        "colab": {
          "base_uri": "https://localhost:8080/"
        },
        "outputId": "b5723d04-e6eb-44c0-ceaf-b8a530d7cda0"
      },
      "execution_count": 189,
      "outputs": [
        {
          "output_type": "execute_result",
          "data": {
            "text/plain": [
              "numpy.ndarray"
            ]
          },
          "metadata": {},
          "execution_count": 189
        }
      ]
    },
    {
      "cell_type": "markdown",
      "metadata": {
        "id": "GIkKbfTj68w7"
      },
      "source": [
        "### Basic array operations"
      ]
    },
    {
      "cell_type": "code",
      "execution_count": 191,
      "metadata": {
        "id": "zH0rD4XF3GNl"
      },
      "outputs": [],
      "source": [
        "a = np.array([1,2])\n",
        "b = np.array([2,3])"
      ]
    },
    {
      "cell_type": "code",
      "execution_count": 192,
      "metadata": {
        "id": "hqpWpLRv7FWD",
        "colab": {
          "base_uri": "https://localhost:8080/"
        },
        "outputId": "7a4bf5e5-f7b7-4888-a662-d9822f2c93f7"
      },
      "outputs": [
        {
          "output_type": "execute_result",
          "data": {
            "text/plain": [
              "array([3, 5])"
            ]
          },
          "metadata": {},
          "execution_count": 192
        }
      ],
      "source": [
        "a+b"
      ]
    },
    {
      "cell_type": "code",
      "execution_count": 193,
      "metadata": {
        "id": "Dxdu16JL7AOM",
        "colab": {
          "base_uri": "https://localhost:8080/"
        },
        "outputId": "098cf744-f2f3-4230-fbf4-6f2534b21acd"
      },
      "outputs": [
        {
          "output_type": "execute_result",
          "data": {
            "text/plain": [
              "array([2, 6])"
            ]
          },
          "metadata": {},
          "execution_count": 193
        }
      ],
      "source": [
        "a*b"
      ]
    },
    {
      "cell_type": "code",
      "execution_count": 194,
      "metadata": {
        "id": "S2mkvsBa7HdM",
        "colab": {
          "base_uri": "https://localhost:8080/"
        },
        "outputId": "668761b9-aaf9-4c14-e52b-3d0c9ec3a8a4"
      },
      "outputs": [
        {
          "output_type": "execute_result",
          "data": {
            "text/plain": [
              "array([0.5       , 0.66666667])"
            ]
          },
          "metadata": {},
          "execution_count": 194
        }
      ],
      "source": [
        "a/b"
      ]
    },
    {
      "cell_type": "code",
      "source": [
        "a+10"
      ],
      "metadata": {
        "colab": {
          "base_uri": "https://localhost:8080/"
        },
        "id": "fwyvcmBao82z",
        "outputId": "48d44e85-e09b-4029-b804-c521747da2bc"
      },
      "execution_count": 196,
      "outputs": [
        {
          "output_type": "execute_result",
          "data": {
            "text/plain": [
              "array([11, 12])"
            ]
          },
          "metadata": {},
          "execution_count": 196
        }
      ]
    },
    {
      "cell_type": "code",
      "source": [
        "a *10"
      ],
      "metadata": {
        "id": "j0hdhuS7Xiua",
        "colab": {
          "base_uri": "https://localhost:8080/"
        },
        "outputId": "33d01662-68b0-4628-80ff-d30d9f98538f"
      },
      "execution_count": 197,
      "outputs": [
        {
          "output_type": "execute_result",
          "data": {
            "text/plain": [
              "array([10, 20])"
            ]
          },
          "metadata": {},
          "execution_count": 197
        }
      ]
    },
    {
      "cell_type": "code",
      "source": [
        "d = b/3"
      ],
      "metadata": {
        "id": "MTnf4EdaXmKy"
      },
      "execution_count": 198,
      "outputs": []
    },
    {
      "cell_type": "code",
      "source": [
        "print(d)"
      ],
      "metadata": {
        "colab": {
          "base_uri": "https://localhost:8080/"
        },
        "id": "D5BMFvY1pBGg",
        "outputId": "05e3e6e1-c247-47a8-c76b-47abf6f25eea"
      },
      "execution_count": 199,
      "outputs": [
        {
          "output_type": "stream",
          "name": "stdout",
          "text": [
            "[0.66666667 1.        ]\n"
          ]
        }
      ]
    },
    {
      "cell_type": "code",
      "source": [
        "np.round(d,2)"
      ],
      "metadata": {
        "id": "kOLfkQZAX1bX",
        "colab": {
          "base_uri": "https://localhost:8080/"
        },
        "outputId": "223967e5-9505-479b-b662-e8c9e2d38e47"
      },
      "execution_count": 200,
      "outputs": [
        {
          "output_type": "execute_result",
          "data": {
            "text/plain": [
              "array([0.67, 1.  ])"
            ]
          },
          "metadata": {},
          "execution_count": 200
        }
      ]
    },
    {
      "cell_type": "markdown",
      "metadata": {
        "id": "1sI9Hjgv7dAr"
      },
      "source": [
        "### Max/Min/Sum"
      ]
    },
    {
      "cell_type": "code",
      "execution_count": 201,
      "metadata": {
        "id": "2-GNHb157H1d"
      },
      "outputs": [],
      "source": [
        "a = np.array([1,2,3,4,5])"
      ]
    },
    {
      "cell_type": "code",
      "execution_count": 202,
      "metadata": {
        "id": "3qaoC3hM7KcU",
        "colab": {
          "base_uri": "https://localhost:8080/"
        },
        "outputId": "ff954382-9723-4be4-d605-e5e58d2c9c0a"
      },
      "outputs": [
        {
          "output_type": "execute_result",
          "data": {
            "text/plain": [
              "5"
            ]
          },
          "metadata": {},
          "execution_count": 202
        }
      ],
      "source": [
        "a.max()"
      ]
    },
    {
      "cell_type": "code",
      "execution_count": 203,
      "metadata": {
        "id": "XjOQ0wLw7UUF",
        "colab": {
          "base_uri": "https://localhost:8080/"
        },
        "outputId": "f2bf3c64-cc0b-452c-e27d-6c49c7e3e9ec"
      },
      "outputs": [
        {
          "output_type": "execute_result",
          "data": {
            "text/plain": [
              "1"
            ]
          },
          "metadata": {},
          "execution_count": 203
        }
      ],
      "source": [
        "a.min()"
      ]
    },
    {
      "cell_type": "code",
      "execution_count": 204,
      "metadata": {
        "id": "-rgNUhIt7Wuc",
        "colab": {
          "base_uri": "https://localhost:8080/"
        },
        "outputId": "7eb30599-52bd-498e-cff7-6f03cbe38bc6"
      },
      "outputs": [
        {
          "output_type": "execute_result",
          "data": {
            "text/plain": [
              "15"
            ]
          },
          "metadata": {},
          "execution_count": 204
        }
      ],
      "source": [
        "a.sum()"
      ]
    },
    {
      "cell_type": "code",
      "execution_count": 206,
      "metadata": {
        "id": "pZDHNP3k7WrD"
      },
      "outputs": [],
      "source": [
        "c = np.array([ [[1,2,3], [4,5,6]], [[7,8,9], [10,11,12]] ])"
      ]
    },
    {
      "cell_type": "code",
      "execution_count": 207,
      "metadata": {
        "id": "Fg0I3z3x7WmA",
        "colab": {
          "base_uri": "https://localhost:8080/"
        },
        "outputId": "3f93258d-34f1-4cbd-d70f-8af760247f7e"
      },
      "outputs": [
        {
          "output_type": "execute_result",
          "data": {
            "text/plain": [
              "12"
            ]
          },
          "metadata": {},
          "execution_count": 207
        }
      ],
      "source": [
        "c.max()"
      ]
    },
    {
      "cell_type": "code",
      "execution_count": 208,
      "metadata": {
        "id": "o5i0iw377Wix",
        "colab": {
          "base_uri": "https://localhost:8080/"
        },
        "outputId": "851422d9-d6c7-4a24-a294-97fb2dd8a371"
      },
      "outputs": [
        {
          "output_type": "execute_result",
          "data": {
            "text/plain": [
              "1"
            ]
          },
          "metadata": {},
          "execution_count": 208
        }
      ],
      "source": [
        "c.min()"
      ]
    },
    {
      "cell_type": "code",
      "execution_count": 209,
      "metadata": {
        "id": "uDAJGWQ67Vz8",
        "colab": {
          "base_uri": "https://localhost:8080/"
        },
        "outputId": "aaa7100a-154e-442f-acf8-ef75ab15ba5c"
      },
      "outputs": [
        {
          "output_type": "execute_result",
          "data": {
            "text/plain": [
              "78"
            ]
          },
          "metadata": {},
          "execution_count": 209
        }
      ],
      "source": [
        "c.sum()"
      ]
    },
    {
      "cell_type": "code",
      "execution_count": null,
      "metadata": {
        "id": "yjndfxjV8_Vr"
      },
      "outputs": [],
      "source": []
    },
    {
      "cell_type": "code",
      "execution_count": null,
      "metadata": {
        "id": "u4tWXk5k9BQk"
      },
      "outputs": [],
      "source": []
    },
    {
      "cell_type": "code",
      "execution_count": null,
      "metadata": {
        "id": "xaN_m88oEKa6"
      },
      "outputs": [],
      "source": []
    },
    {
      "cell_type": "markdown",
      "source": [
        "# Pandas"
      ],
      "metadata": {
        "id": "FpsBN_98-G-i"
      }
    },
    {
      "cell_type": "code",
      "source": [
        "pip install pandas"
      ],
      "metadata": {
        "id": "iZ2ad4za-GwM"
      },
      "execution_count": null,
      "outputs": []
    },
    {
      "cell_type": "code",
      "source": [
        "import pandas as pd"
      ],
      "metadata": {
        "id": "AM-zQyNeA76x"
      },
      "execution_count": null,
      "outputs": []
    },
    {
      "cell_type": "markdown",
      "source": [
        "### Series: a one-dimensional labeled array holding data of any type,\n",
        "such as integers, strings, Python objects etc.\n",
        "\n",
        "### DataFrame: a two-dimensional data structure that holds data like a two-dimension array or a table with rows and columns."
      ],
      "metadata": {
        "id": "0ckvFGiBBBXP"
      }
    },
    {
      "cell_type": "markdown",
      "source": [
        "### Object creation"
      ],
      "metadata": {
        "id": "VabLIt84BJIN"
      }
    },
    {
      "cell_type": "code",
      "source": [
        "s = pd.Series([0, 1, 3, 5, np.nan, 6, 8])"
      ],
      "metadata": {
        "id": "wf5lChmqA9Zt"
      },
      "execution_count": null,
      "outputs": []
    },
    {
      "cell_type": "code",
      "source": [
        "print(s)"
      ],
      "metadata": {
        "id": "LN2mXmY0TOjU"
      },
      "execution_count": null,
      "outputs": []
    },
    {
      "cell_type": "code",
      "source": [
        "print(type(s))"
      ],
      "metadata": {
        "id": "oeBO7dSHTOjb"
      },
      "execution_count": null,
      "outputs": []
    },
    {
      "cell_type": "code",
      "source": [
        "import pandas as pd\n",
        "\n",
        "calories = {\"day1\": 420, \"day2\": 380, \"day3\": 390}\n",
        "\n",
        "myvar = pd.Series(calories)\n",
        "\n",
        "print(myvar)"
      ],
      "metadata": {
        "id": "B4uxWgEHTOjb"
      },
      "execution_count": null,
      "outputs": []
    },
    {
      "cell_type": "code",
      "source": [
        "print(type(myvar))"
      ],
      "metadata": {
        "id": "Gt50BtmZTOjb"
      },
      "execution_count": null,
      "outputs": []
    },
    {
      "cell_type": "code",
      "source": [],
      "metadata": {
        "id": "YILvytndTOjb"
      },
      "execution_count": null,
      "outputs": []
    },
    {
      "cell_type": "code",
      "source": [
        "import pandas as pd\n",
        "\n",
        "data = {\n",
        "  \"Weight\": [80,77, 65, 73, 90],\n",
        "  \"Height\": [176, 182, 156, 172, 167],\n",
        "  'Age': [20,30,35, 25, 37]\n",
        "}\n",
        "\n",
        "#load data into a DataFrame object:\n",
        "df = pd.DataFrame(data)\n",
        "\n",
        "print(df)"
      ],
      "metadata": {
        "id": "nBVpUndVTOjb"
      },
      "execution_count": null,
      "outputs": []
    },
    {
      "cell_type": "code",
      "source": [
        "print(type(df))"
      ],
      "metadata": {
        "id": "k-gS1n1ATOjb"
      },
      "execution_count": null,
      "outputs": []
    },
    {
      "cell_type": "code",
      "source": [
        "import pandas as pd\n",
        "\n",
        "data = {\n",
        "  \"Weight\": [80, 77, 65, 73, 90],\n",
        "  \"Height\": [176, 182, 156, 172, 167]\n",
        "}\n",
        "\n",
        "#load data into a DataFrame object:\n",
        "df = pd.DataFrame(data, index = [\"Person1\", \"Person2\", \"Person3\", \"Person4\", \"Person5\"])\n",
        "\n",
        "print(df)"
      ],
      "metadata": {
        "id": "vspdTRAjTOjc"
      },
      "execution_count": null,
      "outputs": []
    },
    {
      "cell_type": "code",
      "source": [],
      "metadata": {
        "id": "rnY7PPamTQi1"
      },
      "execution_count": null,
      "outputs": []
    },
    {
      "cell_type": "code",
      "source": [],
      "metadata": {
        "id": "4M6XgHYmD5_S"
      },
      "execution_count": null,
      "outputs": []
    },
    {
      "cell_type": "markdown",
      "source": [
        "### Pandas Dataframe is a collection of Series"
      ],
      "metadata": {
        "id": "GH9hLyT2Cl7B"
      }
    },
    {
      "cell_type": "code",
      "source": [
        "df"
      ],
      "metadata": {
        "id": "f1GjQYIhcywx"
      },
      "execution_count": null,
      "outputs": []
    },
    {
      "cell_type": "code",
      "source": [
        "print(type(df[\"Weight\"]))"
      ],
      "metadata": {
        "id": "AaqZ5FA6Ce2k"
      },
      "execution_count": null,
      "outputs": []
    },
    {
      "cell_type": "markdown",
      "source": [
        "### Pandas Slicing"
      ],
      "metadata": {
        "id": "yFZzd7AVDLNY"
      }
    },
    {
      "cell_type": "code",
      "source": [
        "import pandas as pd\n",
        "\n",
        "data = {\n",
        "  \"Weight\": [80, 77, 65, 73, 90],\n",
        "  \"Height\": [176, 182, 156, 172, 167]\n",
        "}\n",
        "\n",
        "#load data into a DataFrame object:\n",
        "df = pd.DataFrame(data, index = [\"Person1\", \"Person2\", \"Person3\", \"Person4\", \"Person5\"])\n",
        "\n",
        "print(df)"
      ],
      "metadata": {
        "id": "7OLWNiivTevc"
      },
      "execution_count": null,
      "outputs": []
    },
    {
      "cell_type": "code",
      "source": [
        "df[\"Weight\"]"
      ],
      "metadata": {
        "id": "pTbk-dxRevac"
      },
      "execution_count": null,
      "outputs": []
    },
    {
      "cell_type": "code",
      "source": [
        "print(df.loc['Person1'])"
      ],
      "metadata": {
        "id": "TKT8LnlgTevi"
      },
      "execution_count": null,
      "outputs": []
    },
    {
      "cell_type": "code",
      "source": [
        "print(df.iloc[0])"
      ],
      "metadata": {
        "id": "TNHflrEYfV0h"
      },
      "execution_count": null,
      "outputs": []
    },
    {
      "cell_type": "code",
      "source": [
        "print(df.iloc[[0,2]])"
      ],
      "metadata": {
        "id": "gqzZR781Tevi"
      },
      "execution_count": null,
      "outputs": []
    },
    {
      "cell_type": "code",
      "source": [
        "import pandas as pd\n",
        "\n",
        "data = {\n",
        "  \"Weight\": [80, 77, 65, 73, 90],\n",
        "  \"Height\": [176, 182, 156, 172, 167]\n",
        "}\n",
        "\n",
        "#load data into a DataFrame object:\n",
        "df = pd.DataFrame(data, index = [\"Person1\", \"Person2\", \"Person3\", \"Person4\", \"Person5\"])\n",
        "\n",
        "print(df)"
      ],
      "metadata": {
        "id": "hgvNtw0RTevi"
      },
      "execution_count": null,
      "outputs": []
    },
    {
      "cell_type": "code",
      "source": [
        "print(df.loc[\"Person2\"])"
      ],
      "metadata": {
        "id": "aP2-grpqTevj"
      },
      "execution_count": null,
      "outputs": []
    },
    {
      "cell_type": "code",
      "source": [
        "print(df.iloc[0:3])"
      ],
      "metadata": {
        "id": "GYIhSla-ThHa"
      },
      "execution_count": null,
      "outputs": []
    },
    {
      "cell_type": "markdown",
      "source": [
        "### Reading a csv file"
      ],
      "metadata": {
        "id": "izWoOOi92oxK"
      }
    },
    {
      "cell_type": "code",
      "source": [
        "# df = pd.read_excel(\"/content/Bank_Loans_dataset.xlsx\")"
      ],
      "metadata": {
        "id": "2nVWe1lxnFXR"
      },
      "execution_count": null,
      "outputs": []
    },
    {
      "cell_type": "code",
      "source": [
        "df = pd.read_csv(\"/content/Bank_Loans_dataset.csv\")"
      ],
      "metadata": {
        "id": "BvMTMB372oRs"
      },
      "execution_count": null,
      "outputs": []
    },
    {
      "cell_type": "code",
      "source": [
        "df"
      ],
      "metadata": {
        "id": "GsjSv7rg3XZs"
      },
      "execution_count": null,
      "outputs": []
    },
    {
      "cell_type": "code",
      "source": [
        "df.shape"
      ],
      "metadata": {
        "id": "8EGNKOspEgO8"
      },
      "execution_count": null,
      "outputs": []
    },
    {
      "cell_type": "code",
      "source": [
        "df.head()"
      ],
      "metadata": {
        "id": "1ZUu1oJK3IA8"
      },
      "execution_count": null,
      "outputs": []
    },
    {
      "cell_type": "code",
      "source": [
        "df.tail()"
      ],
      "metadata": {
        "id": "5F82TTVa3VKJ"
      },
      "execution_count": null,
      "outputs": []
    },
    {
      "cell_type": "code",
      "source": [
        "df.columns"
      ],
      "metadata": {
        "id": "DdftkDH16PJ1"
      },
      "execution_count": null,
      "outputs": []
    },
    {
      "cell_type": "code",
      "source": [
        "df.shape"
      ],
      "metadata": {
        "id": "vWHNoPtq3bXo"
      },
      "execution_count": null,
      "outputs": []
    },
    {
      "cell_type": "code",
      "source": [
        "df.head()"
      ],
      "metadata": {
        "id": "X1i0f2pUml94"
      },
      "execution_count": null,
      "outputs": []
    },
    {
      "cell_type": "code",
      "source": [
        "df.info()"
      ],
      "metadata": {
        "id": "jfLunA863eBo"
      },
      "execution_count": null,
      "outputs": []
    },
    {
      "cell_type": "code",
      "source": [
        "df.dtypes"
      ],
      "metadata": {
        "id": "Q0I1Vnkt3f84"
      },
      "execution_count": null,
      "outputs": []
    },
    {
      "cell_type": "markdown",
      "source": [
        "### Changing Data type"
      ],
      "metadata": {
        "id": "h9MdGTdG4SOm"
      }
    },
    {
      "cell_type": "code",
      "source": [
        "# loan_id:\n",
        "df['loan_id'] = df['loan_id'].astype('object')\n",
        "# repaid:\n",
        "df['repaid'] = df['repaid'].astype('category')"
      ],
      "metadata": {
        "id": "wClWgjS63ong"
      },
      "execution_count": null,
      "outputs": []
    },
    {
      "cell_type": "code",
      "source": [
        "# loan_start:\n",
        "df['loan_start'] = pd.to_datetime(df['loan_start'])\n",
        "# loan_end:\n",
        "df['loan_end'] = pd.to_datetime(df['loan_end'], format = '%Y-%m-%d')"
      ],
      "metadata": {
        "id": "HIzdEf7W3_wY"
      },
      "execution_count": null,
      "outputs": []
    },
    {
      "cell_type": "code",
      "source": [],
      "metadata": {
        "id": "im5tlff74J14"
      },
      "execution_count": null,
      "outputs": []
    },
    {
      "cell_type": "code",
      "source": [],
      "metadata": {
        "id": "NRY9Fb4x4LD8"
      },
      "execution_count": null,
      "outputs": []
    },
    {
      "cell_type": "code",
      "source": [],
      "metadata": {
        "id": "7TZoDJKU4RMs"
      },
      "execution_count": null,
      "outputs": []
    },
    {
      "cell_type": "markdown",
      "source": [
        "### Pandas Slicing"
      ],
      "metadata": {
        "id": "PT0unZbf7v4i"
      }
    },
    {
      "cell_type": "markdown",
      "source": [
        "### In columns"
      ],
      "metadata": {
        "id": "CgVG8eAt707Z"
      }
    },
    {
      "cell_type": "code",
      "source": [],
      "metadata": {
        "id": "QupkERj074Wj"
      },
      "execution_count": null,
      "outputs": []
    },
    {
      "cell_type": "code",
      "source": [],
      "metadata": {
        "id": "1cFGBdTW7vpJ"
      },
      "execution_count": null,
      "outputs": []
    },
    {
      "cell_type": "code",
      "source": [],
      "metadata": {
        "id": "FmAq6pUg7vcB"
      },
      "execution_count": null,
      "outputs": []
    },
    {
      "cell_type": "markdown",
      "source": [
        "### in rows"
      ],
      "metadata": {
        "id": "IC1abAl48SgV"
      }
    },
    {
      "cell_type": "code",
      "source": [],
      "metadata": {
        "id": "4fVgvtpD8KEL"
      },
      "execution_count": null,
      "outputs": []
    },
    {
      "cell_type": "code",
      "source": [],
      "metadata": {
        "id": "tyiU2N-38KAI"
      },
      "execution_count": null,
      "outputs": []
    },
    {
      "cell_type": "code",
      "source": [],
      "metadata": {
        "id": "26QWA4qx8J8C"
      },
      "execution_count": null,
      "outputs": []
    },
    {
      "cell_type": "markdown",
      "source": [
        "### Replacing values"
      ],
      "metadata": {
        "id": "04huRxeg62DC"
      }
    },
    {
      "cell_type": "code",
      "source": [],
      "metadata": {
        "id": "L5MSm2Yr61ij"
      },
      "execution_count": null,
      "outputs": []
    },
    {
      "cell_type": "code",
      "source": [],
      "metadata": {
        "id": "7RE1bXoz61Z6"
      },
      "execution_count": null,
      "outputs": []
    },
    {
      "cell_type": "markdown",
      "source": [
        "### Let's check the missing value"
      ],
      "metadata": {
        "id": "KPGnxykF4qR1"
      }
    },
    {
      "cell_type": "code",
      "source": [],
      "metadata": {
        "id": "KGNnRd2J4cVa"
      },
      "execution_count": null,
      "outputs": []
    },
    {
      "cell_type": "code",
      "source": [],
      "metadata": {
        "id": "bddXNnVk4ot1"
      },
      "execution_count": null,
      "outputs": []
    },
    {
      "cell_type": "code",
      "source": [],
      "metadata": {
        "id": "8tsUZiWV4okD"
      },
      "execution_count": null,
      "outputs": []
    },
    {
      "cell_type": "code",
      "source": [],
      "metadata": {
        "id": "DnOQZSD07KGP"
      },
      "execution_count": null,
      "outputs": []
    },
    {
      "cell_type": "markdown",
      "source": [
        "###### Replace the missing value with a value/mean/meadina/mode"
      ],
      "metadata": {
        "id": "GnZLezjS6XT0"
      }
    },
    {
      "cell_type": "code",
      "source": [],
      "metadata": {
        "id": "_x_F5Fuk4ogL"
      },
      "execution_count": null,
      "outputs": []
    },
    {
      "cell_type": "code",
      "source": [
        "import pandas as pd\n",
        "\n",
        "df = pd.read_csv('/content/Bank_Loans_dataset.csv')\n",
        "\n",
        "x = df[\"loan_amount\"].mean()\n",
        "# x = df[\"loan_amount\"].median()\n",
        "# x = df[\"loan_amount\"].mode()[0]\n",
        "\n",
        "df[\"loan_amount\"].fillna(x, inplace = True)"
      ],
      "metadata": {
        "id": "ugEpojK36IYS"
      },
      "execution_count": null,
      "outputs": []
    },
    {
      "cell_type": "code",
      "source": [],
      "metadata": {
        "id": "vcIzvt3i6T3b"
      },
      "execution_count": null,
      "outputs": []
    },
    {
      "cell_type": "markdown",
      "source": [
        "### Correlation"
      ],
      "metadata": {
        "id": "NDxkmxjx7MPv"
      }
    },
    {
      "cell_type": "code",
      "source": [],
      "metadata": {
        "id": "_cKBUaHr7UUn"
      },
      "execution_count": null,
      "outputs": []
    },
    {
      "cell_type": "code",
      "source": [],
      "metadata": {
        "id": "FFBqzOp96Tny"
      },
      "execution_count": null,
      "outputs": []
    },
    {
      "cell_type": "code",
      "source": [],
      "metadata": {
        "id": "qVu0jrdM6Thy"
      },
      "execution_count": null,
      "outputs": []
    },
    {
      "cell_type": "markdown",
      "source": [
        "# Matplotlib"
      ],
      "metadata": {
        "id": "noiix7lC9UPQ"
      }
    },
    {
      "cell_type": "code",
      "source": [
        "import matplotlib.pyplot as plt\n",
        "\n",
        "plt.plot([1, 2, 4, 7, 4, 2, 1])\n",
        "plt.show() # You must call plt.show() to render your final plot."
      ],
      "metadata": {
        "id": "gfz35aoaDYuB"
      },
      "execution_count": null,
      "outputs": []
    },
    {
      "cell_type": "code",
      "source": [
        "import matplotlib.pyplot as plt\n",
        "\n",
        "plt.plot([-3, -2, 5, 0], [1, 6, 4, 3])\n",
        "plt.show()"
      ],
      "metadata": {
        "id": "Ee1_diDdDYrK"
      },
      "execution_count": null,
      "outputs": []
    },
    {
      "cell_type": "code",
      "source": [
        "import matplotlib.pyplot as plt\n",
        "import numpy as np\n",
        "\n",
        "x = np.array([1, 2])\n",
        "y = np.array([3, 4])\n",
        "plt.scatter(x, y, color=[\"r\",\"b\"]) # Read more on the color argument in the examples section below.\n",
        "plt.show()"
      ],
      "metadata": {
        "id": "j36KqUyGDYok"
      },
      "execution_count": null,
      "outputs": []
    },
    {
      "cell_type": "code",
      "source": [
        "import matplotlib.pyplot as plt\n",
        "\n",
        "plt.plot([-3, -2, 5, 0], [1, 6, 4, 3])\n",
        "plt.axis([-4, 6, 0, 7])\n",
        "plt.show()"
      ],
      "metadata": {
        "id": "eQZqIdnnDYjA"
      },
      "execution_count": null,
      "outputs": []
    },
    {
      "cell_type": "code",
      "source": [
        "import matplotlib.pyplot as plt\n",
        "import numpy as np\n",
        "\n",
        "x = np.linspace(-2, 2, 50)\n",
        "plt.plot(x, x**2, \"r--\", label=\"Square function\")\n",
        "plt.plot(x, x**3, \"g-\", label=\"Cube function\")\n",
        "plt.legend(loc=\"best\")\n",
        "plt.grid(True)\n",
        "plt.show()"
      ],
      "metadata": {
        "id": "8SrY9ORQEKAL"
      },
      "execution_count": null,
      "outputs": []
    },
    {
      "cell_type": "code",
      "source": [
        "import numpy as np\n",
        "import matplotlib.pyplot as plt\n",
        "\n",
        "x = np.linspace(-2, 2, 50)\n",
        "plt.plot(x, x**2, \"r--\", label=\"Square function\")\n",
        "\n",
        "# Add a legend\n",
        "plt.legend(['Square plot'], fontsize=7)\n",
        "\n",
        "# Set X and Y Labels\n",
        "plt.xlabel('x', fontsize=12)\n",
        "plt.ylabel('x^2', fontsize=12)\n",
        "\n",
        "# Add a plot title\n",
        "plt.title('Square function', fontsize=15)\n",
        "\n",
        "plt.grid(True)\n",
        "plt.show()"
      ],
      "metadata": {
        "id": "un06ipsgEUpy"
      },
      "execution_count": null,
      "outputs": []
    },
    {
      "cell_type": "code",
      "source": [
        "import matplotlib.pyplot as plt\n",
        "import numpy as np\n",
        "\n",
        "x = np.linspace(-2.0, 2.0, 30)\n",
        "\n",
        "plt.subplot(2, 2, 1) # 2 rows, 2 columns, 1st subplot = top left\n",
        "plt.plot(x, x)\n",
        "plt.subplot(2, 2, 2) # 2 rows, 2 columns, 2nd subplot = top right\n",
        "plt.plot(x, x**2)\n",
        "plt.subplot(2, 2, 3) # 2 rows, 2 columns, 3rd subplot = bottow left\n",
        "plt.plot(x, x**3)\n",
        "plt.subplot(2, 2, 4) # 2 rows, 2 columns, 4th subplot = bottom right\n",
        "plt.plot(x, x**4)\n",
        "plt.show()"
      ],
      "metadata": {
        "id": "7uNdIYTbDYf6"
      },
      "execution_count": null,
      "outputs": []
    },
    {
      "cell_type": "code",
      "source": [
        "import matplotlib.pyplot as plt\n",
        "import numpy as np\n",
        "\n",
        "plt.subplot(2, 2, 1)  # 2 rows, 2 columns, 1st subplot = top left\n",
        "plt.plot(x, x)\n",
        "plt.subplot(2, 2, 2)  # 2 rows, 2 columns, 2nd subplot = top right\n",
        "plt.plot(x, x**2)\n",
        "plt.subplot(2, 1, 2)  # 2 rows, *1* column, 2nd subplot = bottom\n",
        "plt.plot(x, x**3)\n",
        "plt.show()"
      ],
      "metadata": {
        "id": "NG6xa_JyDYdF"
      },
      "execution_count": null,
      "outputs": []
    },
    {
      "cell_type": "code",
      "source": [],
      "metadata": {
        "id": "HTPWzeh4DYaS"
      },
      "execution_count": null,
      "outputs": []
    },
    {
      "cell_type": "markdown",
      "source": [
        "# Plot with Pandas and Matplotlib"
      ],
      "metadata": {
        "id": "W1oXPvQLvwl5"
      }
    },
    {
      "cell_type": "markdown",
      "source": [
        "### With Pandas"
      ],
      "metadata": {
        "id": "2hNfGwrn_M3b"
      }
    },
    {
      "cell_type": "code",
      "source": [
        "import pandas as pd\n",
        "\n",
        "df = pd.read_csv(\"/content/stroke.csv\")\n",
        "df.head()"
      ],
      "metadata": {
        "id": "bgWhHUMXDYXP"
      },
      "execution_count": null,
      "outputs": []
    },
    {
      "cell_type": "code",
      "source": [
        "df.columns"
      ],
      "metadata": {
        "id": "WOXby7d3wy7X"
      },
      "execution_count": null,
      "outputs": []
    },
    {
      "cell_type": "code",
      "source": [
        "df.plot(kind='scatter', x = \"age\", y = \"heart_disease\", title=\"Scatter Plot\")"
      ],
      "metadata": {
        "id": "BP3fG2pQDYT1"
      },
      "execution_count": null,
      "outputs": []
    },
    {
      "cell_type": "code",
      "source": [
        "df.plot(kind='scatter', x = \"age\", y = \"bmi\", title=\"Scatter Plot\")"
      ],
      "metadata": {
        "id": "v3mq4RmODYOi"
      },
      "execution_count": null,
      "outputs": []
    },
    {
      "cell_type": "code",
      "source": [
        "df.plot(kind='scatter', x = \"age\", y = \"stroke\", title=\"Scatter Plot\")"
      ],
      "metadata": {
        "id": "94txNpHcxNhR"
      },
      "execution_count": null,
      "outputs": []
    },
    {
      "cell_type": "code",
      "source": [],
      "metadata": {
        "id": "GfIxxGL53clS"
      },
      "execution_count": null,
      "outputs": []
    },
    {
      "cell_type": "markdown",
      "source": [
        "### With Matplotlib"
      ],
      "metadata": {
        "id": "moaOv6wT_P8X"
      }
    },
    {
      "cell_type": "code",
      "source": [
        "import numpy as np\n",
        "import pandas as pd\n",
        "import matplotlib.pyplot as plt"
      ],
      "metadata": {
        "id": "7sV1lT62_PkZ"
      },
      "execution_count": null,
      "outputs": []
    },
    {
      "cell_type": "code",
      "source": [
        "df = pd.read_csv(\"/content/bank.csv\", sep=';')\n",
        "df.head()"
      ],
      "metadata": {
        "id": "s-RPO0z03Exi"
      },
      "execution_count": null,
      "outputs": []
    },
    {
      "cell_type": "code",
      "source": [
        "plt.plot(df['balance'])\n",
        "plt.show()"
      ],
      "metadata": {
        "id": "dR1-UXPL_lYg"
      },
      "execution_count": null,
      "outputs": []
    },
    {
      "cell_type": "code",
      "source": [
        "plt.plot(df['balance'])\n",
        "plt.xlabel('Customer')\n",
        "plt.ylabel('Balance')\n",
        "plt.title('Customer Balance')\n",
        "plt.legend()\n",
        "plt.show()"
      ],
      "metadata": {
        "id": "uQew--q5_tbw"
      },
      "execution_count": null,
      "outputs": []
    },
    {
      "cell_type": "code",
      "source": [
        "plt.hist(df['balance'])\n",
        "plt.ylabel('Customer')\n",
        "plt.xlabel('Balance')\n",
        "plt.title('Customer Balance Distribution')\n",
        "plt.show()"
      ],
      "metadata": {
        "id": "1wgD2OXc_0u4"
      },
      "execution_count": null,
      "outputs": []
    },
    {
      "cell_type": "code",
      "source": [
        "plt.bar(data['marital'], df['balance'])\n",
        "plt.xlabel('Marital Status')\n",
        "plt.ylabel('Balance')\n",
        "plt.title('Customer Balance Distribution')\n",
        "plt.show()"
      ],
      "metadata": {
        "id": "YHJQ3qlIBevm"
      },
      "execution_count": null,
      "outputs": []
    },
    {
      "cell_type": "code",
      "source": [
        "plt.bar(data['housing'], df['balance'])\n",
        "plt.xlabel('Housing')\n",
        "plt.ylabel('Balance')\n",
        "plt.title('Customer Balance Distribution')\n",
        "plt.show()"
      ],
      "metadata": {
        "id": "toTsJgQjCGPN"
      },
      "execution_count": null,
      "outputs": []
    },
    {
      "cell_type": "code",
      "source": [
        "plt.scatter(data['age'], data['balance'])\n",
        "plt.show()"
      ],
      "metadata": {
        "id": "StnR4kyqAGpR"
      },
      "execution_count": null,
      "outputs": []
    },
    {
      "cell_type": "code",
      "source": [
        "plt.scatter(data['age'], data['balance'])\n",
        "plt.xlabel('Age')\n",
        "plt.ylabel('Balance')\n",
        "plt.title(\"Balance by Age\")\n",
        "plt.show()"
      ],
      "metadata": {
        "id": "rtIsZQKKAcjS"
      },
      "execution_count": null,
      "outputs": []
    },
    {
      "cell_type": "code",
      "source": [
        "plt.pie(data['marital'].value_counts())\n",
        "plt.show()"
      ],
      "metadata": {
        "id": "92cJfyjbAhyS"
      },
      "execution_count": null,
      "outputs": []
    },
    {
      "cell_type": "code",
      "source": [
        "plt.pie(data['marital'].value_counts(), labels = data['marital'].value_counts().keys())\n",
        "plt.legend()\n",
        "plt.show()"
      ],
      "metadata": {
        "id": "JP7rqE_UCaNX"
      },
      "execution_count": null,
      "outputs": []
    }
  ],
  "metadata": {
    "colab": {
      "provenance": []
    },
    "kernelspec": {
      "display_name": "Python 3 (ipykernel)",
      "language": "python",
      "name": "python3"
    },
    "language_info": {
      "codemirror_mode": {
        "name": "ipython",
        "version": 3
      },
      "file_extension": ".py",
      "mimetype": "text/x-python",
      "name": "python",
      "nbconvert_exporter": "python",
      "pygments_lexer": "ipython3",
      "version": "3.12.3"
    }
  },
  "nbformat": 4,
  "nbformat_minor": 0
}