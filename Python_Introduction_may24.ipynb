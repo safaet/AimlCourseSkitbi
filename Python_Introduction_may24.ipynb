{
  "cells": [
    {
      "cell_type": "markdown",
      "id": "0087231c-39cd-443a-807d-d459c84fedc3",
      "metadata": {
        "id": "0087231c-39cd-443a-807d-d459c84fedc3"
      },
      "source": [
        "# What is Python?\n",
        "### Python is a popular programming language. It was created by Guido van Rossum, and released in 1991.\n"
      ]
    },
    {
      "cell_type": "markdown",
      "id": "c8f24f47-6112-4f2e-bee5-94825b2ff080",
      "metadata": {
        "id": "c8f24f47-6112-4f2e-bee5-94825b2ff080"
      },
      "source": [
        "# What can Python do?\n",
        "- Python can be used on a server to create web applications.\n",
        "- Python can be used alongside software to create workflows.\n",
        "- Python can connect to database systems. It can also read and modify files.\n",
        "- Python can be used to handle big data and perform complex mathematics.\n",
        "- Python can be used for rapid prototyping, or for production-ready software development."
      ]
    },
    {
      "cell_type": "markdown",
      "id": "8b2a0bc1-1b5a-4fd6-b57f-9d6a2c7a92e5",
      "metadata": {
        "id": "8b2a0bc1-1b5a-4fd6-b57f-9d6a2c7a92e5"
      },
      "source": [
        "# Why Python?\n",
        "- Python works on different platforms (Windows, Mac, Linux, Raspberry Pi, etc).\n",
        "- Python has a simple syntax similar to the English language.\n",
        "- Python has syntax that allows developers to write programs with fewer lines than some other programming languages.\n",
        "- Python runs on an interpreter system, meaning that code can be executed as soon as it is written. This means that prototyping can be very quick.\n",
        "- Python can be treated in a procedural way, an object-oriented way or a functional way."
      ]
    },
    {
      "cell_type": "markdown",
      "id": "62c8b2a5-ef81-4022-92ce-503442b31635",
      "metadata": {
        "id": "62c8b2a5-ef81-4022-92ce-503442b31635"
      },
      "source": [
        "# Start with Python\n",
        "### Print a statement"
      ]
    },
    {
      "cell_type": "code",
      "execution_count": null,
      "id": "a7a368fd-3e42-44f2-ada8-0a47c2bf9464",
      "metadata": {
        "colab": {
          "base_uri": "https://localhost:8080/"
        },
        "id": "a7a368fd-3e42-44f2-ada8-0a47c2bf9464",
        "outputId": "3d36b0e3-167f-482d-812f-faa0ad5e7ebe"
      },
      "outputs": [
        {
          "name": "stdout",
          "output_type": "stream",
          "text": [
            "Hello World\n"
          ]
        }
      ],
      "source": [
        "print(\"Hello World\")"
      ]
    },
    {
      "cell_type": "code",
      "execution_count": null,
      "id": "KqLWoNm069wh",
      "metadata": {
        "colab": {
          "base_uri": "https://localhost:8080/"
        },
        "id": "KqLWoNm069wh",
        "outputId": "b48ff1d9-7b54-435b-e886-637f55c1db28"
      },
      "outputs": [
        {
          "name": "stdout",
          "output_type": "stream",
          "text": [
            "This is ours first class with some issue.\n"
          ]
        }
      ],
      "source": [
        "print(\"This is ours first class with some issue.\")"
      ]
    },
    {
      "cell_type": "markdown",
      "id": "3394bb44-992c-493a-9ab9-1dde167e18de",
      "metadata": {
        "id": "3394bb44-992c-493a-9ab9-1dde167e18de"
      },
      "source": [
        "# Let's do some arithmetic operation\n",
        "### Addition"
      ]
    },
    {
      "cell_type": "code",
      "execution_count": null,
      "id": "d5116374-a27c-4bc8-977c-bbec6f6158a6",
      "metadata": {
        "colab": {
          "base_uri": "https://localhost:8080/"
        },
        "id": "d5116374-a27c-4bc8-977c-bbec6f6158a6",
        "outputId": "74c93362-3cb3-4c98-f810-0627bbc168de"
      },
      "outputs": [
        {
          "data": {
            "text/plain": [
              "7"
            ]
          },
          "execution_count": 9,
          "metadata": {},
          "output_type": "execute_result"
        }
      ],
      "source": [
        "5+2"
      ]
    },
    {
      "cell_type": "code",
      "execution_count": null,
      "id": "4d8aae0e-2805-4cea-b304-e4f1c4b006a1",
      "metadata": {
        "colab": {
          "base_uri": "https://localhost:8080/"
        },
        "id": "4d8aae0e-2805-4cea-b304-e4f1c4b006a1",
        "outputId": "0482de08-4ccc-4bb5-f79d-26cacbdc0d7b"
      },
      "outputs": [
        {
          "data": {
            "text/plain": [
              "40"
            ]
          },
          "execution_count": 10,
          "metadata": {},
          "output_type": "execute_result"
        }
      ],
      "source": [
        "10+30"
      ]
    },
    {
      "cell_type": "markdown",
      "id": "0099eea6-4df4-42f1-bf60-e55ab9fe642c",
      "metadata": {
        "id": "0099eea6-4df4-42f1-bf60-e55ab9fe642c"
      },
      "source": [
        "### Subtraction"
      ]
    },
    {
      "cell_type": "code",
      "execution_count": null,
      "id": "cc8e0799-b18d-4c93-aadf-b4fe5b87cdd4",
      "metadata": {
        "colab": {
          "base_uri": "https://localhost:8080/"
        },
        "id": "cc8e0799-b18d-4c93-aadf-b4fe5b87cdd4",
        "outputId": "618dc59b-9e69-41ce-d7a5-3ad1a8b72e82"
      },
      "outputs": [
        {
          "data": {
            "text/plain": [
              "24"
            ]
          },
          "execution_count": 11,
          "metadata": {},
          "output_type": "execute_result"
        }
      ],
      "source": [
        "57-33"
      ]
    },
    {
      "cell_type": "code",
      "execution_count": null,
      "id": "ae0dbd76-7c69-4805-9561-aa486b2fd232",
      "metadata": {
        "colab": {
          "base_uri": "https://localhost:8080/"
        },
        "id": "ae0dbd76-7c69-4805-9561-aa486b2fd232",
        "outputId": "51f2c1af-0f73-4de3-d830-d9dcdd3f3bf2"
      },
      "outputs": [
        {
          "data": {
            "text/plain": [
              "-60"
            ]
          },
          "execution_count": 12,
          "metadata": {},
          "output_type": "execute_result"
        }
      ],
      "source": [
        "60-120"
      ]
    },
    {
      "cell_type": "markdown",
      "id": "a20ea54a-a195-4719-851c-565900a1672c",
      "metadata": {
        "id": "a20ea54a-a195-4719-851c-565900a1672c"
      },
      "source": [
        "### Multiplication"
      ]
    },
    {
      "cell_type": "code",
      "execution_count": null,
      "id": "6e448796-b077-4c16-bcaa-7559d5f23996",
      "metadata": {
        "colab": {
          "base_uri": "https://localhost:8080/"
        },
        "id": "6e448796-b077-4c16-bcaa-7559d5f23996",
        "outputId": "a9699bfd-a397-4a5f-8672-35c0f60bec50"
      },
      "outputs": [
        {
          "data": {
            "text/plain": [
              "20"
            ]
          },
          "execution_count": 13,
          "metadata": {},
          "output_type": "execute_result"
        }
      ],
      "source": [
        "10*2"
      ]
    },
    {
      "cell_type": "code",
      "execution_count": null,
      "id": "1cc1c77f-1133-463a-bcc4-b789156316da",
      "metadata": {
        "colab": {
          "base_uri": "https://localhost:8080/"
        },
        "id": "1cc1c77f-1133-463a-bcc4-b789156316da",
        "outputId": "3bd00855-d27e-4435-adf5-ec037a93733c"
      },
      "outputs": [
        {
          "data": {
            "text/plain": [
              "60"
            ]
          },
          "execution_count": 14,
          "metadata": {},
          "output_type": "execute_result"
        }
      ],
      "source": [
        "20*3"
      ]
    },
    {
      "cell_type": "markdown",
      "id": "331c9ec1-b429-4903-9ced-137e8bac5b6d",
      "metadata": {
        "id": "331c9ec1-b429-4903-9ced-137e8bac5b6d"
      },
      "source": [
        "### Division"
      ]
    },
    {
      "cell_type": "code",
      "execution_count": null,
      "id": "e910bbeb-b00e-4ea1-9f0e-96dc84dab67d",
      "metadata": {
        "colab": {
          "base_uri": "https://localhost:8080/"
        },
        "id": "e910bbeb-b00e-4ea1-9f0e-96dc84dab67d",
        "outputId": "b2da9a5f-09f0-47d8-8f60-58dd780efc79"
      },
      "outputs": [
        {
          "data": {
            "text/plain": [
              "5.0"
            ]
          },
          "execution_count": 15,
          "metadata": {},
          "output_type": "execute_result"
        }
      ],
      "source": [
        "10/2"
      ]
    },
    {
      "cell_type": "code",
      "execution_count": null,
      "id": "c749c186-87cf-4a4b-aabc-591575a61a04",
      "metadata": {
        "colab": {
          "base_uri": "https://localhost:8080/"
        },
        "id": "c749c186-87cf-4a4b-aabc-591575a61a04",
        "outputId": "f53fca73-9cff-4757-9b82-91e7e333f5d5"
      },
      "outputs": [
        {
          "data": {
            "text/plain": [
              "5.5"
            ]
          },
          "execution_count": 16,
          "metadata": {},
          "output_type": "execute_result"
        }
      ],
      "source": [
        "11/2"
      ]
    },
    {
      "cell_type": "markdown",
      "id": "54b52d95-2bbc-48aa-a939-3f1e9919e900",
      "metadata": {
        "id": "54b52d95-2bbc-48aa-a939-3f1e9919e900"
      },
      "source": [
        "### Floor division\n",
        "#### Floor and Ceil\n",
        "#### Floor -> Lower Whole number\n",
        "#### Ceil -> Higher Whole number"
      ]
    },
    {
      "cell_type": "code",
      "execution_count": null,
      "id": "615dbfc5-6681-4830-9792-dae2c0928757",
      "metadata": {
        "colab": {
          "base_uri": "https://localhost:8080/"
        },
        "id": "615dbfc5-6681-4830-9792-dae2c0928757",
        "outputId": "a387575d-d2fd-45bd-a4ce-c5be43010fcb"
      },
      "outputs": [
        {
          "data": {
            "text/plain": [
              "5"
            ]
          },
          "execution_count": 17,
          "metadata": {},
          "output_type": "execute_result"
        }
      ],
      "source": [
        "11//2"
      ]
    },
    {
      "cell_type": "code",
      "execution_count": null,
      "id": "vp2D1vez91Qz",
      "metadata": {
        "colab": {
          "base_uri": "https://localhost:8080/"
        },
        "id": "vp2D1vez91Qz",
        "outputId": "e43e7c5b-39cf-432d-b0df-837455cffb90"
      },
      "outputs": [
        {
          "data": {
            "text/plain": [
              "33"
            ]
          },
          "execution_count": 19,
          "metadata": {},
          "output_type": "execute_result"
        }
      ],
      "source": [
        "100//3"
      ]
    },
    {
      "cell_type": "markdown",
      "id": "2628c958-89fa-4f3e-b861-93b7818593b9",
      "metadata": {
        "id": "2628c958-89fa-4f3e-b861-93b7818593b9"
      },
      "source": [
        "### Exponentiation"
      ]
    },
    {
      "cell_type": "code",
      "execution_count": null,
      "id": "a4ddecaa-49ec-4f8d-a58b-a12fc416f5e9",
      "metadata": {
        "colab": {
          "base_uri": "https://localhost:8080/"
        },
        "id": "a4ddecaa-49ec-4f8d-a58b-a12fc416f5e9",
        "outputId": "d91b32b2-0f9f-4de7-dab1-6000fec078f0"
      },
      "outputs": [
        {
          "data": {
            "text/plain": [
              "25"
            ]
          },
          "execution_count": 20,
          "metadata": {},
          "output_type": "execute_result"
        }
      ],
      "source": [
        "5**2"
      ]
    },
    {
      "cell_type": "code",
      "execution_count": null,
      "id": "c1b0931f-4517-4abf-b82d-117cb23fdd96",
      "metadata": {
        "colab": {
          "base_uri": "https://localhost:8080/"
        },
        "id": "c1b0931f-4517-4abf-b82d-117cb23fdd96",
        "outputId": "bdff869d-0b20-4967-b033-574cf019a76e"
      },
      "outputs": [
        {
          "data": {
            "text/plain": [
              "1000"
            ]
          },
          "execution_count": 21,
          "metadata": {},
          "output_type": "execute_result"
        }
      ],
      "source": [
        "10**3"
      ]
    },
    {
      "cell_type": "markdown",
      "id": "47dae4bc-0b85-4641-a073-51aa534053ff",
      "metadata": {
        "id": "47dae4bc-0b85-4641-a073-51aa534053ff"
      },
      "source": [
        "### Modulus"
      ]
    },
    {
      "cell_type": "code",
      "execution_count": null,
      "id": "d0804160-77e2-44e4-b1d7-08f8b4e545f6",
      "metadata": {
        "colab": {
          "base_uri": "https://localhost:8080/"
        },
        "id": "d0804160-77e2-44e4-b1d7-08f8b4e545f6",
        "outputId": "a87d59fa-56b1-446c-ce9d-2bbe011c3ce0"
      },
      "outputs": [
        {
          "data": {
            "text/plain": [
              "1"
            ]
          },
          "execution_count": 22,
          "metadata": {},
          "output_type": "execute_result"
        }
      ],
      "source": [
        "100%3"
      ]
    },
    {
      "cell_type": "code",
      "execution_count": null,
      "id": "6a60ce41-9c12-40f0-b4e4-6dcabc0d16f2",
      "metadata": {
        "colab": {
          "base_uri": "https://localhost:8080/"
        },
        "id": "6a60ce41-9c12-40f0-b4e4-6dcabc0d16f2",
        "outputId": "8598f243-f542-4bd6-924a-b4fcb189fda5"
      },
      "outputs": [
        {
          "data": {
            "text/plain": [
              "0"
            ]
          },
          "execution_count": 24,
          "metadata": {},
          "output_type": "execute_result"
        }
      ],
      "source": [
        "777%7"
      ]
    },
    {
      "cell_type": "markdown",
      "id": "8fcddbda-d49c-4f5b-acbe-6dab6c8fde63",
      "metadata": {
        "id": "8fcddbda-d49c-4f5b-acbe-6dab6c8fde63"
      },
      "source": [
        "# Data Type\n",
        "- Text Type\n",
        "- Numeric Types\n",
        "- Boolean Type\n",
        "- Binary Types\n",
        "- None Type"
      ]
    },
    {
      "cell_type": "code",
      "execution_count": null,
      "id": "32fb33be-8bd7-4e10-a112-e73e33be4e84",
      "metadata": {
        "colab": {
          "base_uri": "https://localhost:8080/",
          "height": 35
        },
        "id": "32fb33be-8bd7-4e10-a112-e73e33be4e84",
        "outputId": "559470bf-55e0-4e27-e937-d44897980086"
      },
      "outputs": [
        {
          "data": {
            "application/vnd.google.colaboratory.intrinsic+json": {
              "type": "string"
            },
            "text/plain": [
              "'Hello World'"
            ]
          },
          "execution_count": 26,
          "metadata": {},
          "output_type": "execute_result"
        }
      ],
      "source": [
        "\"Hello World\""
      ]
    },
    {
      "cell_type": "code",
      "execution_count": null,
      "id": "ec9a5893-4cc3-461c-b2fa-4d6ccc1dc2cc",
      "metadata": {
        "colab": {
          "base_uri": "https://localhost:8080/",
          "height": 35
        },
        "id": "ec9a5893-4cc3-461c-b2fa-4d6ccc1dc2cc",
        "outputId": "9393378c-2279-45bb-dffb-29b41ba11664"
      },
      "outputs": [
        {
          "data": {
            "application/vnd.google.colaboratory.intrinsic+json": {
              "type": "string"
            },
            "text/plain": [
              "'Hello World'"
            ]
          },
          "execution_count": 25,
          "metadata": {},
          "output_type": "execute_result"
        }
      ],
      "source": [
        "'Hello World'"
      ]
    },
    {
      "cell_type": "code",
      "execution_count": null,
      "id": "b592ddab-a353-4875-9acf-19cb86886503",
      "metadata": {
        "colab": {
          "base_uri": "https://localhost:8080/",
          "height": 35
        },
        "id": "b592ddab-a353-4875-9acf-19cb86886503",
        "outputId": "14d31262-6d48-409e-9112-92889f4c05b4"
      },
      "outputs": [
        {
          "data": {
            "application/vnd.google.colaboratory.intrinsic+json": {
              "type": "string"
            },
            "text/plain": [
              "'123.123344'"
            ]
          },
          "execution_count": 28,
          "metadata": {},
          "output_type": "execute_result"
        }
      ],
      "source": [
        "'123.123344'"
      ]
    },
    {
      "cell_type": "markdown",
      "id": "viJ7I7vR-sFl",
      "metadata": {
        "id": "viJ7I7vR-sFl"
      },
      "source": [
        "##### Numeric\n",
        "##### Integer and Float\n",
        "##### Integer -> Whole number\n",
        "##### Float -> Fraction"
      ]
    },
    {
      "cell_type": "code",
      "execution_count": null,
      "id": "WOlRcit2-irT",
      "metadata": {
        "colab": {
          "base_uri": "https://localhost:8080/"
        },
        "id": "WOlRcit2-irT",
        "outputId": "372154a9-8438-4e18-b18a-068dc4572656"
      },
      "outputs": [
        {
          "data": {
            "text/plain": [
              "10"
            ]
          },
          "execution_count": 29,
          "metadata": {},
          "output_type": "execute_result"
        }
      ],
      "source": [
        "10"
      ]
    },
    {
      "cell_type": "code",
      "execution_count": null,
      "id": "OrA2Ibtl-nh1",
      "metadata": {
        "colab": {
          "base_uri": "https://localhost:8080/"
        },
        "id": "OrA2Ibtl-nh1",
        "outputId": "a9a7e112-82ff-4d89-f085-6aa7ed949d57"
      },
      "outputs": [
        {
          "data": {
            "text/plain": [
              "10.444"
            ]
          },
          "execution_count": 30,
          "metadata": {},
          "output_type": "execute_result"
        }
      ],
      "source": [
        "10.444"
      ]
    },
    {
      "cell_type": "code",
      "execution_count": null,
      "id": "ocGKEv_X-nen",
      "metadata": {
        "id": "ocGKEv_X-nen"
      },
      "outputs": [],
      "source": []
    },
    {
      "cell_type": "markdown",
      "id": "59pqR840_Cdy",
      "metadata": {
        "id": "59pqR840_Cdy"
      },
      "source": [
        "#### Boolean\n",
        "#### True is 1\n",
        "#### False is 0"
      ]
    },
    {
      "cell_type": "code",
      "execution_count": null,
      "id": "NGcMD0aa-nam",
      "metadata": {
        "colab": {
          "base_uri": "https://localhost:8080/"
        },
        "id": "NGcMD0aa-nam",
        "outputId": "44e20d0b-75f3-4d85-dbb9-ab02049e8cd4"
      },
      "outputs": [
        {
          "data": {
            "text/plain": [
              "True"
            ]
          },
          "execution_count": 31,
          "metadata": {},
          "output_type": "execute_result"
        }
      ],
      "source": [
        "True"
      ]
    },
    {
      "cell_type": "code",
      "execution_count": null,
      "id": "lUQCO2hT-nXG",
      "metadata": {
        "colab": {
          "base_uri": "https://localhost:8080/"
        },
        "id": "lUQCO2hT-nXG",
        "outputId": "ca011d72-465e-4f2d-f69f-ff6d168f4ee6"
      },
      "outputs": [
        {
          "data": {
            "text/plain": [
              "False"
            ]
          },
          "execution_count": 32,
          "metadata": {},
          "output_type": "execute_result"
        }
      ],
      "source": [
        "False"
      ]
    },
    {
      "cell_type": "code",
      "execution_count": null,
      "id": "Qr_H38sj_Nwy",
      "metadata": {
        "colab": {
          "base_uri": "https://localhost:8080/"
        },
        "id": "Qr_H38sj_Nwy",
        "outputId": "8c17cb81-8d29-4914-d762-0b36abad9562"
      },
      "outputs": [
        {
          "data": {
            "text/plain": [
              "True"
            ]
          },
          "execution_count": 33,
          "metadata": {},
          "output_type": "execute_result"
        }
      ],
      "source": [
        "10>5"
      ]
    },
    {
      "cell_type": "code",
      "execution_count": null,
      "id": "V4Dvt2B3_Ngq",
      "metadata": {
        "colab": {
          "base_uri": "https://localhost:8080/"
        },
        "id": "V4Dvt2B3_Ngq",
        "outputId": "b458a24f-5b7d-415c-a531-224b6ee8071d"
      },
      "outputs": [
        {
          "data": {
            "text/plain": [
              "False"
            ]
          },
          "execution_count": 34,
          "metadata": {},
          "output_type": "execute_result"
        }
      ],
      "source": [
        "10<5"
      ]
    },
    {
      "cell_type": "markdown",
      "id": "209a1254-6257-45de-818f-3d47b5aac4c9",
      "metadata": {
        "id": "209a1254-6257-45de-818f-3d47b5aac4c9"
      },
      "source": [
        "### Getting the Data Type"
      ]
    },
    {
      "cell_type": "code",
      "execution_count": null,
      "id": "e713e390-fbd3-4690-b0aa-aac4b16c6426",
      "metadata": {
        "colab": {
          "base_uri": "https://localhost:8080/"
        },
        "id": "e713e390-fbd3-4690-b0aa-aac4b16c6426",
        "outputId": "40d7dc8b-3b0b-4dd1-df24-a8e674ccdf2f"
      },
      "outputs": [
        {
          "data": {
            "text/plain": [
              "str"
            ]
          },
          "execution_count": 36,
          "metadata": {},
          "output_type": "execute_result"
        }
      ],
      "source": [
        "type(\"Hello World\")"
      ]
    },
    {
      "cell_type": "code",
      "execution_count": null,
      "id": "9f6fbd33-f9d4-4b96-85ad-bfdc4740fdfe",
      "metadata": {
        "colab": {
          "base_uri": "https://localhost:8080/"
        },
        "id": "9f6fbd33-f9d4-4b96-85ad-bfdc4740fdfe",
        "outputId": "2a4bed44-16b2-426d-fe21-c7ad05239dd2"
      },
      "outputs": [
        {
          "data": {
            "text/plain": [
              "int"
            ]
          },
          "execution_count": 37,
          "metadata": {},
          "output_type": "execute_result"
        }
      ],
      "source": [
        "type(1)"
      ]
    },
    {
      "cell_type": "code",
      "execution_count": null,
      "id": "e68ba077-edd1-4cbf-9552-54dffe306d1c",
      "metadata": {
        "colab": {
          "base_uri": "https://localhost:8080/"
        },
        "id": "e68ba077-edd1-4cbf-9552-54dffe306d1c",
        "outputId": "588cac57-101e-4fdc-92b7-478a7cdca735"
      },
      "outputs": [
        {
          "data": {
            "text/plain": [
              "float"
            ]
          },
          "execution_count": 38,
          "metadata": {},
          "output_type": "execute_result"
        }
      ],
      "source": [
        "type(1.111222)"
      ]
    },
    {
      "cell_type": "code",
      "execution_count": null,
      "id": "D0fmbliwABT6",
      "metadata": {
        "colab": {
          "base_uri": "https://localhost:8080/"
        },
        "id": "D0fmbliwABT6",
        "outputId": "fe272dd5-122b-4ecf-ea3c-87c1ce5786b1"
      },
      "outputs": [
        {
          "data": {
            "text/plain": [
              "bool"
            ]
          },
          "execution_count": 39,
          "metadata": {},
          "output_type": "execute_result"
        }
      ],
      "source": [
        "type(True)"
      ]
    },
    {
      "cell_type": "code",
      "execution_count": null,
      "id": "ksx5RcGXABIK",
      "metadata": {
        "colab": {
          "base_uri": "https://localhost:8080/"
        },
        "id": "ksx5RcGXABIK",
        "outputId": "27d78ce9-e2a4-4ff5-c41e-28221cc59073"
      },
      "outputs": [
        {
          "data": {
            "text/plain": [
              "float"
            ]
          },
          "execution_count": 40,
          "metadata": {},
          "output_type": "execute_result"
        }
      ],
      "source": [
        "type(1.00)"
      ]
    },
    {
      "cell_type": "code",
      "execution_count": null,
      "id": "-QTteBEMANSj",
      "metadata": {
        "colab": {
          "base_uri": "https://localhost:8080/"
        },
        "id": "-QTteBEMANSj",
        "outputId": "0e7f27fd-0a37-4a5b-81b6-748a295869e2"
      },
      "outputs": [
        {
          "data": {
            "text/plain": [
              "5.0"
            ]
          },
          "execution_count": 42,
          "metadata": {},
          "output_type": "execute_result"
        }
      ],
      "source": [
        "10/2"
      ]
    },
    {
      "cell_type": "code",
      "execution_count": null,
      "id": "rKVqdJqPATPK",
      "metadata": {
        "colab": {
          "base_uri": "https://localhost:8080/"
        },
        "id": "rKVqdJqPATPK",
        "outputId": "37c9c533-a3ee-4649-b90e-891427364be1"
      },
      "outputs": [
        {
          "data": {
            "text/plain": [
              "5"
            ]
          },
          "execution_count": 43,
          "metadata": {},
          "output_type": "execute_result"
        }
      ],
      "source": [
        "10//2"
      ]
    },
    {
      "cell_type": "code",
      "execution_count": null,
      "id": "2AQtJeRvATGS",
      "metadata": {
        "colab": {
          "base_uri": "https://localhost:8080/"
        },
        "id": "2AQtJeRvATGS",
        "outputId": "4cfec08b-df67-4c7c-d24e-8f611367c9d6"
      },
      "outputs": [
        {
          "data": {
            "text/plain": [
              "str"
            ]
          },
          "execution_count": 44,
          "metadata": {},
          "output_type": "execute_result"
        }
      ],
      "source": [
        "type('123')"
      ]
    },
    {
      "cell_type": "code",
      "execution_count": null,
      "id": "SEzA3YIHAaSt",
      "metadata": {
        "id": "SEzA3YIHAaSt"
      },
      "outputs": [],
      "source": []
    },
    {
      "cell_type": "markdown",
      "id": "d915e99e-f1c9-4e04-ab8d-60cffc5118ae",
      "metadata": {
        "id": "d915e99e-f1c9-4e04-ab8d-60cffc5118ae"
      },
      "source": [
        "# Variable\n",
        "### What is variable?\n",
        "Python Variable is containers that store values\n",
        "\n",
        "### Rules for Python variables\n",
        "- A Python variable name must start with a letter or the underscore character.\n",
        "- A Python variable name cannot start with a number.\n",
        "- A Python variable name can only contain alpha-numeric characters and underscores (A-z, 0-9, and _ ).\n",
        "- Variable in Python names are case-sensitive (name, Name, and NAME are three different variables).\n",
        "- The reserved words(keywords) in Python cannot be used to name the variable in Python.\n",
        "- No space should be used in a variable"
      ]
    },
    {
      "cell_type": "code",
      "execution_count": null,
      "id": "25976d78-adb3-49f0-af51-11b9039e6185",
      "metadata": {
        "id": "25976d78-adb3-49f0-af51-11b9039e6185"
      },
      "outputs": [],
      "source": [
        "a = 5"
      ]
    },
    {
      "cell_type": "code",
      "execution_count": null,
      "id": "cad6a6e8-9cf6-419b-8f1c-751e79d2c6bf",
      "metadata": {
        "id": "cad6a6e8-9cf6-419b-8f1c-751e79d2c6bf"
      },
      "outputs": [],
      "source": [
        "b = 10"
      ]
    },
    {
      "cell_type": "code",
      "execution_count": null,
      "id": "8Yc20mKmCdeE",
      "metadata": {
        "colab": {
          "base_uri": "https://localhost:8080/"
        },
        "id": "8Yc20mKmCdeE",
        "outputId": "38df101d-f2ba-4d23-dba1-162d591d6af9"
      },
      "outputs": [
        {
          "name": "stdout",
          "output_type": "stream",
          "text": [
            "5\n"
          ]
        }
      ],
      "source": [
        "print(a)"
      ]
    },
    {
      "cell_type": "code",
      "execution_count": null,
      "id": "_yz0Uh6ECdT0",
      "metadata": {
        "colab": {
          "base_uri": "https://localhost:8080/"
        },
        "id": "_yz0Uh6ECdT0",
        "outputId": "64baf3d4-6e07-47e2-b265-9d9df2585516"
      },
      "outputs": [
        {
          "name": "stdout",
          "output_type": "stream",
          "text": [
            "10\n"
          ]
        }
      ],
      "source": [
        "print(b)"
      ]
    },
    {
      "cell_type": "code",
      "execution_count": null,
      "id": "LNYw-KqoC5mL",
      "metadata": {
        "id": "LNYw-KqoC5mL"
      },
      "outputs": [],
      "source": [
        "a = 500"
      ]
    },
    {
      "cell_type": "code",
      "execution_count": null,
      "id": "3a4v32Z3C5Yz",
      "metadata": {
        "colab": {
          "base_uri": "https://localhost:8080/"
        },
        "id": "3a4v32Z3C5Yz",
        "outputId": "32117cd7-0ca8-4d16-8d85-51299f11abe9"
      },
      "outputs": [
        {
          "name": "stdout",
          "output_type": "stream",
          "text": [
            "500\n"
          ]
        }
      ],
      "source": [
        "print(a)"
      ]
    },
    {
      "cell_type": "code",
      "execution_count": null,
      "id": "LebEaIbVMBLC",
      "metadata": {
        "id": "LebEaIbVMBLC"
      },
      "outputs": [],
      "source": [
        "FirstName = \"Asif\""
      ]
    },
    {
      "cell_type": "code",
      "execution_count": null,
      "id": "YpbktfMRMAfi",
      "metadata": {
        "id": "YpbktfMRMAfi"
      },
      "outputs": [],
      "source": []
    },
    {
      "cell_type": "markdown",
      "id": "3026d4f1-51ad-4cf1-8631-71a1a001c208",
      "metadata": {
        "id": "3026d4f1-51ad-4cf1-8631-71a1a001c208"
      },
      "source": [
        "### Python Assign Values to Multiple Variables"
      ]
    },
    {
      "cell_type": "code",
      "execution_count": null,
      "id": "854558a0-5515-4f03-b778-ca76c1e38953",
      "metadata": {
        "id": "854558a0-5515-4f03-b778-ca76c1e38953"
      },
      "outputs": [],
      "source": [
        "a = b = c = 7"
      ]
    },
    {
      "cell_type": "code",
      "execution_count": null,
      "id": "4ea53ed7-8295-4c86-949c-9e494faf576b",
      "metadata": {
        "colab": {
          "base_uri": "https://localhost:8080/"
        },
        "id": "4ea53ed7-8295-4c86-949c-9e494faf576b",
        "outputId": "b65dad2e-9096-4d8f-eab4-c7ccd3dfb708"
      },
      "outputs": [
        {
          "name": "stdout",
          "output_type": "stream",
          "text": [
            "7\n"
          ]
        }
      ],
      "source": [
        "print(c)"
      ]
    },
    {
      "cell_type": "markdown",
      "id": "f6b9b168-fa78-4ea9-9964-e51d3fb217d9",
      "metadata": {
        "id": "f6b9b168-fa78-4ea9-9964-e51d3fb217d9"
      },
      "source": [
        "### How does + operator work with variables?"
      ]
    },
    {
      "cell_type": "code",
      "execution_count": null,
      "id": "EboXfdqiFE5K",
      "metadata": {
        "id": "EboXfdqiFE5K"
      },
      "outputs": [],
      "source": [
        "a = 10\n",
        "b = 20"
      ]
    },
    {
      "cell_type": "code",
      "execution_count": null,
      "id": "Ial7rzsTFIdy",
      "metadata": {
        "colab": {
          "base_uri": "https://localhost:8080/"
        },
        "id": "Ial7rzsTFIdy",
        "outputId": "034f0290-4c31-4bfb-9adb-4fb92e906f68"
      },
      "outputs": [
        {
          "name": "stdout",
          "output_type": "stream",
          "text": [
            "30\n"
          ]
        }
      ],
      "source": [
        "print(a+b)"
      ]
    },
    {
      "cell_type": "code",
      "execution_count": null,
      "id": "cRfvfVruFIVy",
      "metadata": {
        "colab": {
          "base_uri": "https://localhost:8080/"
        },
        "id": "cRfvfVruFIVy",
        "outputId": "9730dd01-b54a-471b-cdbf-750332755f37"
      },
      "outputs": [
        {
          "name": "stdout",
          "output_type": "stream",
          "text": [
            "200\n"
          ]
        }
      ],
      "source": [
        "print(a*b)"
      ]
    },
    {
      "cell_type": "code",
      "execution_count": null,
      "id": "qKPZhC1uFXFh",
      "metadata": {
        "colab": {
          "base_uri": "https://localhost:8080/"
        },
        "id": "qKPZhC1uFXFh",
        "outputId": "e317029a-72be-43e3-a5ea-e052941e016c"
      },
      "outputs": [
        {
          "name": "stdout",
          "output_type": "stream",
          "text": [
            "0.5\n"
          ]
        }
      ],
      "source": [
        "print(a/b)"
      ]
    },
    {
      "cell_type": "code",
      "execution_count": null,
      "id": "82bx14pbFW4q",
      "metadata": {
        "colab": {
          "base_uri": "https://localhost:8080/"
        },
        "id": "82bx14pbFW4q",
        "outputId": "10f5786f-f5bb-48ec-afac-584a240a9e87"
      },
      "outputs": [
        {
          "name": "stdout",
          "output_type": "stream",
          "text": [
            "Md. Asif Iqbal\n"
          ]
        }
      ],
      "source": [
        "a = \"Md. Asif\"\n",
        "b = \"Iqbal\"\n",
        "\n",
        "print(a+ \" \" +b)"
      ]
    },
    {
      "cell_type": "code",
      "execution_count": null,
      "id": "e475cf7c-fae3-4bab-a05e-2314e78d5bd8",
      "metadata": {
        "id": "e475cf7c-fae3-4bab-a05e-2314e78d5bd8"
      },
      "outputs": [],
      "source": []
    },
    {
      "cell_type": "markdown",
      "id": "b3c8386e-641c-4658-b233-0e74326970d5",
      "metadata": {
        "id": "b3c8386e-641c-4658-b233-0e74326970d5"
      },
      "source": [
        "### Casting a variable"
      ]
    },
    {
      "cell_type": "code",
      "execution_count": null,
      "id": "011cf937-8757-4544-a3ac-6d184f6cbcb4",
      "metadata": {
        "id": "011cf937-8757-4544-a3ac-6d184f6cbcb4"
      },
      "outputs": [],
      "source": [
        "number = \"123\""
      ]
    },
    {
      "cell_type": "code",
      "execution_count": null,
      "id": "mBHHctfRHcoq",
      "metadata": {
        "colab": {
          "base_uri": "https://localhost:8080/"
        },
        "id": "mBHHctfRHcoq",
        "outputId": "6593b233-198c-4b47-d6fa-a300d73afce3"
      },
      "outputs": [
        {
          "name": "stdout",
          "output_type": "stream",
          "text": [
            "123\n"
          ]
        }
      ],
      "source": [
        "print(number)"
      ]
    },
    {
      "cell_type": "code",
      "execution_count": null,
      "id": "5ffa2084-727f-4355-9008-e9b99aa37112",
      "metadata": {
        "colab": {
          "base_uri": "https://localhost:8080/"
        },
        "id": "5ffa2084-727f-4355-9008-e9b99aa37112",
        "outputId": "8f120456-564b-46ce-d77a-057abdf83d3e"
      },
      "outputs": [
        {
          "data": {
            "text/plain": [
              "str"
            ]
          },
          "execution_count": 29,
          "metadata": {},
          "output_type": "execute_result"
        }
      ],
      "source": [
        "type(number)"
      ]
    },
    {
      "cell_type": "code",
      "execution_count": null,
      "id": "sGMxg55PHC4T",
      "metadata": {
        "id": "sGMxg55PHC4T"
      },
      "outputs": [],
      "source": [
        "new_number = int(number)"
      ]
    },
    {
      "cell_type": "code",
      "execution_count": null,
      "id": "nl9SLES6HCv6",
      "metadata": {
        "colab": {
          "base_uri": "https://localhost:8080/"
        },
        "id": "nl9SLES6HCv6",
        "outputId": "1cff1c14-48e6-4f96-b745-7bcc890c50ec"
      },
      "outputs": [
        {
          "name": "stdout",
          "output_type": "stream",
          "text": [
            "123\n"
          ]
        }
      ],
      "source": [
        "print(new_number)"
      ]
    },
    {
      "cell_type": "code",
      "execution_count": null,
      "id": "61fb4f81-5a65-40af-82fe-4e954b7a4e88",
      "metadata": {
        "colab": {
          "base_uri": "https://localhost:8080/"
        },
        "id": "61fb4f81-5a65-40af-82fe-4e954b7a4e88",
        "outputId": "5c9cd600-eaeb-4c8b-a3ac-92bb0b53eabe"
      },
      "outputs": [
        {
          "data": {
            "text/plain": [
              "int"
            ]
          },
          "execution_count": 33,
          "metadata": {},
          "output_type": "execute_result"
        }
      ],
      "source": [
        "type(new_number)"
      ]
    },
    {
      "cell_type": "code",
      "execution_count": null,
      "id": "Lver851iHtep",
      "metadata": {
        "id": "Lver851iHtep"
      },
      "outputs": [],
      "source": [
        "a = 10.333"
      ]
    },
    {
      "cell_type": "code",
      "execution_count": null,
      "id": "O32ZqY_5Htb4",
      "metadata": {
        "id": "O32ZqY_5Htb4"
      },
      "outputs": [],
      "source": [
        "new_a = int(a)"
      ]
    },
    {
      "cell_type": "code",
      "execution_count": null,
      "id": "pT3IiyVYHtVw",
      "metadata": {
        "colab": {
          "base_uri": "https://localhost:8080/"
        },
        "id": "pT3IiyVYHtVw",
        "outputId": "b59f5ea2-ba48-42c7-b5f5-2c8fd2887516"
      },
      "outputs": [
        {
          "name": "stdout",
          "output_type": "stream",
          "text": [
            "10.333\n",
            "10\n"
          ]
        }
      ],
      "source": [
        "print(a)\n",
        "print(new_a)"
      ]
    },
    {
      "cell_type": "code",
      "execution_count": null,
      "id": "r12wPiYgH1pB",
      "metadata": {
        "id": "r12wPiYgH1pB"
      },
      "outputs": [],
      "source": [
        "number = 122233444\n",
        "new_number = str(number)"
      ]
    },
    {
      "cell_type": "code",
      "execution_count": null,
      "id": "l1knN-4uILkL",
      "metadata": {
        "colab": {
          "base_uri": "https://localhost:8080/",
          "height": 35
        },
        "id": "l1knN-4uILkL",
        "outputId": "406875b3-264f-4931-a8e1-6a06b02bb058"
      },
      "outputs": [
        {
          "data": {
            "application/vnd.google.colaboratory.intrinsic+json": {
              "type": "string"
            },
            "text/plain": [
              "'0122334'"
            ]
          },
          "execution_count": 44,
          "metadata": {},
          "output_type": "execute_result"
        }
      ],
      "source": [
        "\"0122334\""
      ]
    },
    {
      "cell_type": "code",
      "execution_count": null,
      "id": "793fd67f-bf58-44b9-bd87-8dea0f5c91ab",
      "metadata": {
        "id": "793fd67f-bf58-44b9-bd87-8dea0f5c91ab"
      },
      "outputs": [],
      "source": []
    },
    {
      "cell_type": "markdown",
      "id": "b28409fa-f606-4d85-8c93-450abe877c88",
      "metadata": {
        "id": "b28409fa-f606-4d85-8c93-450abe877c88"
      },
      "source": [
        "### Print Variables"
      ]
    },
    {
      "cell_type": "code",
      "execution_count": null,
      "id": "d6c83416-7a0b-45f1-84e3-0897b1b64d88",
      "metadata": {
        "colab": {
          "base_uri": "https://localhost:8080/"
        },
        "id": "d6c83416-7a0b-45f1-84e3-0897b1b64d88",
        "outputId": "eec85ee0-a22b-47f9-9104-5a50c7c4532f"
      },
      "outputs": [
        {
          "name": "stdout",
          "output_type": "stream",
          "text": [
            "10\n"
          ]
        }
      ],
      "source": [
        "a = 10\n",
        "print(a)"
      ]
    },
    {
      "cell_type": "code",
      "execution_count": null,
      "id": "df33db65-0025-45b5-8041-74f6f09d0ae9",
      "metadata": {
        "colab": {
          "base_uri": "https://localhost:8080/"
        },
        "id": "df33db65-0025-45b5-8041-74f6f09d0ae9",
        "outputId": "89764e30-d950-45cf-c530-6b9b7bdfaee2"
      },
      "outputs": [
        {
          "name": "stdout",
          "output_type": "stream",
          "text": [
            "This is year 2024\n"
          ]
        }
      ],
      "source": [
        "Year = 2024\n",
        "print(\"This is year \" + str(Year))"
      ]
    },
    {
      "cell_type": "code",
      "execution_count": null,
      "id": "fd8b6595-d5e4-4d4b-8c52-f0612dfc53f4",
      "metadata": {
        "id": "fd8b6595-d5e4-4d4b-8c52-f0612dfc53f4"
      },
      "outputs": [],
      "source": [
        "x = \"Python\"\n",
        "y = \"is\"\n",
        "z = \"awesome\""
      ]
    },
    {
      "cell_type": "code",
      "execution_count": null,
      "id": "1089d8a2-2740-463b-b24d-9acd26513cdf",
      "metadata": {
        "colab": {
          "base_uri": "https://localhost:8080/"
        },
        "id": "1089d8a2-2740-463b-b24d-9acd26513cdf",
        "outputId": "0c8c8f8c-8078-4eaa-92ff-74fa066baefd"
      },
      "outputs": [
        {
          "name": "stdout",
          "output_type": "stream",
          "text": [
            "Python is awesome\n"
          ]
        }
      ],
      "source": [
        "print(x+ \" \" +y+ \" \"+z)"
      ]
    },
    {
      "cell_type": "code",
      "execution_count": null,
      "id": "0f7385b6-f07d-44c0-b4e0-4f8a213214aa",
      "metadata": {
        "colab": {
          "base_uri": "https://localhost:8080/"
        },
        "id": "0f7385b6-f07d-44c0-b4e0-4f8a213214aa",
        "outputId": "c53d6cf6-c7a3-4e84-ee97-5f697b7ab35d"
      },
      "outputs": [
        {
          "name": "stdout",
          "output_type": "stream",
          "text": [
            "Python is awesome\n"
          ]
        }
      ],
      "source": [
        "print(x,y,z)"
      ]
    },
    {
      "cell_type": "code",
      "execution_count": null,
      "id": "wFzm4nN6N9xy",
      "metadata": {
        "colab": {
          "base_uri": "https://localhost:8080/"
        },
        "id": "wFzm4nN6N9xy",
        "outputId": "dc7c1c38-d721-49eb-c5d9-31d1edfcb7fb"
      },
      "outputs": [
        {
          "name": "stdout",
          "output_type": "stream",
          "text": [
            "15\n"
          ]
        }
      ],
      "source": [
        "a = 10\n",
        "b = 5\n",
        "print(a+b)"
      ]
    },
    {
      "cell_type": "code",
      "execution_count": null,
      "id": "Ipb7UOZvOH0J",
      "metadata": {
        "id": "Ipb7UOZvOH0J"
      },
      "outputs": [],
      "source": []
    },
    {
      "cell_type": "markdown",
      "id": "5d491b3a-a83b-4993-854a-66f2ebbf7bd0",
      "metadata": {
        "id": "5d491b3a-a83b-4993-854a-66f2ebbf7bd0"
      },
      "source": [
        "### Different Type of Variable Print"
      ]
    },
    {
      "cell_type": "code",
      "execution_count": null,
      "id": "a8f6e52b-6e54-4900-8183-25a73d75da9b",
      "metadata": {
        "colab": {
          "base_uri": "https://localhost:8080/"
        },
        "id": "a8f6e52b-6e54-4900-8183-25a73d75da9b",
        "outputId": "ee6d2c23-f4ad-4e04-92c0-1fa447f9c6dd"
      },
      "outputs": [
        {
          "name": "stdout",
          "output_type": "stream",
          "text": [
            "Today is 11th May, 2024.\n",
            "Today is May 11th. 2024\n"
          ]
        }
      ],
      "source": [
        "Date = 11\n",
        "Month = \"May\"\n",
        "Year = 2024\n",
        "\n",
        "print(f\"Today is {Date}th {Month}, {Year}.\")\n",
        "print(f\"Today is {Month} {Date}th. {Year}\")"
      ]
    },
    {
      "cell_type": "code",
      "execution_count": null,
      "id": "e710c47b-3ae4-4456-b58e-a8c6340dd05a",
      "metadata": {
        "colab": {
          "base_uri": "https://localhost:8080/"
        },
        "id": "e710c47b-3ae4-4456-b58e-a8c6340dd05a",
        "outputId": "61630979-ff91-4fe8-8c71-5100cc7731df"
      },
      "outputs": [
        {
          "name": "stdout",
          "output_type": "stream",
          "text": [
            "Today is 11th May, 2024.\n"
          ]
        }
      ],
      "source": [
        "Date = 11\n",
        "Month = \"May\"\n",
        "Year = 2024\n",
        "\n",
        "print(\"Today is \" + str(Date) + \"th \" + Month + \", \" + str(Year) + \".\")"
      ]
    },
    {
      "cell_type": "code",
      "execution_count": null,
      "id": "f44f7ee3-11d7-4f09-b49c-03d3e4ce6306",
      "metadata": {
        "colab": {
          "base_uri": "https://localhost:8080/"
        },
        "id": "f44f7ee3-11d7-4f09-b49c-03d3e4ce6306",
        "outputId": "87313792-6fac-4b11-a262-754421af6219"
      },
      "outputs": [
        {
          "name": "stdout",
          "output_type": "stream",
          "text": [
            "This is 11th May, 2024.\n",
            "Today is May 11th, 2024.\n"
          ]
        }
      ],
      "source": [
        "Date = 11\n",
        "Month = \"May\"\n",
        "Year = 2024\n",
        "print(\"This is {}th {}, {}.\".format(Date, Month, Year))\n",
        "print(\"Today is {} {}th, {}.\".format(Month, Date, Year))"
      ]
    },
    {
      "cell_type": "markdown",
      "id": "bf85df41-ceb8-4b58-8a26-e7e520052461",
      "metadata": {
        "id": "bf85df41-ceb8-4b58-8a26-e7e520052461"
      },
      "source": [
        "# Comment in Python\n",
        "### Single Line Comment"
      ]
    },
    {
      "cell_type": "code",
      "execution_count": null,
      "id": "1b313b20-bb92-4421-9493-5bff2fd6d75e",
      "metadata": {
        "id": "1b313b20-bb92-4421-9493-5bff2fd6d75e"
      },
      "outputs": [],
      "source": [
        "# Today is 11th May, 2024\n",
        "# We are learning Python\n",
        "# We are printing a string\n",
        "\n",
        "print(\"Hello World\") # We are printing a String"
      ]
    },
    {
      "cell_type": "code",
      "execution_count": null,
      "id": "ca80e9cb-5376-4b82-81ad-b23a828708ba",
      "metadata": {
        "colab": {
          "base_uri": "https://localhost:8080/"
        },
        "id": "ca80e9cb-5376-4b82-81ad-b23a828708ba",
        "outputId": "182f19e2-b18b-477a-f789-51edab309335"
      },
      "outputs": [
        {
          "name": "stdout",
          "output_type": "stream",
          "text": [
            "Hello World\n",
            "Goodbye\n"
          ]
        }
      ],
      "source": [
        "print(\"Hello World\")\n",
        "# print(\"No need to print\")\n",
        "# print(\"No need to print\")\n",
        "# print(\"No need to print\")\n",
        "# print(\"No need to print\")\n",
        "print(\"Goodbye\")"
      ]
    },
    {
      "cell_type": "markdown",
      "id": "fea1726c-4244-4e3d-b20b-ad4a0a3b90e2",
      "metadata": {
        "id": "fea1726c-4244-4e3d-b20b-ad4a0a3b90e2"
      },
      "source": [
        "### Multiline Comment"
      ]
    },
    {
      "cell_type": "code",
      "execution_count": null,
      "id": "18c66502-bb7a-4e64-b43a-24cef21403ad",
      "metadata": {
        "colab": {
          "base_uri": "https://localhost:8080/"
        },
        "id": "18c66502-bb7a-4e64-b43a-24cef21403ad",
        "outputId": "3819efdb-bc50-4a7f-d7c9-54c85bbb702e"
      },
      "outputs": [
        {
          "name": "stdout",
          "output_type": "stream",
          "text": [
            "Hello World\n"
          ]
        }
      ],
      "source": [
        "'''\n",
        "Today is 11th May, 2024\n",
        "We are learning Python\n",
        "We are printing a string\n",
        "'''\n",
        "print(\"Hello World\")"
      ]
    },
    {
      "cell_type": "code",
      "execution_count": null,
      "id": "8df00206-5857-4c20-810a-5190a4b2f40e",
      "metadata": {
        "colab": {
          "base_uri": "https://localhost:8080/"
        },
        "id": "8df00206-5857-4c20-810a-5190a4b2f40e",
        "outputId": "589406a5-e6b5-4d8e-a5e0-08456ec324b8"
      },
      "outputs": [
        {
          "name": "stdout",
          "output_type": "stream",
          "text": [
            "Hello World\n"
          ]
        }
      ],
      "source": [
        "\"\"\"\n",
        "Today is 11th May, 2024\n",
        "We are learning Python\n",
        "We are printing a string\n",
        "\"\"\"\n",
        "print(\"Hello World\")"
      ]
    },
    {
      "cell_type": "code",
      "execution_count": null,
      "id": "7d0df52d-de1e-4eb5-b791-08a4b8b7977a",
      "metadata": {
        "id": "7d0df52d-de1e-4eb5-b791-08a4b8b7977a"
      },
      "outputs": [],
      "source": []
    },
    {
      "cell_type": "markdown",
      "id": "f7f73416-dc87-4aa9-9400-de5b526ecb00",
      "metadata": {
        "id": "f7f73416-dc87-4aa9-9400-de5b526ecb00"
      },
      "source": [
        "# Python Strings"
      ]
    },
    {
      "cell_type": "code",
      "execution_count": null,
      "id": "d3ab7517-aec9-47fc-bcb5-198834f8a75d",
      "metadata": {
        "id": "d3ab7517-aec9-47fc-bcb5-198834f8a75d"
      },
      "outputs": [],
      "source": [
        "a = \"This is Python Code\""
      ]
    },
    {
      "cell_type": "code",
      "execution_count": null,
      "id": "9e5d611f-43d6-42e8-aa6c-0911824a88cf",
      "metadata": {
        "colab": {
          "base_uri": "https://localhost:8080/"
        },
        "id": "9e5d611f-43d6-42e8-aa6c-0911824a88cf",
        "outputId": "efd4f6eb-1df9-49e1-c144-c8134bd6ba2b"
      },
      "outputs": [
        {
          "name": "stdout",
          "output_type": "stream",
          "text": [
            "This is Python Code\n"
          ]
        }
      ],
      "source": [
        "print(a)"
      ]
    },
    {
      "cell_type": "markdown",
      "id": "eb54895d-2f4d-4c42-b859-ec4e9f593bb4",
      "metadata": {
        "id": "eb54895d-2f4d-4c42-b859-ec4e9f593bb4"
      },
      "source": [
        "### Multiline Strings"
      ]
    },
    {
      "cell_type": "code",
      "execution_count": null,
      "id": "16ec2b9a-4120-4ff4-b64a-fc9721d5c7c5",
      "metadata": {
        "id": "16ec2b9a-4120-4ff4-b64a-fc9721d5c7c5"
      },
      "outputs": [],
      "source": [
        "a = \"\"\"The limerick packs laughs anatomical\n",
        "Into space that is quite economical.\n",
        "But the good ones I have ve seen\n",
        "So seldom are clean\n",
        "And the clean ones so seldom are comical.\"\"\"\n",
        "\n",
        "b = '''The limerick packs laughs anatomical\n",
        "Into space that is quite economical.\n",
        "But the good ones I have ve seen\n",
        "So seldom are clean\n",
        "And the clean ones so seldom are comical.'''\n"
      ]
    },
    {
      "cell_type": "code",
      "execution_count": null,
      "id": "7lCMaBpoYKD5",
      "metadata": {
        "id": "7lCMaBpoYKD5"
      },
      "outputs": [],
      "source": [
        "a = \"The limerick packs laughs anatomical \\n Into space that is quite economical. \\n But the good ones I have ve seen \\n So seldom are clean \\n And the clean ones so seldom are comical.\""
      ]
    },
    {
      "cell_type": "code",
      "execution_count": null,
      "id": "f1dde686-f664-4da8-8a6c-34ba91d4c4f8",
      "metadata": {
        "colab": {
          "base_uri": "https://localhost:8080/"
        },
        "id": "f1dde686-f664-4da8-8a6c-34ba91d4c4f8",
        "outputId": "d0bdf0e9-07e0-4871-9cf4-6cef75bb0d0a"
      },
      "outputs": [
        {
          "name": "stdout",
          "output_type": "stream",
          "text": [
            "The limerick packs laughs anatomical\n",
            "Into space that is quite economical.\n",
            "But the good ones I have ve seen\n",
            "So seldom are clean\n",
            "And the clean ones so seldom are comical.\n"
          ]
        }
      ],
      "source": [
        "print(b)"
      ]
    },
    {
      "cell_type": "markdown",
      "id": "82e66238-88fe-4059-954a-342d6c2fdeee",
      "metadata": {
        "id": "82e66238-88fe-4059-954a-342d6c2fdeee"
      },
      "source": [
        "### Quotes Inside String"
      ]
    },
    {
      "cell_type": "code",
      "execution_count": null,
      "id": "f02b1c39-3327-40f8-a72d-fb7b8265a90a",
      "metadata": {
        "colab": {
          "base_uri": "https://localhost:8080/"
        },
        "id": "f02b1c39-3327-40f8-a72d-fb7b8265a90a",
        "outputId": "8961eb1d-2622-4871-cce1-90d7438528b1"
      },
      "outputs": [
        {
          "name": "stdout",
          "output_type": "stream",
          "text": [
            "Oscar Wilde says, \"Be yourself; everyone else is already taken.\"\n"
          ]
        }
      ],
      "source": [
        "print('Oscar Wilde says, \"Be yourself; everyone else is already taken.\"')"
      ]
    },
    {
      "cell_type": "code",
      "execution_count": null,
      "id": "-gqaQ3jXZOjx",
      "metadata": {
        "colab": {
          "base_uri": "https://localhost:8080/"
        },
        "id": "-gqaQ3jXZOjx",
        "outputId": "fb85ab12-78cf-463d-9d06-923a1c712697"
      },
      "outputs": [
        {
          "name": "stdout",
          "output_type": "stream",
          "text": [
            "Today's weather is good.\n"
          ]
        }
      ],
      "source": [
        "print(\"Today's weather is good.\")"
      ]
    },
    {
      "cell_type": "markdown",
      "id": "551ea983-0d24-46db-8527-979c8617f073",
      "metadata": {
        "id": "551ea983-0d24-46db-8527-979c8617f073"
      },
      "source": [
        "### String <> Array"
      ]
    },
    {
      "cell_type": "code",
      "execution_count": null,
      "id": "ef535215-b42a-4944-a164-945de1b24f50",
      "metadata": {
        "colab": {
          "base_uri": "https://localhost:8080/"
        },
        "id": "ef535215-b42a-4944-a164-945de1b24f50",
        "outputId": "d8d46c94-08b4-400d-9126-4ffb45556092"
      },
      "outputs": [
        {
          "name": "stdout",
          "output_type": "stream",
          "text": [
            "Hello\n"
          ]
        }
      ],
      "source": [
        "name = \"Hello\"\n",
        "print(name)"
      ]
    },
    {
      "cell_type": "markdown",
      "id": "wzzvi2p6dXKP",
      "metadata": {
        "id": "wzzvi2p6dXKP"
      },
      "source": [
        "###### H e l l o\n",
        "###### 0 1 2 3 4"
      ]
    },
    {
      "cell_type": "code",
      "execution_count": null,
      "id": "3e944765-4906-4bf5-b7aa-270ebabd8360",
      "metadata": {
        "colab": {
          "base_uri": "https://localhost:8080/"
        },
        "id": "3e944765-4906-4bf5-b7aa-270ebabd8360",
        "outputId": "50d175bf-4abd-4de8-e8a5-aba04d96442f"
      },
      "outputs": [
        {
          "name": "stdout",
          "output_type": "stream",
          "text": [
            "l\n"
          ]
        }
      ],
      "source": [
        "name = \"Asif Iqbal\"\n",
        "print(name[9])"
      ]
    },
    {
      "cell_type": "code",
      "execution_count": null,
      "id": "44699262-c159-4b8d-880c-e12f1deeea1c",
      "metadata": {
        "id": "44699262-c159-4b8d-880c-e12f1deeea1c"
      },
      "outputs": [],
      "source": []
    },
    {
      "cell_type": "code",
      "execution_count": null,
      "id": "b1ee5008-8b3d-4640-875c-e3e125fc2912",
      "metadata": {
        "id": "b1ee5008-8b3d-4640-875c-e3e125fc2912"
      },
      "outputs": [],
      "source": []
    },
    {
      "cell_type": "markdown",
      "id": "604ebd62-d2f2-4ab8-9e3f-11e11d8a49fb",
      "metadata": {
        "id": "604ebd62-d2f2-4ab8-9e3f-11e11d8a49fb"
      },
      "source": [
        "### Slicing Strings\n",
        "##### variable[start index: stop index+1]"
      ]
    },
    {
      "cell_type": "code",
      "execution_count": null,
      "id": "9ec1eba8-261e-495c-9efc-aa307fa9e073",
      "metadata": {
        "colab": {
          "base_uri": "https://localhost:8080/"
        },
        "id": "9ec1eba8-261e-495c-9efc-aa307fa9e073",
        "outputId": "25874818-6240-4338-a659-807aeed25658"
      },
      "outputs": [
        {
          "name": "stdout",
          "output_type": "stream",
          "text": [
            "Iqbal\n"
          ]
        }
      ],
      "source": [
        "name = \"Asif Iqbal\"\n",
        "print(name[5:10])"
      ]
    },
    {
      "cell_type": "code",
      "execution_count": null,
      "id": "b0572684-e5ac-40ac-ac5e-5bbeba232cc3",
      "metadata": {
        "colab": {
          "base_uri": "https://localhost:8080/"
        },
        "id": "b0572684-e5ac-40ac-ac5e-5bbeba232cc3",
        "outputId": "7ace4059-96b2-465f-9fdc-41a95e8bf84d"
      },
      "outputs": [
        {
          "name": "stdout",
          "output_type": "stream",
          "text": [
            "Asif\n"
          ]
        }
      ],
      "source": [
        "name = \"Asif Iqbal\"\n",
        "print(name[0:4])"
      ]
    },
    {
      "cell_type": "markdown",
      "id": "4ddc3298-d419-44e6-8db7-80f1c8d63193",
      "metadata": {
        "id": "4ddc3298-d419-44e6-8db7-80f1c8d63193"
      },
      "source": [
        "### Modify Strings"
      ]
    },
    {
      "cell_type": "code",
      "execution_count": null,
      "id": "79831577-825f-4372-9af9-9f8103cef906",
      "metadata": {
        "colab": {
          "base_uri": "https://localhost:8080/"
        },
        "id": "79831577-825f-4372-9af9-9f8103cef906",
        "outputId": "50aeb4e4-73df-4380-8d8b-4a5ded8ce736"
      },
      "outputs": [
        {
          "name": "stdout",
          "output_type": "stream",
          "text": [
            "A\n"
          ]
        }
      ],
      "source": [
        "name = \"Asif Iqbal\"\n",
        "print(name[0])"
      ]
    },
    {
      "cell_type": "code",
      "execution_count": null,
      "id": "70275877-4ca1-46e9-93b5-ef1c4aaefd13",
      "metadata": {
        "colab": {
          "base_uri": "https://localhost:8080/",
          "height": 35
        },
        "id": "70275877-4ca1-46e9-93b5-ef1c4aaefd13",
        "outputId": "32e2cab3-7ebe-4feb-f7e3-e3c22e09d27b"
      },
      "outputs": [
        {
          "data": {
            "application/vnd.google.colaboratory.intrinsic+json": {
              "type": "string"
            },
            "text/plain": [
              "'Osif Iqbal'"
            ]
          },
          "execution_count": 11,
          "metadata": {},
          "output_type": "execute_result"
        }
      ],
      "source": []
    },
    {
      "cell_type": "code",
      "execution_count": null,
      "id": "ddc49ee4-3044-49c1-bf6b-4641b0323971",
      "metadata": {
        "colab": {
          "base_uri": "https://localhost:8080/"
        },
        "id": "ddc49ee4-3044-49c1-bf6b-4641b0323971",
        "outputId": "b308bd40-fe4d-47b9-d631-2c395cbb81fd"
      },
      "outputs": [
        {
          "name": "stdout",
          "output_type": "stream",
          "text": [
            "ASIF IQBAL\n"
          ]
        }
      ],
      "source": [
        "name = \"Asif Iqbal\"\n",
        "print(name.upper())"
      ]
    },
    {
      "cell_type": "code",
      "execution_count": null,
      "id": "6ac6bed4-b4fa-4849-a87b-6c3aed2a8a15",
      "metadata": {
        "colab": {
          "base_uri": "https://localhost:8080/"
        },
        "id": "6ac6bed4-b4fa-4849-a87b-6c3aed2a8a15",
        "outputId": "db987b05-f5ec-46d2-e0b4-0f136dc9b969"
      },
      "outputs": [
        {
          "name": "stdout",
          "output_type": "stream",
          "text": [
            "asif iqbal\n"
          ]
        }
      ],
      "source": [
        "name = \"Asif Iqbal\"\n",
        "print(name.lower())"
      ]
    },
    {
      "cell_type": "code",
      "execution_count": null,
      "id": "_2yzIcf1gq7g",
      "metadata": {
        "colab": {
          "base_uri": "https://localhost:8080/"
        },
        "id": "_2yzIcf1gq7g",
        "outputId": "f5550485-2dcd-47f3-8366-cdc1e0597236"
      },
      "outputs": [
        {
          "name": "stdout",
          "output_type": "stream",
          "text": [
            "Asif Iqbal\n"
          ]
        }
      ],
      "source": [
        "name = \"    Asif Iqbal      \"\n",
        "print(name.strip())"
      ]
    },
    {
      "cell_type": "code",
      "execution_count": null,
      "id": "JdUXZMRJgqyp",
      "metadata": {
        "id": "JdUXZMRJgqyp"
      },
      "outputs": [],
      "source": [
        "name = \"Asif Iqbal\"\n",
        "name = name.replace(\"A\", \"O\")"
      ]
    },
    {
      "cell_type": "code",
      "execution_count": null,
      "id": "5bce6205-6dea-408a-997b-21f4acd77eef",
      "metadata": {
        "colab": {
          "base_uri": "https://localhost:8080/"
        },
        "id": "5bce6205-6dea-408a-997b-21f4acd77eef",
        "outputId": "37cbea67-413a-4f12-8aea-23dd1ab00350"
      },
      "outputs": [
        {
          "name": "stdout",
          "output_type": "stream",
          "text": [
            "Osif Iqbal\n"
          ]
        }
      ],
      "source": [
        "print(name)"
      ]
    },
    {
      "cell_type": "code",
      "execution_count": null,
      "id": "9913dffe-5e3e-42b2-9571-afd52cca453f",
      "metadata": {
        "colab": {
          "base_uri": "https://localhost:8080/"
        },
        "id": "9913dffe-5e3e-42b2-9571-afd52cca453f",
        "outputId": "ce61cfe1-b5da-4ed8-e8af-d0ae05d5b573"
      },
      "outputs": [
        {
          "name": "stdout",
          "output_type": "stream",
          "text": [
            "['This', 'is', 'a', 'very', 'long', 'text', '.']\n"
          ]
        }
      ],
      "source": [
        "text = \"This is a very long text.\"\n",
        "print(text.split())"
      ]
    },
    {
      "cell_type": "code",
      "execution_count": null,
      "id": "K_2F6gGVhNc5",
      "metadata": {
        "id": "K_2F6gGVhNc5"
      },
      "outputs": [],
      "source": []
    },
    {
      "cell_type": "markdown",
      "id": "bb2f48da-5816-43fa-adec-d75416a167cb",
      "metadata": {
        "id": "bb2f48da-5816-43fa-adec-d75416a167cb"
      },
      "source": [
        "### Concat Strings"
      ]
    },
    {
      "cell_type": "code",
      "execution_count": null,
      "id": "8f0f0f97-77e5-413d-a91b-cb7f65fe8d85",
      "metadata": {
        "id": "8f0f0f97-77e5-413d-a91b-cb7f65fe8d85"
      },
      "outputs": [],
      "source": [
        "first_name = \"Asif\"\n",
        "last_name = \"Iqbal\"\n",
        "\n",
        "full_name = first_name + \" \" + last_name"
      ]
    },
    {
      "cell_type": "code",
      "execution_count": null,
      "id": "b3de4453-3d6b-49b7-ac39-5407d2265f25",
      "metadata": {
        "colab": {
          "base_uri": "https://localhost:8080/"
        },
        "id": "b3de4453-3d6b-49b7-ac39-5407d2265f25",
        "outputId": "9c351465-6c97-4847-fb93-4d515acf1b4d"
      },
      "outputs": [
        {
          "name": "stdout",
          "output_type": "stream",
          "text": [
            "Asif Iqbal\n"
          ]
        }
      ],
      "source": [
        "print(full_name)"
      ]
    },
    {
      "cell_type": "code",
      "execution_count": null,
      "id": "759d6db6-ec74-4abb-80fd-0c6996b09c24",
      "metadata": {
        "id": "759d6db6-ec74-4abb-80fd-0c6996b09c24"
      },
      "outputs": [],
      "source": []
    },
    {
      "cell_type": "markdown",
      "id": "f03bf636-8b45-4715-90e1-186ffb77e9b1",
      "metadata": {
        "id": "f03bf636-8b45-4715-90e1-186ffb77e9b1"
      },
      "source": [
        "### Escape Characters"
      ]
    },
    {
      "cell_type": "code",
      "execution_count": null,
      "id": "34421398-6f0d-4737-8778-94b6e5765dd1",
      "metadata": {
        "colab": {
          "base_uri": "https://localhost:8080/"
        },
        "id": "34421398-6f0d-4737-8778-94b6e5765dd1",
        "outputId": "08e2b374-fa0c-4066-ac81-7bcadf625647"
      },
      "outputs": [
        {
          "name": "stdout",
          "output_type": "stream",
          "text": [
            "Oscar Wilde says, \"Be yourself; everyone else is already taken.\"\n"
          ]
        }
      ],
      "source": [
        "print(\"Oscar Wilde says, \\\"Be yourself; everyone else is already taken.\\\"\")"
      ]
    },
    {
      "cell_type": "code",
      "execution_count": null,
      "id": "b1bf0941-f222-4874-8ab9-0691d6322074",
      "metadata": {
        "colab": {
          "base_uri": "https://localhost:8080/"
        },
        "id": "b1bf0941-f222-4874-8ab9-0691d6322074",
        "outputId": "016f9a38-1947-4ec1-f4b1-1af2c28d4832"
      },
      "outputs": [
        {
          "name": "stdout",
          "output_type": "stream",
          "text": [
            "This is \\n new line\n"
          ]
        }
      ],
      "source": [
        "print(\"This is \\\\n new line\")"
      ]
    },
    {
      "cell_type": "code",
      "execution_count": null,
      "id": "3b210acf-a436-4708-aadb-6eb1a68ec441",
      "metadata": {
        "id": "3b210acf-a436-4708-aadb-6eb1a68ec441"
      },
      "outputs": [],
      "source": []
    },
    {
      "cell_type": "code",
      "execution_count": null,
      "id": "755fa39d-beb9-4b32-beae-b5c9fb79b96e",
      "metadata": {
        "colab": {
          "base_uri": "https://localhost:8080/"
        },
        "id": "755fa39d-beb9-4b32-beae-b5c9fb79b96e",
        "outputId": "59b6e3e3-f1f0-42cb-a2e7-73b9281540c7"
      },
      "outputs": [
        {
          "name": "stdout",
          "output_type": "stream",
          "text": [
            "47\n"
          ]
        }
      ],
      "source": [
        "statement = \"This is a sunny morning. We are learning Python\"\n",
        "print(len(statement))"
      ]
    },
    {
      "cell_type": "code",
      "execution_count": null,
      "id": "il2DCyvawqXy",
      "metadata": {
        "colab": {
          "base_uri": "https://localhost:8080/"
        },
        "id": "il2DCyvawqXy",
        "outputId": "25441fd0-9fbb-4d1d-acde-4aa2072a85b6"
      },
      "outputs": [
        {
          "name": "stdout",
          "output_type": "stream",
          "text": [
            "n\n"
          ]
        }
      ],
      "source": [
        "print(statement[46])"
      ]
    },
    {
      "cell_type": "markdown",
      "id": "f0268cb9-2ed7-446c-a813-0bed226b0067",
      "metadata": {
        "id": "f0268cb9-2ed7-446c-a813-0bed226b0067"
      },
      "source": [
        "# Operators\n",
        "### Unary Operator -> Need one variable\n",
        "### binary Operator -> Need two  variables\n",
        "### ternary operator -> Need three  variables"
      ]
    },
    {
      "cell_type": "code",
      "execution_count": null,
      "id": "ApmJ9_X4yOrq",
      "metadata": {
        "id": "ApmJ9_X4yOrq"
      },
      "outputs": [],
      "source": [
        "a = 5"
      ]
    },
    {
      "cell_type": "code",
      "execution_count": null,
      "id": "b9e2f0d7-178a-4520-af25-55a1ab43ae32",
      "metadata": {
        "colab": {
          "base_uri": "https://localhost:8080/"
        },
        "id": "b9e2f0d7-178a-4520-af25-55a1ab43ae32",
        "outputId": "7b5d614d-1c72-442e-8d60-d289c3ca52ee"
      },
      "outputs": [
        {
          "name": "stdout",
          "output_type": "stream",
          "text": [
            "10\n"
          ]
        }
      ],
      "source": [
        "a = a + 5\n",
        "print(a)"
      ]
    },
    {
      "cell_type": "code",
      "execution_count": null,
      "id": "176dddc1-c9f7-42e4-b831-9c60290d4b04",
      "metadata": {
        "colab": {
          "base_uri": "https://localhost:8080/"
        },
        "id": "176dddc1-c9f7-42e4-b831-9c60290d4b04",
        "outputId": "0adff98e-50f8-4761-c5e7-e1f0a805f08f"
      },
      "outputs": [
        {
          "name": "stdout",
          "output_type": "stream",
          "text": [
            "15\n"
          ]
        }
      ],
      "source": [
        "a += 5\n",
        "print(a)"
      ]
    },
    {
      "cell_type": "code",
      "execution_count": null,
      "id": "S8vnBC3vzHqy",
      "metadata": {
        "id": "S8vnBC3vzHqy"
      },
      "outputs": [],
      "source": [
        "a = 5\n",
        "b = 3"
      ]
    },
    {
      "cell_type": "code",
      "execution_count": null,
      "id": "jjQ76Jrwy8G-",
      "metadata": {
        "colab": {
          "base_uri": "https://localhost:8080/"
        },
        "id": "jjQ76Jrwy8G-",
        "outputId": "6bb99883-b207-4753-e35e-a4787655787f"
      },
      "outputs": [
        {
          "name": "stdout",
          "output_type": "stream",
          "text": [
            "-3\n"
          ]
        }
      ],
      "source": [
        "a = a - (5 + b)\n",
        "print(a)"
      ]
    },
    {
      "cell_type": "code",
      "execution_count": null,
      "id": "RnBn2cGIy8D6",
      "metadata": {
        "colab": {
          "base_uri": "https://localhost:8080/"
        },
        "id": "RnBn2cGIy8D6",
        "outputId": "3516061c-6880-410c-c82a-2e3fe5341027"
      },
      "outputs": [
        {
          "name": "stdout",
          "output_type": "stream",
          "text": [
            "-3\n"
          ]
        }
      ],
      "source": [
        "a -= 5 + b\n",
        "print(a)"
      ]
    },
    {
      "cell_type": "code",
      "execution_count": null,
      "id": "6096fdb3-5441-4451-9c6c-00fe68b8dc76",
      "metadata": {
        "id": "6096fdb3-5441-4451-9c6c-00fe68b8dc76"
      },
      "outputs": [],
      "source": [
        "a = a * 5\n",
        "a *= 5"
      ]
    },
    {
      "cell_type": "code",
      "execution_count": null,
      "id": "8ef2c2e4-af15-4b18-8b02-d499a290c751",
      "metadata": {
        "id": "8ef2c2e4-af15-4b18-8b02-d499a290c751"
      },
      "outputs": [],
      "source": [
        "a = a/5\n",
        "a/=5"
      ]
    },
    {
      "cell_type": "code",
      "execution_count": null,
      "id": "pJJhzUC_zjiy",
      "metadata": {
        "id": "pJJhzUC_zjiy"
      },
      "outputs": [],
      "source": [
        "a = a**5\n",
        "a **=5"
      ]
    },
    {
      "cell_type": "code",
      "execution_count": null,
      "id": "CAcwcY6Yzjfa",
      "metadata": {
        "colab": {
          "base_uri": "https://localhost:8080/"
        },
        "id": "CAcwcY6Yzjfa",
        "outputId": "574d9539-84ab-4846-b88d-c82dec1f298f"
      },
      "outputs": [
        {
          "name": "stdout",
          "output_type": "stream",
          "text": [
            "False\n",
            "False\n",
            "True\n",
            "False\n",
            "True\n",
            "True\n"
          ]
        }
      ],
      "source": [
        "a = 5\n",
        "b = 7\n",
        "\n",
        "print(a == b)\n",
        "print(a>b)\n",
        "print(a<b)\n",
        "print(a>=b)\n",
        "print(a<=b)\n",
        "print(a!=b)"
      ]
    },
    {
      "cell_type": "code",
      "execution_count": null,
      "id": "-0mTZ3mF08XT",
      "metadata": {
        "id": "-0mTZ3mF08XT"
      },
      "outputs": [],
      "source": [
        "## is"
      ]
    },
    {
      "cell_type": "code",
      "execution_count": null,
      "id": "X7Oj9v06zjbr",
      "metadata": {
        "id": "X7Oj9v06zjbr"
      },
      "outputs": [],
      "source": [
        "## in -> assignment operator"
      ]
    },
    {
      "cell_type": "markdown",
      "id": "9f714e57-aac8-41e7-bfe6-bf3348866080",
      "metadata": {
        "id": "9f714e57-aac8-41e7-bfe6-bf3348866080"
      },
      "source": [
        "# Lists"
      ]
    },
    {
      "cell_type": "code",
      "execution_count": null,
      "id": "6a68570b-889b-4184-bd88-664cf03cc255",
      "metadata": {
        "id": "6a68570b-889b-4184-bd88-664cf03cc255"
      },
      "outputs": [],
      "source": [
        "car = [\"Ford\", \"BMW\", \"Audi\"]"
      ]
    },
    {
      "cell_type": "code",
      "execution_count": null,
      "id": "42824f57-d1b4-4a80-8323-53d0b3907dca",
      "metadata": {
        "colab": {
          "base_uri": "https://localhost:8080/"
        },
        "id": "42824f57-d1b4-4a80-8323-53d0b3907dca",
        "outputId": "71edcdb2-70ee-4c00-9d4d-3e3cf20fe9fc"
      },
      "outputs": [
        {
          "name": "stdout",
          "output_type": "stream",
          "text": [
            "Audi\n"
          ]
        }
      ],
      "source": [
        "print(car[2])"
      ]
    },
    {
      "cell_type": "code",
      "execution_count": null,
      "id": "HVDCc8S52Nxz",
      "metadata": {
        "id": "HVDCc8S52Nxz"
      },
      "outputs": [],
      "source": [
        "car = [\"Ford\", \"BMW\", \"Audi\", 1, 1.234, True]"
      ]
    },
    {
      "cell_type": "code",
      "execution_count": null,
      "id": "FuRljZ2x2TJM",
      "metadata": {
        "colab": {
          "base_uri": "https://localhost:8080/"
        },
        "id": "FuRljZ2x2TJM",
        "outputId": "ceedf689-1aff-43b9-ce33-d547ec65c3ab"
      },
      "outputs": [
        {
          "name": "stdout",
          "output_type": "stream",
          "text": [
            "<class 'bool'>\n"
          ]
        }
      ],
      "source": [
        "print(type(car[5]))"
      ]
    },
    {
      "cell_type": "markdown",
      "id": "8be350d0-6919-4405-8dc7-5497f39091ba",
      "metadata": {
        "id": "8be350d0-6919-4405-8dc7-5497f39091ba"
      },
      "source": [
        "### List Items\n",
        "- List items are ordered, changeable, and allow duplicate values.\n",
        "- List items are indexed, the first item has index [0], the second item has index [1] etc."
      ]
    },
    {
      "cell_type": "markdown",
      "id": "44e8362e-8e55-4f19-a736-8afcbfe0f3d0",
      "metadata": {
        "id": "44e8362e-8e55-4f19-a736-8afcbfe0f3d0"
      },
      "source": [
        "### Ordered\n",
        "- When we say that lists are ordered, it means that the items have a defined order, and that order will not change.\n",
        "- If you add new items to a list, the new items will be placed at the end of the list."
      ]
    },
    {
      "cell_type": "code",
      "execution_count": null,
      "id": "b2bb79f7-bb7a-4104-84df-58d3e3d6e7a2",
      "metadata": {
        "colab": {
          "base_uri": "https://localhost:8080/"
        },
        "id": "b2bb79f7-bb7a-4104-84df-58d3e3d6e7a2",
        "outputId": "74fb94c1-2a20-4363-cc67-f427c96c1b54"
      },
      "outputs": [
        {
          "name": "stdout",
          "output_type": "stream",
          "text": [
            "Audi\n"
          ]
        }
      ],
      "source": [
        "car = [\"Ford\", \"BMW\", \"Audi\", \"Audi\"]\n",
        "print(car[3])"
      ]
    },
    {
      "cell_type": "code",
      "execution_count": null,
      "id": "0038dab6-2b12-4442-86d2-6bf94f2e13c1",
      "metadata": {
        "id": "0038dab6-2b12-4442-86d2-6bf94f2e13c1"
      },
      "outputs": [],
      "source": [
        "car[2] = \"Tesla\""
      ]
    },
    {
      "cell_type": "code",
      "execution_count": null,
      "id": "632163fb-bde2-4a35-b182-2d2d656d1bd2",
      "metadata": {
        "colab": {
          "base_uri": "https://localhost:8080/"
        },
        "id": "632163fb-bde2-4a35-b182-2d2d656d1bd2",
        "outputId": "39348563-9c31-42b5-bc0d-66c0534b951e"
      },
      "outputs": [
        {
          "name": "stdout",
          "output_type": "stream",
          "text": [
            "['Ford', 'BMW', 'Tesla']\n"
          ]
        }
      ],
      "source": [
        "print(car)"
      ]
    },
    {
      "cell_type": "code",
      "execution_count": null,
      "id": "3gk6VEle3pFy",
      "metadata": {
        "id": "3gk6VEle3pFy"
      },
      "outputs": [],
      "source": [
        "car = [\"Ford\", \"BMW\", \"Audi\"]\n",
        "temp = car[0]\n",
        "car[0] = car[2]\n",
        "car[2] = temp"
      ]
    },
    {
      "cell_type": "code",
      "execution_count": null,
      "id": "9FgrXUT03pDb",
      "metadata": {
        "colab": {
          "base_uri": "https://localhost:8080/"
        },
        "id": "9FgrXUT03pDb",
        "outputId": "fd25f582-11d8-4245-f605-0b15de5570df"
      },
      "outputs": [
        {
          "name": "stdout",
          "output_type": "stream",
          "text": [
            "['Audi', 'BMW', 'Ford']\n"
          ]
        }
      ],
      "source": [
        "print(car)"
      ]
    },
    {
      "cell_type": "code",
      "execution_count": null,
      "id": "bc78031a-a883-44ce-a6d5-6d46cfa8a8b0",
      "metadata": {
        "id": "bc78031a-a883-44ce-a6d5-6d46cfa8a8b0"
      },
      "outputs": [],
      "source": [
        "car = [\"Ford\", \"BMW\", \"Audi\", [\"Fiat\", \"Tata\"]]"
      ]
    },
    {
      "cell_type": "code",
      "execution_count": null,
      "id": "cgC72jCo4uC2",
      "metadata": {
        "colab": {
          "base_uri": "https://localhost:8080/"
        },
        "id": "cgC72jCo4uC2",
        "outputId": "4f88af48-ec71-4cd5-e973-10719c8ae3a3"
      },
      "outputs": [
        {
          "name": "stdout",
          "output_type": "stream",
          "text": [
            "['Ford', 'BMW', 'Audi', ['Fiat', 'Tata']]\n"
          ]
        }
      ],
      "source": [
        "print(car)"
      ]
    },
    {
      "cell_type": "code",
      "execution_count": null,
      "id": "1nsAHQiO4t9u",
      "metadata": {
        "colab": {
          "base_uri": "https://localhost:8080/"
        },
        "id": "1nsAHQiO4t9u",
        "outputId": "5e879125-1c88-46e7-e9a2-8cbd38cc94ab"
      },
      "outputs": [
        {
          "name": "stdout",
          "output_type": "stream",
          "text": [
            "Tata\n"
          ]
        }
      ],
      "source": [
        "print(car[3][1])"
      ]
    },
    {
      "cell_type": "markdown",
      "id": "99468e5e-1f95-4b8d-acc0-fd7e758bb433",
      "metadata": {
        "id": "99468e5e-1f95-4b8d-acc0-fd7e758bb433"
      },
      "source": [
        "### List Items"
      ]
    },
    {
      "cell_type": "code",
      "execution_count": null,
      "id": "b9597d06-2596-4407-aa33-9f1f79f8ee7d",
      "metadata": {
        "id": "b9597d06-2596-4407-aa33-9f1f79f8ee7d"
      },
      "outputs": [],
      "source": [
        "car = [\"Ford\", \"BMW\", \"Audi\", 1, 1.55, True]"
      ]
    },
    {
      "cell_type": "code",
      "execution_count": null,
      "id": "7295ad92-11e0-423b-918c-91f830d9d6d3",
      "metadata": {
        "colab": {
          "base_uri": "https://localhost:8080/"
        },
        "id": "7295ad92-11e0-423b-918c-91f830d9d6d3",
        "outputId": "93f45ee9-0c0c-483d-ba99-e1f03d576571"
      },
      "outputs": [
        {
          "data": {
            "text/plain": [
              "list"
            ]
          },
          "execution_count": 44,
          "metadata": {},
          "output_type": "execute_result"
        }
      ],
      "source": [
        "type(car)"
      ]
    },
    {
      "cell_type": "code",
      "execution_count": null,
      "id": "ff90df97-8562-49c7-8078-348b84da2e30",
      "metadata": {
        "colab": {
          "base_uri": "https://localhost:8080/"
        },
        "id": "ff90df97-8562-49c7-8078-348b84da2e30",
        "outputId": "a7f57616-ee6e-4198-fab7-1c59fccbb017"
      },
      "outputs": [
        {
          "data": {
            "text/plain": [
              "6"
            ]
          },
          "execution_count": 45,
          "metadata": {},
          "output_type": "execute_result"
        }
      ],
      "source": [
        "len(car)"
      ]
    },
    {
      "cell_type": "code",
      "execution_count": null,
      "id": "wXakXZv85RST",
      "metadata": {
        "id": "wXakXZv85RST"
      },
      "outputs": [],
      "source": [
        "name = \"Asif Iqbal\""
      ]
    },
    {
      "cell_type": "code",
      "execution_count": null,
      "id": "c9dfcb86-f786-4e56-ac24-4ef7bfc9f318",
      "metadata": {
        "id": "c9dfcb86-f786-4e56-ac24-4ef7bfc9f318"
      },
      "outputs": [],
      "source": [
        "car = [\"Ford\", \"BMW\", \"Audi\", \"Tesla\", \"Tata\", \"Toyota\"]"
      ]
    },
    {
      "cell_type": "code",
      "execution_count": null,
      "id": "dc6551e2-8dcc-49df-b4c1-f4535b797de3",
      "metadata": {
        "colab": {
          "base_uri": "https://localhost:8080/"
        },
        "id": "dc6551e2-8dcc-49df-b4c1-f4535b797de3",
        "outputId": "48a4a24d-22df-48be-ed66-5bd80dd0959d"
      },
      "outputs": [
        {
          "name": "stdout",
          "output_type": "stream",
          "text": [
            "['Audi', 'Tesla', 'Tata']\n"
          ]
        }
      ],
      "source": [
        "print(car[2:5])"
      ]
    },
    {
      "cell_type": "code",
      "execution_count": null,
      "id": "66048f23-cce3-4ca5-9426-828c52cc4679",
      "metadata": {
        "colab": {
          "base_uri": "https://localhost:8080/"
        },
        "id": "66048f23-cce3-4ca5-9426-828c52cc4679",
        "outputId": "a080497b-b2ac-49d2-fe9b-8fc94c52f043"
      },
      "outputs": [
        {
          "name": "stdout",
          "output_type": "stream",
          "text": [
            "6\n"
          ]
        }
      ],
      "source": [
        "print(len(car))"
      ]
    },
    {
      "cell_type": "markdown",
      "id": "rgswIFvo5omO",
      "metadata": {
        "id": "rgswIFvo5omO"
      },
      "source": [
        "### Slicing\n",
        "###### [start_index, end_index -1]"
      ]
    },
    {
      "cell_type": "code",
      "execution_count": null,
      "id": "850f2876-9a0f-498c-95a2-37a607b39b64",
      "metadata": {
        "colab": {
          "base_uri": "https://localhost:8080/"
        },
        "id": "850f2876-9a0f-498c-95a2-37a607b39b64",
        "outputId": "deaa6260-f381-4dcf-b029-744f30a516ca"
      },
      "outputs": [
        {
          "name": "stdout",
          "output_type": "stream",
          "text": [
            "['Ford', 'BMW', 'Audi', 'Tesla']\n"
          ]
        }
      ],
      "source": [
        "print(car[:4])"
      ]
    },
    {
      "cell_type": "code",
      "execution_count": null,
      "id": "9c4fba11-7215-446d-be93-1fdccc5a1fb9",
      "metadata": {
        "colab": {
          "base_uri": "https://localhost:8080/"
        },
        "id": "9c4fba11-7215-446d-be93-1fdccc5a1fb9",
        "outputId": "02bdf19f-4963-4b99-be69-6850aab17ee3"
      },
      "outputs": [
        {
          "name": "stdout",
          "output_type": "stream",
          "text": [
            "['Ford', 'BMW', 'Audi', 'Tesla']\n",
            "['Audi', 'Tesla', 'Tata', 'Toyota']\n"
          ]
        }
      ],
      "source": [
        "car = [\"Ford\", \"BMW\", \"Audi\", \"Tesla\", \"Tata\", \"Toyota\"]\n",
        "print(car[:4])\n",
        "print(car[-4:])"
      ]
    },
    {
      "cell_type": "code",
      "execution_count": null,
      "id": "74f27b28-b2c9-4c49-a1e2-94a0b16952a2",
      "metadata": {
        "colab": {
          "base_uri": "https://localhost:8080/"
        },
        "id": "74f27b28-b2c9-4c49-a1e2-94a0b16952a2",
        "outputId": "46fdda8a-c1b7-4bdf-e73a-e3ec964aeab0"
      },
      "outputs": [
        {
          "name": "stdout",
          "output_type": "stream",
          "text": [
            "['Audi', 'Tesla', 'Tata', 'Toyota']\n"
          ]
        }
      ],
      "source": [
        "car = [\"Ford\", \"BMW\", \"Audi\", \"Tesla\", \"Tata\", \"Toyota\"]\n",
        "print(car[-4:])"
      ]
    },
    {
      "cell_type": "code",
      "execution_count": null,
      "id": "kAhUMvRM6iZz",
      "metadata": {
        "colab": {
          "base_uri": "https://localhost:8080/"
        },
        "id": "kAhUMvRM6iZz",
        "outputId": "416458c6-4795-4eb6-b4c2-d1552e9461fe"
      },
      "outputs": [
        {
          "name": "stdout",
          "output_type": "stream",
          "text": [
            "['Ford', 'BMW', 'Hyundai', 'Honda', 'Tata', 'Toyota']\n"
          ]
        }
      ],
      "source": [
        "car = [\"Ford\", \"BMW\", \"Audi\", \"Tesla\", \"Tata\", \"Toyota\"]\n",
        "car[2:4] = [\"Hyundai\", \"Honda\"]\n",
        "print(car)"
      ]
    },
    {
      "cell_type": "code",
      "execution_count": null,
      "id": "wqdP9AXb6iWj",
      "metadata": {
        "colab": {
          "base_uri": "https://localhost:8080/"
        },
        "id": "wqdP9AXb6iWj",
        "outputId": "faa014b4-332e-4b6e-bd46-02bcadbb572a"
      },
      "outputs": [
        {
          "name": "stdout",
          "output_type": "stream",
          "text": [
            "['Ford', 'BMW', 'Hyundai', 'Honda', 'Tesla', 'Tata', 'Toyota']\n"
          ]
        }
      ],
      "source": [
        "car = [\"Ford\", \"BMW\", \"Audi\", \"Tesla\", \"Tata\", \"Toyota\"]\n",
        "car[2:3] = [\"Hyundai\", \"Honda\"]\n",
        "print(car)"
      ]
    },
    {
      "cell_type": "code",
      "execution_count": null,
      "id": "5c96c767-e330-45f7-96e8-a51b81996084",
      "metadata": {
        "colab": {
          "base_uri": "https://localhost:8080/"
        },
        "id": "5c96c767-e330-45f7-96e8-a51b81996084",
        "outputId": "d3e02623-890d-4e73-fcb3-b22b5c54ca19"
      },
      "outputs": [
        {
          "name": "stdout",
          "output_type": "stream",
          "text": [
            "['Ford', 'BMW', 'Hyundai', 'Honda', 'Audi', 'Tesla', 'Tata', 'Toyota']\n"
          ]
        }
      ],
      "source": [
        "car = [\"Ford\", \"BMW\", \"Audi\", \"Tesla\", \"Tata\", \"Toyota\"]\n",
        "car[2:2] = [\"Hyundai\", \"Honda\"]\n",
        "print(car)"
      ]
    },
    {
      "cell_type": "code",
      "execution_count": null,
      "id": "6sGKdSwb_R1r",
      "metadata": {
        "colab": {
          "base_uri": "https://localhost:8080/"
        },
        "id": "6sGKdSwb_R1r",
        "outputId": "430a7b8b-051f-4fae-e352-5c9b8e2a7ae7"
      },
      "outputs": [
        {
          "name": "stdout",
          "output_type": "stream",
          "text": [
            "['Ford', 'BMW', 'Hyundai', 'Audi', 'Tesla', 'Tata', 'Toyota']\n"
          ]
        }
      ],
      "source": [
        "car = [\"Ford\", \"BMW\", \"Audi\", \"Tesla\", \"Tata\", \"Toyota\"]\n",
        "car.insert(2, \"Hyundai\")\n",
        "print(car)"
      ]
    },
    {
      "cell_type": "markdown",
      "id": "008aaafd-e93e-40e4-900c-d1cc34c5efd2",
      "metadata": {
        "id": "008aaafd-e93e-40e4-900c-d1cc34c5efd2"
      },
      "source": [
        "### Add and Remove List Items"
      ]
    },
    {
      "cell_type": "code",
      "execution_count": null,
      "id": "6a767d41-064b-413a-9929-15583ed20228",
      "metadata": {
        "colab": {
          "base_uri": "https://localhost:8080/"
        },
        "id": "6a767d41-064b-413a-9929-15583ed20228",
        "outputId": "033c273c-94a4-4326-b619-8d6eedc56e30"
      },
      "outputs": [
        {
          "name": "stdout",
          "output_type": "stream",
          "text": [
            "['Ford', 'BMW', 'Audi', 'Tata']\n"
          ]
        }
      ],
      "source": [
        "car = [\"Ford\", \"BMW\", \"Audi\"]\n",
        "car.append(\"Tata\")\n",
        "print(car)"
      ]
    },
    {
      "cell_type": "code",
      "execution_count": null,
      "id": "d3f3e2f5-c745-4265-a2da-f72f7afde3b0",
      "metadata": {
        "colab": {
          "base_uri": "https://localhost:8080/"
        },
        "id": "d3f3e2f5-c745-4265-a2da-f72f7afde3b0",
        "outputId": "7421edab-50ea-4e65-8611-84f1d3f98ca6"
      },
      "outputs": [
        {
          "name": "stdout",
          "output_type": "stream",
          "text": [
            "['Ford', 'BMW', 'Hyundai', 'Audi', 'Tesla', 'Tata', 'Toyota']\n"
          ]
        }
      ],
      "source": [
        "car = [\"Ford\", \"BMW\", \"Audi\", \"Tesla\", \"Tata\", \"Toyota\"]\n",
        "car.insert(2, \"Hyundai\")\n",
        "print(car)"
      ]
    },
    {
      "cell_type": "code",
      "execution_count": null,
      "id": "660871f2-1f5b-418a-9e9c-f99d1f60ed4b",
      "metadata": {
        "id": "660871f2-1f5b-418a-9e9c-f99d1f60ed4b"
      },
      "outputs": [],
      "source": [
        "car1 = [\"Ford\", \"BMW\", \"Audi\"]\n",
        "car2 = [\"Tesla\", \"Tata\", \"Toyota\"]\n",
        "car1.extend(car2)"
      ]
    },
    {
      "cell_type": "code",
      "execution_count": null,
      "id": "8ac5f971-aba4-448f-870a-186e09c5bdcd",
      "metadata": {
        "colab": {
          "base_uri": "https://localhost:8080/"
        },
        "id": "8ac5f971-aba4-448f-870a-186e09c5bdcd",
        "outputId": "1a3a9b02-2641-446a-deb9-99b9229d32a5"
      },
      "outputs": [
        {
          "name": "stdout",
          "output_type": "stream",
          "text": [
            "['Ford', 'BMW', 'Audi', 'Tesla', 'Tata', 'Toyota']\n",
            "['Tesla', 'Tata', 'Toyota']\n"
          ]
        }
      ],
      "source": [
        "print(car1)\n",
        "print(car2)"
      ]
    },
    {
      "cell_type": "code",
      "execution_count": null,
      "id": "2658464d-40ef-4afc-89b4-725ebff5ba3a",
      "metadata": {
        "colab": {
          "base_uri": "https://localhost:8080/"
        },
        "id": "2658464d-40ef-4afc-89b4-725ebff5ba3a",
        "outputId": "6335c5b4-85c6-4095-ef8e-043b74011519"
      },
      "outputs": [
        {
          "name": "stdout",
          "output_type": "stream",
          "text": [
            "['BMW', 'Audi', 'Tesla', 'Tata', 'Toyota']\n"
          ]
        }
      ],
      "source": [
        "car = [\"Ford\", \"BMW\", \"Audi\", \"Tesla\", \"Tata\", \"Toyota\"]\n",
        "car.remove(\"Ford\")\n",
        "print(car)"
      ]
    },
    {
      "cell_type": "code",
      "execution_count": null,
      "id": "7469224c-d309-46ec-94d3-ea81e377fc0a",
      "metadata": {
        "colab": {
          "base_uri": "https://localhost:8080/"
        },
        "id": "7469224c-d309-46ec-94d3-ea81e377fc0a",
        "outputId": "eaf332b8-fc86-4ed1-f9cd-50cc7b1c6251"
      },
      "outputs": [
        {
          "name": "stdout",
          "output_type": "stream",
          "text": [
            "['BMW', 'Audi', 'Tesla', 'Tata', 'Toyota', 'Ford']\n"
          ]
        }
      ],
      "source": [
        "car = [\"Ford\", \"BMW\", \"Audi\", \"Tesla\", \"Tata\", \"Toyota\", \"Ford\"]\n",
        "car.remove(\"Ford\")\n",
        "print(car)"
      ]
    },
    {
      "cell_type": "code",
      "execution_count": null,
      "id": "UrH_BcSQAnSe",
      "metadata": {
        "colab": {
          "base_uri": "https://localhost:8080/"
        },
        "id": "UrH_BcSQAnSe",
        "outputId": "5b76064b-10c6-4a8b-e087-e04d0e67c5db"
      },
      "outputs": [
        {
          "name": "stdout",
          "output_type": "stream",
          "text": [
            "['BMW', 'Audi', 'Tesla', 'Tata', 'Toyota']\n"
          ]
        }
      ],
      "source": [
        "car.remove(\"Ford\")\n",
        "print(car)"
      ]
    },
    {
      "cell_type": "code",
      "execution_count": null,
      "id": "-Liu9wBSApEG",
      "metadata": {
        "colab": {
          "base_uri": "https://localhost:8080/"
        },
        "id": "-Liu9wBSApEG",
        "outputId": "36c11d4c-0d99-41ba-b042-b88ff7d6d652"
      },
      "outputs": [
        {
          "name": "stdout",
          "output_type": "stream",
          "text": [
            "['Ford', 'BMW', 'Audi', 'Tesla', 'Tata']\n"
          ]
        }
      ],
      "source": [
        "car = [\"Ford\", \"BMW\", \"Audi\", \"Tesla\", \"Tata\", \"Toyota\"]\n",
        "car.pop()\n",
        "print(car)"
      ]
    },
    {
      "cell_type": "code",
      "execution_count": null,
      "id": "s27ihaMtAo-_",
      "metadata": {
        "id": "s27ihaMtAo-_"
      },
      "outputs": [],
      "source": []
    },
    {
      "cell_type": "markdown",
      "id": "eb4e45fb-1fbb-486e-8ec8-29aa7fc227c9",
      "metadata": {
        "id": "eb4e45fb-1fbb-486e-8ec8-29aa7fc227c9"
      },
      "source": [
        "### Sort List"
      ]
    },
    {
      "cell_type": "code",
      "execution_count": null,
      "id": "e75f3be1-1a98-496e-b0d6-0d59be1a9f62",
      "metadata": {
        "colab": {
          "base_uri": "https://localhost:8080/"
        },
        "id": "e75f3be1-1a98-496e-b0d6-0d59be1a9f62",
        "outputId": "77fd5129-328b-4cbb-ed0f-ce749e579172"
      },
      "outputs": [
        {
          "name": "stdout",
          "output_type": "stream",
          "text": [
            "['Audi', 'BMW', 'Ford', 'Tata', 'Tesla', 'Toyota']\n"
          ]
        }
      ],
      "source": [
        "car = [\"Ford\", \"BMW\", \"Audi\", \"Tesla\", \"Tata\", \"Toyota\"]\n",
        "car.sort()\n",
        "print(car)"
      ]
    },
    {
      "cell_type": "code",
      "execution_count": null,
      "id": "21718bea-f0a6-4e2d-8c18-a93616fe16b0",
      "metadata": {
        "colab": {
          "base_uri": "https://localhost:8080/"
        },
        "id": "21718bea-f0a6-4e2d-8c18-a93616fe16b0",
        "outputId": "3c16da5e-1daa-42b0-ded8-79ee8bd265b2"
      },
      "outputs": [
        {
          "name": "stdout",
          "output_type": "stream",
          "text": [
            "[4, 6, 6, 7, 7, 10, 32, 45, 124, 834]\n"
          ]
        }
      ],
      "source": [
        "number = [10,124,32,45,6,7,834,6,7,4]\n",
        "number.sort()\n",
        "print(number)"
      ]
    },
    {
      "cell_type": "code",
      "execution_count": null,
      "id": "727487e3-315b-4efb-be95-be601e4304b7",
      "metadata": {
        "colab": {
          "base_uri": "https://localhost:8080/"
        },
        "id": "727487e3-315b-4efb-be95-be601e4304b7",
        "outputId": "8427d359-16ff-4eff-b80e-ac508d61e82d"
      },
      "outputs": [
        {
          "name": "stdout",
          "output_type": "stream",
          "text": [
            "['Toyota', 'Tesla', 'Tata', 'Ford', 'BMW', 'Audi']\n"
          ]
        }
      ],
      "source": [
        "car = [\"Ford\", \"BMW\", \"Audi\", \"Tesla\", \"Tata\", \"Toyota\"]\n",
        "car.sort(reverse = True)\n",
        "print(car)"
      ]
    },
    {
      "cell_type": "code",
      "execution_count": null,
      "id": "b75d75db-5f7d-486d-9d4d-07300ed631ce",
      "metadata": {
        "colab": {
          "base_uri": "https://localhost:8080/"
        },
        "id": "b75d75db-5f7d-486d-9d4d-07300ed631ce",
        "outputId": "3baa1414-835a-44bb-db60-849002abe139"
      },
      "outputs": [
        {
          "name": "stdout",
          "output_type": "stream",
          "text": [
            "[834, 124, 45, 32, 10, 7, 7, 6, 6, 4]\n"
          ]
        }
      ],
      "source": [
        "number = [10,124,32,45,6,7,834,6,7,4]\n",
        "number.sort(reverse=True)\n",
        "print(number)"
      ]
    },
    {
      "cell_type": "markdown",
      "id": "a353edf0-8c3b-409b-9746-7d02ef98eea3",
      "metadata": {
        "id": "a353edf0-8c3b-409b-9746-7d02ef98eea3"
      },
      "source": [
        "### Join Lists"
      ]
    },
    {
      "cell_type": "code",
      "execution_count": null,
      "id": "c637ffca-21ce-4c36-9586-0ff434d11287",
      "metadata": {
        "colab": {
          "base_uri": "https://localhost:8080/"
        },
        "id": "c637ffca-21ce-4c36-9586-0ff434d11287",
        "outputId": "a69f8c65-b74d-4962-96a7-b471b7667adb"
      },
      "outputs": [
        {
          "name": "stdout",
          "output_type": "stream",
          "text": [
            "['a', 'b', 'c', 'd', 'e', 'f']\n",
            "['a', 'b', 'c']\n",
            "['d', 'e', 'f']\n"
          ]
        }
      ],
      "source": [
        "list1 = ['a', 'b', 'c']\n",
        "list2 = ['d', 'e', 'f']\n",
        "\n",
        "list3 = list1 + list2\n",
        "print(list3)\n",
        "print(list1)\n",
        "print(list2)"
      ]
    },
    {
      "cell_type": "code",
      "execution_count": null,
      "id": "24112996-1c03-4a81-acf9-5098c0c3f152",
      "metadata": {
        "colab": {
          "base_uri": "https://localhost:8080/"
        },
        "id": "24112996-1c03-4a81-acf9-5098c0c3f152",
        "outputId": "19affd22-ed7e-487c-a18c-3113358c7dd0"
      },
      "outputs": [
        {
          "name": "stdout",
          "output_type": "stream",
          "text": [
            "['a', 'b', 'c', 'd', 'e', 'f']\n",
            "['d', 'e', 'f']\n"
          ]
        }
      ],
      "source": [
        "list1 = ['a', 'b', 'c']\n",
        "list2 = ['d', 'e', 'f']\n",
        "\n",
        "list1.extend(list2)\n",
        "print(list1)\n",
        "print(list2)"
      ]
    },
    {
      "cell_type": "code",
      "execution_count": null,
      "id": "5988ac69-6263-49fd-bab6-036985bda106",
      "metadata": {
        "colab": {
          "base_uri": "https://localhost:8080/"
        },
        "id": "5988ac69-6263-49fd-bab6-036985bda106",
        "outputId": "f74e36b0-ed88-4e2a-eac0-b8cc7385dc20"
      },
      "outputs": [
        {
          "name": "stdout",
          "output_type": "stream",
          "text": [
            "['a', 'b', 'c', 'd', 'e', 'f']\n"
          ]
        }
      ],
      "source": [
        "list1 = ['a', 'b', 'c']\n",
        "list2 = ['d', 'e', 'f']\n",
        "\n",
        "for i in list2:\n",
        "  list1.append(i)\n",
        "\n",
        "print(list1)"
      ]
    },
    {
      "cell_type": "markdown",
      "id": "1042a327-1e7e-4aed-b025-5515b29a6965",
      "metadata": {
        "id": "1042a327-1e7e-4aed-b025-5515b29a6965"
      },
      "source": [
        "# Tuple"
      ]
    },
    {
      "cell_type": "code",
      "execution_count": null,
      "id": "77638794-ac00-477a-bfd6-0458087199ad",
      "metadata": {
        "id": "77638794-ac00-477a-bfd6-0458087199ad"
      },
      "outputs": [],
      "source": [
        "car = (\"Ford\", \"BMW\", \"Audi\", \"Tesla\", \"Tata\", \"Toyota\")"
      ]
    },
    {
      "cell_type": "code",
      "execution_count": null,
      "id": "dc62020d-272e-41b1-ad99-42e699455031",
      "metadata": {
        "colab": {
          "base_uri": "https://localhost:8080/"
        },
        "id": "dc62020d-272e-41b1-ad99-42e699455031",
        "outputId": "dc79b0e5-4c90-44f1-c232-756c451c2eab"
      },
      "outputs": [
        {
          "name": "stdout",
          "output_type": "stream",
          "text": [
            "('Ford', 'BMW', 'Audi', 'Tesla', 'Tata', 'Toyota')\n"
          ]
        }
      ],
      "source": [
        "print(car)"
      ]
    },
    {
      "cell_type": "code",
      "execution_count": null,
      "id": "6d355d91-6429-4688-ad67-de196ecddc13",
      "metadata": {
        "colab": {
          "base_uri": "https://localhost:8080/"
        },
        "id": "6d355d91-6429-4688-ad67-de196ecddc13",
        "outputId": "c402b857-c7d0-4c1f-fde8-84b7c9d80367"
      },
      "outputs": [
        {
          "name": "stdout",
          "output_type": "stream",
          "text": [
            "<class 'tuple'>\n"
          ]
        }
      ],
      "source": [
        "print(type(car))"
      ]
    },
    {
      "cell_type": "markdown",
      "id": "74713943-6233-4133-ab78-a416516625ae",
      "metadata": {
        "id": "74713943-6233-4133-ab78-a416516625ae"
      },
      "source": [
        "### Tuple items are ordered, unchangeable, and allow duplicate values.\n",
        "### Tuple items are indexed, the first item has index [0], the second item has index [1] etc."
      ]
    },
    {
      "cell_type": "code",
      "execution_count": null,
      "id": "2e0f2742-6e61-4333-9b65-93b96c34dbf5",
      "metadata": {
        "id": "2e0f2742-6e61-4333-9b65-93b96c34dbf5"
      },
      "outputs": [],
      "source": [
        "car = (\"Ford\", \"BMW\", \"Audi\", \"Tesla\", \"Tata\", \"Toyota\")"
      ]
    },
    {
      "cell_type": "code",
      "execution_count": null,
      "id": "3388edfc-f8c6-440c-89e4-e4c8322e441f",
      "metadata": {
        "colab": {
          "base_uri": "https://localhost:8080/",
          "height": 141
        },
        "id": "3388edfc-f8c6-440c-89e4-e4c8322e441f",
        "outputId": "35fbee27-5a4c-445e-cc15-89dc96aa6e57"
      },
      "outputs": [
        {
          "ename": "TypeError",
          "evalue": "'tuple' object does not support item assignment",
          "output_type": "error",
          "traceback": [
            "\u001b[0;31m---------------------------------------------------------------------------\u001b[0m",
            "\u001b[0;31mTypeError\u001b[0m                                 Traceback (most recent call last)",
            "\u001b[0;32m<ipython-input-110-5b9885036ba9>\u001b[0m in \u001b[0;36m<cell line: 1>\u001b[0;34m()\u001b[0m\n\u001b[0;32m----> 1\u001b[0;31m \u001b[0mcar\u001b[0m\u001b[0;34m[\u001b[0m\u001b[0;36m2\u001b[0m\u001b[0;34m]\u001b[0m \u001b[0;34m=\u001b[0m \u001b[0;34m\"Audi\"\u001b[0m\u001b[0;34m\u001b[0m\u001b[0;34m\u001b[0m\u001b[0m\n\u001b[0m",
            "\u001b[0;31mTypeError\u001b[0m: 'tuple' object does not support item assignment"
          ]
        }
      ],
      "source": [
        "car[2] = \"Audi\""
      ]
    },
    {
      "cell_type": "code",
      "execution_count": null,
      "id": "72ef9a5c-d900-4677-a849-405939f98032",
      "metadata": {
        "id": "72ef9a5c-d900-4677-a849-405939f98032"
      },
      "outputs": [],
      "source": [
        "car = (\"Ford\", \"BMW\", \"Audi\", \"Tesla\", \"Tesla\")"
      ]
    },
    {
      "cell_type": "code",
      "execution_count": null,
      "id": "a8b11c3c-3ea2-4c4f-8bb6-9d3b4f81ae4f",
      "metadata": {
        "colab": {
          "base_uri": "https://localhost:8080/"
        },
        "id": "a8b11c3c-3ea2-4c4f-8bb6-9d3b4f81ae4f",
        "outputId": "41dd6b5b-70ac-4d1a-94ad-9ef31ceb4b82"
      },
      "outputs": [
        {
          "name": "stdout",
          "output_type": "stream",
          "text": [
            "Tesla\n"
          ]
        }
      ],
      "source": [
        "print(car[4])"
      ]
    },
    {
      "cell_type": "markdown",
      "id": "47fa0d47-6b82-47a7-9e1d-ffe70ef0bb45",
      "metadata": {
        "id": "47fa0d47-6b82-47a7-9e1d-ffe70ef0bb45"
      },
      "source": [
        "### You may check the tuple as you check the list"
      ]
    },
    {
      "cell_type": "code",
      "execution_count": null,
      "id": "d0815a15-bade-4879-882c-760ee611108c",
      "metadata": {
        "colab": {
          "base_uri": "https://localhost:8080/"
        },
        "id": "d0815a15-bade-4879-882c-760ee611108c",
        "outputId": "61311104-8f56-4b9b-b377-c6719c7609f2"
      },
      "outputs": [
        {
          "name": "stdout",
          "output_type": "stream",
          "text": [
            "5\n"
          ]
        }
      ],
      "source": [
        "car = (\"Ford\", \"BMW\", \"Audi\", \"Tesla\", \"Tesla\")\n",
        "print(len(car))"
      ]
    },
    {
      "cell_type": "code",
      "execution_count": null,
      "id": "6e52c5b0-b34f-467b-937d-992b0b94608b",
      "metadata": {
        "colab": {
          "base_uri": "https://localhost:8080/"
        },
        "id": "6e52c5b0-b34f-467b-937d-992b0b94608b",
        "outputId": "3511ebd5-9e43-468e-a39b-c5a413ab256f"
      },
      "outputs": [
        {
          "name": "stdout",
          "output_type": "stream",
          "text": [
            "('Audi', 'Tesla', 'Tesla')\n"
          ]
        }
      ],
      "source": [
        "print(car[2:5])"
      ]
    },
    {
      "cell_type": "code",
      "execution_count": null,
      "id": "c05b663e-dcb5-4051-9f4f-46a1f63f0d68",
      "metadata": {
        "colab": {
          "base_uri": "https://localhost:8080/"
        },
        "id": "c05b663e-dcb5-4051-9f4f-46a1f63f0d68",
        "outputId": "77b8cc37-1d53-43a1-80c0-0e71778a27bd"
      },
      "outputs": [
        {
          "name": "stdout",
          "output_type": "stream",
          "text": [
            "<class 'tuple'>\n"
          ]
        }
      ],
      "source": [
        "print(type(car[-4:]))"
      ]
    },
    {
      "cell_type": "code",
      "execution_count": null,
      "id": "078fcf92-f341-42bc-be69-c8a09667a35d",
      "metadata": {
        "colab": {
          "base_uri": "https://localhost:8080/",
          "height": 141
        },
        "id": "078fcf92-f341-42bc-be69-c8a09667a35d",
        "outputId": "3e0c1cb9-b013-424e-f540-593c5fa541b7"
      },
      "outputs": [
        {
          "ename": "AttributeError",
          "evalue": "'tuple' object has no attribute 'append'",
          "output_type": "error",
          "traceback": [
            "\u001b[0;31m---------------------------------------------------------------------------\u001b[0m",
            "\u001b[0;31mAttributeError\u001b[0m                            Traceback (most recent call last)",
            "\u001b[0;32m<ipython-input-127-133a9f56d8e3>\u001b[0m in \u001b[0;36m<cell line: 1>\u001b[0;34m()\u001b[0m\n\u001b[0;32m----> 1\u001b[0;31m \u001b[0mcar\u001b[0m\u001b[0;34m.\u001b[0m\u001b[0mappend\u001b[0m\u001b[0;34m(\u001b[0m\u001b[0;34m\"Hyndai\"\u001b[0m\u001b[0;34m)\u001b[0m\u001b[0;34m\u001b[0m\u001b[0;34m\u001b[0m\u001b[0m\n\u001b[0m",
            "\u001b[0;31mAttributeError\u001b[0m: 'tuple' object has no attribute 'append'"
          ]
        }
      ],
      "source": []
    },
    {
      "cell_type": "code",
      "execution_count": null,
      "id": "268f4342-bdb3-432d-889f-a4a6a69f949b",
      "metadata": {
        "colab": {
          "base_uri": "https://localhost:8080/"
        },
        "id": "268f4342-bdb3-432d-889f-a4a6a69f949b",
        "outputId": "35ddad69-d82b-4d3b-f695-a176dd9aaa93"
      },
      "outputs": [
        {
          "name": "stdout",
          "output_type": "stream",
          "text": [
            "('a', 'b', 'c', 'd', 'e', 'f')\n",
            "('a', 'b', 'c')\n",
            "('d', 'e', 'f')\n"
          ]
        }
      ],
      "source": [
        "list1 = ('a', 'b', 'c')\n",
        "list2 = ('d', 'e', 'f')\n",
        "\n",
        "list3 = list1 + list2\n",
        "print(list3)\n",
        "print(list1)\n",
        "print(list2)"
      ]
    },
    {
      "cell_type": "code",
      "execution_count": null,
      "id": "eefe027a-2c23-438b-8f23-9acfa5f8178e",
      "metadata": {
        "colab": {
          "base_uri": "https://localhost:8080/",
          "height": 211
        },
        "id": "eefe027a-2c23-438b-8f23-9acfa5f8178e",
        "outputId": "8680ee7d-310e-4a2c-9c13-6fea736c32db"
      },
      "outputs": [
        {
          "ename": "AttributeError",
          "evalue": "'tuple' object has no attribute 'extend'",
          "output_type": "error",
          "traceback": [
            "\u001b[0;31m---------------------------------------------------------------------------\u001b[0m",
            "\u001b[0;31mAttributeError\u001b[0m                            Traceback (most recent call last)",
            "\u001b[0;32m<ipython-input-131-90a6f3e3f3ae>\u001b[0m in \u001b[0;36m<cell line: 4>\u001b[0;34m()\u001b[0m\n\u001b[1;32m      2\u001b[0m \u001b[0mlist2\u001b[0m \u001b[0;34m=\u001b[0m \u001b[0;34m(\u001b[0m\u001b[0;34m'd'\u001b[0m\u001b[0;34m,\u001b[0m \u001b[0;34m'e'\u001b[0m\u001b[0;34m,\u001b[0m \u001b[0;34m'f'\u001b[0m\u001b[0;34m)\u001b[0m\u001b[0;34m\u001b[0m\u001b[0;34m\u001b[0m\u001b[0m\n\u001b[1;32m      3\u001b[0m \u001b[0;34m\u001b[0m\u001b[0m\n\u001b[0;32m----> 4\u001b[0;31m \u001b[0mlist1\u001b[0m\u001b[0;34m.\u001b[0m\u001b[0mextend\u001b[0m\u001b[0;34m(\u001b[0m\u001b[0mlist2\u001b[0m\u001b[0;34m)\u001b[0m\u001b[0;34m\u001b[0m\u001b[0;34m\u001b[0m\u001b[0m\n\u001b[0m\u001b[1;32m      5\u001b[0m \u001b[0mprint\u001b[0m\u001b[0;34m(\u001b[0m\u001b[0mlist1\u001b[0m\u001b[0;34m)\u001b[0m\u001b[0;34m\u001b[0m\u001b[0;34m\u001b[0m\u001b[0m\n\u001b[1;32m      6\u001b[0m \u001b[0mprint\u001b[0m\u001b[0;34m(\u001b[0m\u001b[0mlist2\u001b[0m\u001b[0;34m)\u001b[0m\u001b[0;34m\u001b[0m\u001b[0;34m\u001b[0m\u001b[0m\n",
            "\u001b[0;31mAttributeError\u001b[0m: 'tuple' object has no attribute 'extend'"
          ]
        }
      ],
      "source": [
        "list1 = ('a', 'b', 'c')\n",
        "list2 = ('d', 'e', 'f')\n",
        "\n",
        "list1.extend(list2)\n",
        "print(list1)\n",
        "print(list2)"
      ]
    },
    {
      "cell_type": "markdown",
      "id": "f4b466ea-8c03-4462-9dc9-5518c227a14c",
      "metadata": {
        "id": "f4b466ea-8c03-4462-9dc9-5518c227a14c"
      },
      "source": [
        "### Add and Remove List Items"
      ]
    },
    {
      "cell_type": "code",
      "execution_count": null,
      "id": "1fc266fc-948e-4d56-8609-aa634f4989b1",
      "metadata": {
        "id": "1fc266fc-948e-4d56-8609-aa634f4989b1"
      },
      "outputs": [],
      "source": [
        "car = (\"Ford\", \"BMW\", \"Audi\", \"Tesla\", \"Tesla\")\n",
        "car.append(\"Tata\")"
      ]
    },
    {
      "cell_type": "code",
      "execution_count": null,
      "id": "c6285c2e-d6f0-402c-97a1-da87679de4c0",
      "metadata": {
        "colab": {
          "base_uri": "https://localhost:8080/"
        },
        "id": "c6285c2e-d6f0-402c-97a1-da87679de4c0",
        "outputId": "6d5164a9-bc3a-4e85-f6a3-007aaed39e76"
      },
      "outputs": [
        {
          "name": "stdout",
          "output_type": "stream",
          "text": [
            "('Ford', 'BMW', 'Audi', 'Tesla', 'Tesla', 'Tata')\n"
          ]
        }
      ],
      "source": [
        "car = (\"Ford\", \"BMW\", \"Audi\", \"Tesla\", \"Tesla\")\n",
        "car = list(car)\n",
        "car.append(\"Tata\")\n",
        "car = tuple(car)\n",
        "print(car)"
      ]
    },
    {
      "cell_type": "code",
      "execution_count": null,
      "id": "0881c316-e1d6-4226-bec6-21cf85458cac",
      "metadata": {
        "id": "0881c316-e1d6-4226-bec6-21cf85458cac"
      },
      "outputs": [],
      "source": []
    },
    {
      "cell_type": "markdown",
      "id": "140a9af5-0ba9-410a-8a85-ddbb59a6bd96",
      "metadata": {
        "id": "140a9af5-0ba9-410a-8a85-ddbb59a6bd96"
      },
      "source": [
        "# Set"
      ]
    },
    {
      "cell_type": "code",
      "execution_count": null,
      "id": "0a523aaf-982c-49b5-96d2-6719dedbd1f5",
      "metadata": {
        "id": "0a523aaf-982c-49b5-96d2-6719dedbd1f5"
      },
      "outputs": [],
      "source": [
        "car = {\"Ford\", \"BMW\", \"Audi\", \"Tesla\", \"Tesla\"}"
      ]
    },
    {
      "cell_type": "code",
      "execution_count": null,
      "id": "db8e9200-9a76-4b68-ad60-4a36e7007774",
      "metadata": {
        "colab": {
          "base_uri": "https://localhost:8080/"
        },
        "id": "db8e9200-9a76-4b68-ad60-4a36e7007774",
        "outputId": "a264b90d-4995-46e4-b975-94bf9cb24a6a"
      },
      "outputs": [
        {
          "name": "stdout",
          "output_type": "stream",
          "text": [
            "{'Tesla', 'BMW', 'Audi', 'Ford'}\n"
          ]
        }
      ],
      "source": [
        "print(car)"
      ]
    },
    {
      "cell_type": "markdown",
      "id": "c0138ddf-0838-4d4e-b91c-d9aa08dfc966",
      "metadata": {
        "id": "c0138ddf-0838-4d4e-b91c-d9aa08dfc966"
      },
      "source": [
        "### Set items are unordered, unchangeable, and do not allow duplicate values."
      ]
    },
    {
      "cell_type": "code",
      "execution_count": null,
      "id": "c72dc0cf-cc07-4106-8561-16834c44244b",
      "metadata": {
        "id": "c72dc0cf-cc07-4106-8561-16834c44244b"
      },
      "outputs": [],
      "source": [
        "car = {\"Ford\", \"BMW\", \"Audi\", \"Tesla\", \"Tesla\"}"
      ]
    },
    {
      "cell_type": "code",
      "execution_count": null,
      "id": "bdc3e42c-db49-4899-ab6d-f46d8189b8f5",
      "metadata": {
        "colab": {
          "base_uri": "https://localhost:8080/"
        },
        "id": "bdc3e42c-db49-4899-ab6d-f46d8189b8f5",
        "outputId": "1c0d64f3-2932-4141-8236-f2a38e08a6d9"
      },
      "outputs": [
        {
          "name": "stdout",
          "output_type": "stream",
          "text": [
            "{'Tesla', 'BMW', 'Audi', 'Ford'}\n"
          ]
        }
      ],
      "source": [
        "print(car)"
      ]
    },
    {
      "cell_type": "code",
      "execution_count": null,
      "id": "8381db84-85dd-44ef-ba9c-a93275978506",
      "metadata": {
        "id": "8381db84-85dd-44ef-ba9c-a93275978506"
      },
      "outputs": [],
      "source": [
        "list1 = [\"Ford\", \"BMW\", \"Audi\", \"Tesla\", \"Tesla\", \"Audi\", \"Tata\"]"
      ]
    },
    {
      "cell_type": "code",
      "execution_count": null,
      "id": "f0858889-f5f7-4e22-878d-5393fb89d042",
      "metadata": {
        "id": "f0858889-f5f7-4e22-878d-5393fb89d042"
      },
      "outputs": [],
      "source": [
        "list1 = set(list1)\n",
        "list1 = list(list1)"
      ]
    },
    {
      "cell_type": "code",
      "execution_count": null,
      "id": "8f8e5ca5-1e45-44ae-8900-11a0e9e1771e",
      "metadata": {
        "colab": {
          "base_uri": "https://localhost:8080/"
        },
        "id": "8f8e5ca5-1e45-44ae-8900-11a0e9e1771e",
        "outputId": "d10e4d88-dd70-4cbe-8c71-74393cca768d"
      },
      "outputs": [
        {
          "name": "stdout",
          "output_type": "stream",
          "text": [
            "['BMW', 'Ford', 'Tata', 'Audi', 'Tesla']\n"
          ]
        }
      ],
      "source": [
        "print(list1)"
      ]
    },
    {
      "cell_type": "code",
      "execution_count": null,
      "id": "072e8623-5dbc-491e-a4b5-b389b875ad9d",
      "metadata": {
        "id": "072e8623-5dbc-491e-a4b5-b389b875ad9d"
      },
      "outputs": [],
      "source": []
    },
    {
      "cell_type": "markdown",
      "id": "89e4b367-4b83-41e3-a15d-eb29961145a6",
      "metadata": {
        "id": "89e4b367-4b83-41e3-a15d-eb29961145a6"
      },
      "source": [
        "### Access Set Items"
      ]
    },
    {
      "cell_type": "code",
      "execution_count": null,
      "id": "f3246777-31eb-4e3a-84a7-a9a56ea08ba9",
      "metadata": {
        "colab": {
          "base_uri": "https://localhost:8080/"
        },
        "id": "f3246777-31eb-4e3a-84a7-a9a56ea08ba9",
        "outputId": "67ff9bbe-25f0-4e4a-bca4-7316f73fff9d"
      },
      "outputs": [
        {
          "name": "stdout",
          "output_type": "stream",
          "text": [
            "True\n"
          ]
        }
      ],
      "source": [
        "car = {\"Ford\", \"BMW\", \"Audi\", \"Tesla\"}\n",
        "print(\"BMW\" in car)"
      ]
    },
    {
      "cell_type": "code",
      "execution_count": null,
      "id": "f91143aa-307e-47d0-b44f-0f5ba22d0467",
      "metadata": {
        "id": "f91143aa-307e-47d0-b44f-0f5ba22d0467"
      },
      "outputs": [],
      "source": []
    },
    {
      "cell_type": "markdown",
      "id": "f11fb07e-2567-4388-ae71-d04f25210447",
      "metadata": {
        "id": "f11fb07e-2567-4388-ae71-d04f25210447"
      },
      "source": [
        "### Add Set Items"
      ]
    },
    {
      "cell_type": "code",
      "execution_count": null,
      "id": "8b6be220-7a15-4497-8474-f839a27b28bb",
      "metadata": {
        "colab": {
          "base_uri": "https://localhost:8080/"
        },
        "id": "8b6be220-7a15-4497-8474-f839a27b28bb",
        "outputId": "81013cf0-b61e-4c70-c05c-7e72b289a411"
      },
      "outputs": [
        {
          "name": "stdout",
          "output_type": "stream",
          "text": [
            "{'BMW', 'Audi', 'Fiat', 'Ford', 'Tesla'}\n"
          ]
        }
      ],
      "source": [
        "car = {\"Ford\", \"BMW\", \"Audi\", \"Tesla\"}\n",
        "car.add(\"Fiat\")\n",
        "print(car)"
      ]
    },
    {
      "cell_type": "code",
      "execution_count": null,
      "id": "f0c52990-cfba-49ca-acfe-3ec3b0b86bc7",
      "metadata": {
        "colab": {
          "base_uri": "https://localhost:8080/"
        },
        "id": "f0c52990-cfba-49ca-acfe-3ec3b0b86bc7",
        "outputId": "dda070ee-e564-4975-d181-cc746b498eeb"
      },
      "outputs": [
        {
          "name": "stdout",
          "output_type": "stream",
          "text": [
            "{'Tesla', 'BMW', 'Audi', 'Ford'}\n",
            "{'Audi', 'Tesla'}\n"
          ]
        }
      ],
      "source": [
        "car1 = {\"Ford\", \"BMW\"}\n",
        "car2 = {\"Audi\", \"Tesla\"}\n",
        "car1.update(car2)\n",
        "print(car1)\n",
        "print(car2)"
      ]
    },
    {
      "cell_type": "code",
      "execution_count": null,
      "id": "TksrkjK1O3nE",
      "metadata": {
        "colab": {
          "base_uri": "https://localhost:8080/"
        },
        "id": "TksrkjK1O3nE",
        "outputId": "bfe21773-e4a1-4943-ce84-8428e725ddf6"
      },
      "outputs": [
        {
          "name": "stdout",
          "output_type": "stream",
          "text": [
            "{'BMW'}\n"
          ]
        }
      ],
      "source": [
        "car1 = {\"Ford\", \"BMW\"}\n",
        "car2 = {\"Audi\", \"Tesla\", \"Ford\"}\n",
        "new_car = car1 - car2\n",
        "print(new_car)"
      ]
    },
    {
      "cell_type": "code",
      "execution_count": null,
      "id": "EEUVCaIrPevz",
      "metadata": {
        "colab": {
          "base_uri": "https://localhost:8080/"
        },
        "id": "EEUVCaIrPevz",
        "outputId": "f0f0669a-bf98-46eb-97f4-512103f4f275"
      },
      "outputs": [
        {
          "name": "stdout",
          "output_type": "stream",
          "text": [
            "{'google', 'cherry', 'microsoft', 'banana', 'apple'}\n"
          ]
        }
      ],
      "source": [
        "x = {\"apple\", \"banana\", \"cherry\"}\n",
        "y = {\"google\", \"microsoft\", \"apple\"}\n",
        "\n",
        "z = x.union(y)\n",
        "print(z)"
      ]
    },
    {
      "cell_type": "code",
      "execution_count": null,
      "id": "AroTU4WIPusr",
      "metadata": {
        "colab": {
          "base_uri": "https://localhost:8080/"
        },
        "id": "AroTU4WIPusr",
        "outputId": "b02e2e69-8a43-47e8-feb6-9d2c8405fe78"
      },
      "outputs": [
        {
          "name": "stdout",
          "output_type": "stream",
          "text": [
            "{'apple'}\n"
          ]
        }
      ],
      "source": [
        "x = {\"apple\", \"banana\", \"cherry\"}\n",
        "y = {\"google\", \"microsoft\", \"apple\"}\n",
        "\n",
        "z = x.intersection(y)\n",
        "\n",
        "print(z)"
      ]
    },
    {
      "cell_type": "markdown",
      "id": "25df2954-7e93-4200-9dbc-3b6e95e38758",
      "metadata": {
        "id": "25df2954-7e93-4200-9dbc-3b6e95e38758"
      },
      "source": [
        "# Dictionaries\n",
        "###### { key: value }"
      ]
    },
    {
      "cell_type": "code",
      "execution_count": null,
      "id": "39166850-3e42-42ee-86cc-096e5ab20bff",
      "metadata": {
        "id": "39166850-3e42-42ee-86cc-096e5ab20bff"
      },
      "outputs": [],
      "source": [
        "car = {\n",
        "    \"Brand\" : \"Ford\",\n",
        "    \"Model\" : \"Mustang\",\n",
        "    \"Year\" : 1964,\n",
        " }"
      ]
    },
    {
      "cell_type": "markdown",
      "id": "ccbfef07-b2ce-4210-bbb4-53a9c7f75792",
      "metadata": {
        "id": "ccbfef07-b2ce-4210-bbb4-53a9c7f75792"
      },
      "source": [
        "### Here, the key is \"brand\", \"model\", \"year\" and the value is \"Ford\", \"Mustang\", and 1964\n",
        "### Dictionary is ordered and changeable"
      ]
    },
    {
      "cell_type": "code",
      "execution_count": null,
      "id": "786df636-f1f8-4755-828e-d725e40b1518",
      "metadata": {
        "colab": {
          "base_uri": "https://localhost:8080/"
        },
        "id": "786df636-f1f8-4755-828e-d725e40b1518",
        "outputId": "07cb2e46-8db7-49a6-f9fc-0c70d039e0a3"
      },
      "outputs": [
        {
          "name": "stdout",
          "output_type": "stream",
          "text": [
            "{'Brand': 'Ford', 'Model': 'Mustang', 'Year': 1964}\n"
          ]
        }
      ],
      "source": [
        "print(car)"
      ]
    },
    {
      "cell_type": "code",
      "execution_count": null,
      "id": "590c81f2-9e1c-426a-9f0a-31643b6428e1",
      "metadata": {
        "id": "590c81f2-9e1c-426a-9f0a-31643b6428e1"
      },
      "outputs": [],
      "source": [
        "car[\"Brand\"] = \"Fiat\""
      ]
    },
    {
      "cell_type": "code",
      "execution_count": null,
      "id": "ebce31fa-03be-4b18-af97-45e433af905a",
      "metadata": {
        "colab": {
          "base_uri": "https://localhost:8080/"
        },
        "id": "ebce31fa-03be-4b18-af97-45e433af905a",
        "outputId": "3be255bf-4af1-45f4-b9db-6e6e8ca5d913"
      },
      "outputs": [
        {
          "name": "stdout",
          "output_type": "stream",
          "text": [
            "{'Brand': 'Fiat', 'Model': 'Mustang', 'Year': 1964}\n"
          ]
        }
      ],
      "source": [
        "print(car)"
      ]
    },
    {
      "cell_type": "code",
      "execution_count": null,
      "id": "03659cb9-8c1f-4db2-b466-1d0f8be88f93",
      "metadata": {
        "colab": {
          "base_uri": "https://localhost:8080/"
        },
        "id": "03659cb9-8c1f-4db2-b466-1d0f8be88f93",
        "outputId": "2aeeb19e-b804-454f-8f60-e6018c3575b5"
      },
      "outputs": [
        {
          "name": "stdout",
          "output_type": "stream",
          "text": [
            "<class 'dict'>\n"
          ]
        }
      ],
      "source": [
        "print(type(car))"
      ]
    },
    {
      "cell_type": "code",
      "execution_count": null,
      "id": "ec6d6046-faae-41e6-a529-deea67f8ff5a",
      "metadata": {
        "colab": {
          "base_uri": "https://localhost:8080/"
        },
        "id": "ec6d6046-faae-41e6-a529-deea67f8ff5a",
        "outputId": "5f70cfea-1b90-43be-9598-037eecb6f0b4"
      },
      "outputs": [
        {
          "name": "stdout",
          "output_type": "stream",
          "text": [
            "Ford\n"
          ]
        }
      ],
      "source": [
        "car = {\n",
        "    \"Brand\" : \"Ford\",\n",
        "    \"Model\" : \"Mustang\",\n",
        "    \"Year\" : 1964,\n",
        " }\n",
        "\n",
        "print(car[\"Brand\"])"
      ]
    },
    {
      "cell_type": "code",
      "execution_count": null,
      "id": "ae260512-e32a-434e-a6ab-822321b76da2",
      "metadata": {
        "colab": {
          "base_uri": "https://localhost:8080/"
        },
        "id": "ae260512-e32a-434e-a6ab-822321b76da2",
        "outputId": "ae974cad-cfdd-4139-b9c7-21541c8dbc9f"
      },
      "outputs": [
        {
          "name": "stdout",
          "output_type": "stream",
          "text": [
            "Ford\n"
          ]
        }
      ],
      "source": [
        "print(car.get(\"Brand\"))"
      ]
    },
    {
      "cell_type": "code",
      "execution_count": null,
      "id": "45ae0b3e-9e42-483b-b599-ec31724c0a08",
      "metadata": {
        "colab": {
          "base_uri": "https://localhost:8080/"
        },
        "id": "45ae0b3e-9e42-483b-b599-ec31724c0a08",
        "outputId": "1f6a5aa3-b3e9-45e2-dfda-e43ba31701a8"
      },
      "outputs": [
        {
          "name": "stdout",
          "output_type": "stream",
          "text": [
            "dict_keys(['Brand', 'Model', 'Year'])\n"
          ]
        }
      ],
      "source": [
        "print(car.keys())"
      ]
    },
    {
      "cell_type": "code",
      "execution_count": null,
      "id": "09b73a94-7aa4-401a-8730-d5d984a5949f",
      "metadata": {
        "colab": {
          "base_uri": "https://localhost:8080/"
        },
        "id": "09b73a94-7aa4-401a-8730-d5d984a5949f",
        "outputId": "efa4c4e3-79c6-487a-c539-a20e0e1c9bc4"
      },
      "outputs": [
        {
          "name": "stdout",
          "output_type": "stream",
          "text": [
            "dict_values(['Ford', 'Mustang', 1964])\n"
          ]
        }
      ],
      "source": [
        "print(car.values())"
      ]
    },
    {
      "cell_type": "code",
      "execution_count": null,
      "id": "6b058319-7cf0-4caa-bf19-acce68aa72fc",
      "metadata": {
        "colab": {
          "base_uri": "https://localhost:8080/"
        },
        "id": "6b058319-7cf0-4caa-bf19-acce68aa72fc",
        "outputId": "fd8a0b73-d28f-4ada-f9e9-e733746f4ecb"
      },
      "outputs": [
        {
          "name": "stdout",
          "output_type": "stream",
          "text": [
            "dict_items([('Brand', 'Ford'), ('Model', 'Mustang'), ('Year', 1964)])\n"
          ]
        }
      ],
      "source": [
        "print(car.items())"
      ]
    },
    {
      "cell_type": "code",
      "execution_count": null,
      "id": "4a424bef-193a-4c62-84a4-e61b1cbce9a5",
      "metadata": {
        "id": "4a424bef-193a-4c62-84a4-e61b1cbce9a5"
      },
      "outputs": [],
      "source": [
        "car = {\n",
        "    \"Brand\" : \"Ford\",\n",
        "    \"Model\" : \"Mustang\",\n",
        "    \"Year\" : 1964,\n",
        " }"
      ]
    },
    {
      "cell_type": "code",
      "execution_count": null,
      "id": "09f73463-cc57-49ae-b398-073b13695242",
      "metadata": {
        "id": "09f73463-cc57-49ae-b398-073b13695242"
      },
      "outputs": [],
      "source": [
        "car[\"color\"] = \"Black\""
      ]
    },
    {
      "cell_type": "code",
      "execution_count": null,
      "id": "e0a81271-2024-4c08-a7a3-73476bbed94e",
      "metadata": {
        "colab": {
          "base_uri": "https://localhost:8080/"
        },
        "id": "e0a81271-2024-4c08-a7a3-73476bbed94e",
        "outputId": "2362e00d-295b-49c6-a3ee-cb97123dda0d"
      },
      "outputs": [
        {
          "name": "stdout",
          "output_type": "stream",
          "text": [
            "{'Brand': 'Ford', 'Model': 'Mustang', 'Year': 1964, 'color': 'Black'}\n"
          ]
        }
      ],
      "source": [
        "print(car)"
      ]
    },
    {
      "cell_type": "code",
      "execution_count": null,
      "id": "5414db2d-6e5a-407a-93f2-cd0d8f1fa106",
      "metadata": {
        "colab": {
          "base_uri": "https://localhost:8080/"
        },
        "id": "5414db2d-6e5a-407a-93f2-cd0d8f1fa106",
        "outputId": "9d29b259-e445-4d51-dc8f-55fe08e7813d"
      },
      "outputs": [
        {
          "name": "stdout",
          "output_type": "stream",
          "text": [
            "{'Brand': 'Ford', 'Model': 'Mustang', 'Year': 1964}\n",
            "{'Brand': 'Ford', 'Model': 'Mustang', 'Year': 1964, 'color': 'black'}\n"
          ]
        }
      ],
      "source": [
        "car = {\n",
        "    \"Brand\" : \"Ford\",\n",
        "    \"Model\" : \"Mustang\",\n",
        "    \"Year\" : 1964,\n",
        " }\n",
        "print(car)\n",
        "car.update({\"color\": \"black\"})\n",
        "print(car)"
      ]
    },
    {
      "cell_type": "code",
      "execution_count": null,
      "id": "826801f8-f9a9-4737-af3b-5554190576a2",
      "metadata": {
        "colab": {
          "base_uri": "https://localhost:8080/"
        },
        "id": "826801f8-f9a9-4737-af3b-5554190576a2",
        "outputId": "ab3f55c7-b223-4bd2-bcf6-78fdf72557ee"
      },
      "outputs": [
        {
          "name": "stdout",
          "output_type": "stream",
          "text": [
            "{'Brand': 'Ford', 'Model': 'Mustang', 'Year': 1964}\n",
            "{'Brand': 'Fiat', 'Model': 'Mustang', 'Year': 1964}\n"
          ]
        }
      ],
      "source": [
        "car = {\n",
        "    \"Brand\" : \"Ford\",\n",
        "    \"Model\" : \"Mustang\",\n",
        "    \"Year\" : 1964,\n",
        " }\n",
        "print(car)\n",
        "car.update({\"Brand\": \"Fiat\"})\n",
        "print(car)"
      ]
    },
    {
      "cell_type": "code",
      "execution_count": null,
      "id": "ebfb4bda-a746-49a1-b536-e1e1cb7fc11a",
      "metadata": {
        "colab": {
          "base_uri": "https://localhost:8080/"
        },
        "id": "ebfb4bda-a746-49a1-b536-e1e1cb7fc11a",
        "outputId": "a8d6ea09-6325-404e-f1c6-ca5a7082a3d2"
      },
      "outputs": [
        {
          "name": "stdout",
          "output_type": "stream",
          "text": [
            "{'Brand': 'Ford', 'Model': 'Mustang', 'Year': 1964}\n",
            "{'Brand': 'Ford', 'Model': 'Mustang'}\n"
          ]
        }
      ],
      "source": [
        "car = {\n",
        "    \"Brand\" : \"Ford\",\n",
        "    \"Model\" : \"Mustang\",\n",
        "    \"Year\" : 1964,\n",
        " }\n",
        "print(car)\n",
        "car.pop(\"Year\")\n",
        "print(car)"
      ]
    },
    {
      "cell_type": "code",
      "execution_count": null,
      "id": "50e36d01-3080-4d53-aafa-2adfaf52539a",
      "metadata": {
        "colab": {
          "base_uri": "https://localhost:8080/"
        },
        "id": "50e36d01-3080-4d53-aafa-2adfaf52539a",
        "outputId": "b4809eca-63c5-451d-aa2c-c0a9ac6f973c"
      },
      "outputs": [
        {
          "name": "stdout",
          "output_type": "stream",
          "text": [
            "{'Brand': 'Ford', 'Model': 'Mustang', 'Year': 1964}\n",
            "{'Brand': 'Ford', 'Model': 'Mustang'}\n"
          ]
        }
      ],
      "source": [
        "car = {\n",
        "    \"Brand\" : \"Ford\",\n",
        "    \"Model\" : \"Mustang\",\n",
        "    \"Year\" : 1964,\n",
        " }\n",
        "print(car)\n",
        "car.popitem()\n",
        "print(car)"
      ]
    },
    {
      "cell_type": "code",
      "execution_count": null,
      "id": "318a9682-a1ae-478e-9869-96114a119f37",
      "metadata": {
        "colab": {
          "base_uri": "https://localhost:8080/"
        },
        "id": "318a9682-a1ae-478e-9869-96114a119f37",
        "outputId": "43087adb-5e25-4184-8039-70b451d0969e"
      },
      "outputs": [
        {
          "name": "stdout",
          "output_type": "stream",
          "text": [
            "{'Brand': 'Ford', 'Model': 'Mustang', 'Year': 1964}\n",
            "{'Brand': 'Ford', 'Model': 'Mustang'}\n"
          ]
        }
      ],
      "source": [
        "car = {\n",
        "    \"Brand\" : \"Ford\",\n",
        "    \"Model\" : \"Mustang\",\n",
        "    \"Year\" : 1964,\n",
        " }\n",
        "print(car)\n",
        "del car[\"Year\"]\n",
        "print(car)"
      ]
    },
    {
      "cell_type": "code",
      "execution_count": null,
      "id": "ckYsVANiXP6r",
      "metadata": {
        "colab": {
          "base_uri": "https://localhost:8080/"
        },
        "id": "ckYsVANiXP6r",
        "outputId": "7cecca25-02e9-494b-8ff3-b2a5ba839170"
      },
      "outputs": [
        {
          "data": {
            "text/plain": [
              "3"
            ]
          },
          "execution_count": 35,
          "metadata": {},
          "output_type": "execute_result"
        }
      ],
      "source": [
        "car = {\n",
        "    \"Brand\" : \"Ford\",\n",
        "    \"Model\" : \"Mustang\",\n",
        "    \"Year\" : 1964,\n",
        " }\n",
        "len(car)"
      ]
    },
    {
      "cell_type": "code",
      "execution_count": null,
      "id": "3bZCTG2sYvF8",
      "metadata": {
        "colab": {
          "base_uri": "https://localhost:8080/"
        },
        "id": "3bZCTG2sYvF8",
        "outputId": "b751fc09-47c6-45a2-90ab-b4aa60d4d459"
      },
      "outputs": [
        {
          "name": "stdout",
          "output_type": "stream",
          "text": [
            "[1962, 1964, 1978]\n"
          ]
        }
      ],
      "source": [
        "car = {\n",
        "    \"Brand\" : \"Ford\",\n",
        "    \"Model\" : \"Mustang\",\n",
        "    \"Year\" : [1962, 1964, 1978],\n",
        " }\n",
        "print(car[\"Year\"])"
      ]
    },
    {
      "cell_type": "markdown",
      "id": "35e02253-5e02-43d3-903c-79000d07449f",
      "metadata": {
        "id": "35e02253-5e02-43d3-903c-79000d07449f"
      },
      "source": [
        "### Nested Lists and Dictionaries"
      ]
    },
    {
      "cell_type": "code",
      "execution_count": null,
      "id": "0ad6d6fe-737a-49e8-9894-5c3e6eadbf02",
      "metadata": {
        "id": "0ad6d6fe-737a-49e8-9894-5c3e6eadbf02"
      },
      "outputs": [],
      "source": [
        "student = {\n",
        "    \"Asif\" : {\"Class\":12, \"Major\" : \"CSE\", \"Section\": \"B\"},\n",
        "    \"Dipon\" : {\"Class\":12, \"Major\" : \"EEE\", \"Section\": \"A\"},\n",
        " }"
      ]
    },
    {
      "cell_type": "code",
      "execution_count": null,
      "id": "f7d392a8-3c88-4b1a-8264-349adb15bc35",
      "metadata": {
        "colab": {
          "base_uri": "https://localhost:8080/"
        },
        "id": "f7d392a8-3c88-4b1a-8264-349adb15bc35",
        "outputId": "79f37181-f2fe-4f24-9bf5-a50c9427b800"
      },
      "outputs": [
        {
          "name": "stdout",
          "output_type": "stream",
          "text": [
            "12\n"
          ]
        }
      ],
      "source": [
        "print(student[\"Dipon\"][\"Class\"])"
      ]
    },
    {
      "cell_type": "code",
      "execution_count": null,
      "id": "VUOe13q77tIb",
      "metadata": {
        "id": "VUOe13q77tIb"
      },
      "outputs": [],
      "source": [
        "student = {\n",
        "    \"Asif\" : {\"Class\":12, \"Major\" : \"CSE\", \"Section\": \"B\"},\n",
        "    \"Dipon\" : {\"Class\":12, \"Major\" : \"EEE\", \"Section\": \"A\"},\n",
        "    \"Tomal\" : [12, \"ME\", \"A\", [\"ABC\", \"XYZ\"]]\n",
        " }"
      ]
    },
    {
      "cell_type": "code",
      "execution_count": null,
      "id": "xEVzNc7h7tE4",
      "metadata": {
        "colab": {
          "base_uri": "https://localhost:8080/"
        },
        "id": "xEVzNc7h7tE4",
        "outputId": "9f601ca8-dc48-4ae4-b0b4-412dec6d99b7"
      },
      "outputs": [
        {
          "name": "stdout",
          "output_type": "stream",
          "text": [
            "ABC\n"
          ]
        }
      ],
      "source": [
        "print(student[\"Tomal\"][3][0])"
      ]
    },
    {
      "cell_type": "code",
      "execution_count": null,
      "id": "vyUYigBF8VCQ",
      "metadata": {
        "id": "vyUYigBF8VCQ"
      },
      "outputs": [],
      "source": [
        "student = [\n",
        "    {\"Class\":12, \"Major\" : \"CSE\", \"Section\": [\"A\", \"B\"]},\n",
        "    {\"Class\":12, \"Major\" : \"EEE\", \"Section\": \"A\"}\n",
        "]"
      ]
    },
    {
      "cell_type": "code",
      "execution_count": null,
      "id": "WqPbVehg8UzI",
      "metadata": {
        "colab": {
          "base_uri": "https://localhost:8080/"
        },
        "id": "WqPbVehg8UzI",
        "outputId": "ae1eb5f2-0e53-462c-b223-83843052c3f4"
      },
      "outputs": [
        {
          "name": "stdout",
          "output_type": "stream",
          "text": [
            "B\n"
          ]
        }
      ],
      "source": [
        "print(student[0][\"Section\"][1])"
      ]
    },
    {
      "cell_type": "code",
      "execution_count": null,
      "id": "qxZCDLue9RhN",
      "metadata": {
        "id": "qxZCDLue9RhN"
      },
      "outputs": [],
      "source": [
        "student = {\n",
        "    \"Asif\" : {\"Class\":12, \"Major\" : \"CSE\", \"Section\": \"B\"},\n",
        "    \"Dipon\" : {\"Class\":12, \"Major\" : \"EEE\", \"Section\": \"A\"},\n",
        "    \"Tomal\" : [12, \"ME\", \"A\", [\"ABC\", \"XYZ\"]]\n",
        " }"
      ]
    },
    {
      "cell_type": "code",
      "execution_count": null,
      "id": "eWwg6bS09Rbw",
      "metadata": {
        "colab": {
          "base_uri": "https://localhost:8080/"
        },
        "id": "eWwg6bS09Rbw",
        "outputId": "c1cfabaf-78e3-4f98-d6d7-c8d9864b62de"
      },
      "outputs": [
        {
          "name": "stdout",
          "output_type": "stream",
          "text": [
            "ABC\n"
          ]
        }
      ],
      "source": [
        "print(student[\"Tomal\"][3][0])"
      ]
    },
    {
      "cell_type": "markdown",
      "id": "17c28a1d-a066-41e8-9d9e-6464c9856d46",
      "metadata": {
        "id": "17c28a1d-a066-41e8-9d9e-6464c9856d46"
      },
      "source": [
        "# If ... Else\n",
        "\n",
        "###### if (condition):\n",
        "###### &emsp; Code"
      ]
    },
    {
      "cell_type": "code",
      "execution_count": null,
      "id": "cdfcfaeb-5adc-4e4b-98f3-0ee8974a38e1",
      "metadata": {
        "id": "cdfcfaeb-5adc-4e4b-98f3-0ee8974a38e1"
      },
      "outputs": [],
      "source": [
        "a = 5\n",
        "b = 7\n",
        "\n",
        "if a>b:\n",
        "  print(\"a is greater than b\")"
      ]
    },
    {
      "cell_type": "markdown",
      "id": "6a65b328-d1b1-4ebc-90d4-9c9b487062ab",
      "metadata": {
        "id": "6a65b328-d1b1-4ebc-90d4-9c9b487062ab"
      },
      "source": [
        "### Indentation is important"
      ]
    },
    {
      "cell_type": "code",
      "execution_count": null,
      "id": "1744915f-15fa-4fd1-80de-b93b921e0a2a",
      "metadata": {
        "id": "1744915f-15fa-4fd1-80de-b93b921e0a2a"
      },
      "outputs": [],
      "source": [
        "a = 5\n",
        "b = 7\n",
        "\n",
        "if a>b:\n",
        "  print(\"a is greater than b\")"
      ]
    },
    {
      "cell_type": "code",
      "execution_count": null,
      "id": "b6de78b3-e122-4a94-a84c-cf51e4a48bc5",
      "metadata": {
        "colab": {
          "base_uri": "https://localhost:8080/"
        },
        "id": "b6de78b3-e122-4a94-a84c-cf51e4a48bc5",
        "outputId": "591d0be9-08cc-43b8-eee9-3aed83eddcc8"
      },
      "outputs": [
        {
          "name": "stdout",
          "output_type": "stream",
          "text": [
            "b is greater than a\n"
          ]
        }
      ],
      "source": [
        "a = 5\n",
        "b = 7\n",
        "\n",
        "if a>b:\n",
        "  print(\"a is greater than b\")\n",
        "else:\n",
        "  print(\"b is greater than a\")"
      ]
    },
    {
      "cell_type": "code",
      "execution_count": null,
      "id": "6ed3da38-ac08-49d3-b146-92b36a458b04",
      "metadata": {
        "colab": {
          "base_uri": "https://localhost:8080/"
        },
        "id": "6ed3da38-ac08-49d3-b146-92b36a458b04",
        "outputId": "bdb41f7f-0dfe-4f4a-a870-b0478214d85b"
      },
      "outputs": [
        {
          "name": "stdout",
          "output_type": "stream",
          "text": [
            "a is greater than b\n"
          ]
        }
      ],
      "source": [
        "a = 7\n",
        "b = 5\n",
        "\n",
        "if a>b:\n",
        "  print(\"a is greater than b\")\n",
        "elif a == b:\n",
        "  print(\"a is equal to b\")\n",
        "else:\n",
        "  print(\"b is greater than a\")\n",
        "\n",
        "\n",
        "### Code ###"
      ]
    },
    {
      "cell_type": "markdown",
      "id": "ff4d8de1-d458-4ac3-b32a-ae8f4609b4a4",
      "metadata": {
        "id": "ff4d8de1-d458-4ac3-b32a-ae8f4609b4a4"
      },
      "source": [
        "### We can write the statement in different way."
      ]
    },
    {
      "cell_type": "code",
      "execution_count": null,
      "id": "34fa2eb0-c814-43cd-ac5d-ca82be06559b",
      "metadata": {
        "id": "34fa2eb0-c814-43cd-ac5d-ca82be06559b"
      },
      "outputs": [],
      "source": [
        "a = 5\n",
        "b = 7\n",
        "\n",
        "if a > b: print(\"a is greater than b\")"
      ]
    },
    {
      "cell_type": "code",
      "execution_count": null,
      "id": "9a2580e2-548b-4303-87fa-50ae26fd310c",
      "metadata": {
        "colab": {
          "base_uri": "https://localhost:8080/"
        },
        "id": "9a2580e2-548b-4303-87fa-50ae26fd310c",
        "outputId": "bd475083-368d-4f22-cc91-24ac4b83cf30"
      },
      "outputs": [
        {
          "name": "stdout",
          "output_type": "stream",
          "text": [
            "b is greater than a\n"
          ]
        }
      ],
      "source": [
        "a = 5\n",
        "b = 7\n",
        "\n",
        "print(\"a is greater than b\") if a > b else print(\"b is greater than a\")"
      ]
    },
    {
      "cell_type": "code",
      "execution_count": null,
      "id": "8c60a556-07fe-4e36-8cfc-6c32ba1196c4",
      "metadata": {
        "id": "8c60a556-07fe-4e36-8cfc-6c32ba1196c4"
      },
      "outputs": [],
      "source": []
    },
    {
      "cell_type": "markdown",
      "id": "53e0e6ac-7e55-4782-a99b-ac871c51f7f2",
      "metadata": {
        "id": "53e0e6ac-7e55-4782-a99b-ac871c51f7f2"
      },
      "source": [
        "### We can use and/or/not operation."
      ]
    },
    {
      "cell_type": "markdown",
      "id": "Gdpw5MMpDKpT",
      "metadata": {
        "id": "Gdpw5MMpDKpT"
      },
      "source": [
        "### And operator\n",
        "\n",
        "False and False = False <br>\n",
        "False and True = False<br>\n",
        "True and False = False<br>\n",
        "True and True = True<br>"
      ]
    },
    {
      "cell_type": "code",
      "execution_count": null,
      "id": "7f606638-4f7b-4e92-9b83-454b49b8a144",
      "metadata": {
        "colab": {
          "base_uri": "https://localhost:8080/"
        },
        "id": "7f606638-4f7b-4e92-9b83-454b49b8a144",
        "outputId": "a9c2c095-b569-42b8-a4bd-d3456d8306ff"
      },
      "outputs": [
        {
          "name": "stdout",
          "output_type": "stream",
          "text": [
            "All are equal\n"
          ]
        }
      ],
      "source": [
        "a = 1\n",
        "b = 1\n",
        "c = 1\n",
        "\n",
        "if a==b and b==c:\n",
        "  print(\"All are equal\")\n",
        "elif (a>b) and (a>c):\n",
        "  print(\"a is the largest\")\n",
        "elif (b>c) and (b>a):\n",
        "  print(\"b is the largest\")\n",
        "else:\n",
        "  print(\"c is the largest\")"
      ]
    },
    {
      "cell_type": "markdown",
      "id": "JrQDD57REl4f",
      "metadata": {
        "id": "JrQDD57REl4f"
      },
      "source": [
        "### Or operator\n",
        "\n",
        "False or False = False <br>\n",
        "False or True = True <br>\n",
        "True or False = True <br>\n",
        "True or True = True <br>"
      ]
    },
    {
      "cell_type": "code",
      "execution_count": null,
      "id": "626ad656-6a3d-4915-8dae-34da1e9a39a9",
      "metadata": {
        "id": "626ad656-6a3d-4915-8dae-34da1e9a39a9"
      },
      "outputs": [],
      "source": []
    },
    {
      "cell_type": "code",
      "execution_count": null,
      "id": "dcede62c-d208-4e04-ae5a-7a61458277cd",
      "metadata": {
        "id": "dcede62c-d208-4e04-ae5a-7a61458277cd"
      },
      "outputs": [],
      "source": []
    },
    {
      "cell_type": "markdown",
      "id": "533f7eb6-748a-4d47-8478-4ff369bc3934",
      "metadata": {
        "id": "533f7eb6-748a-4d47-8478-4ff369bc3934"
      },
      "source": [
        "### Nested IF"
      ]
    },
    {
      "cell_type": "code",
      "execution_count": null,
      "id": "46a7f4f7-93b3-499a-aff8-bbe5221bb925",
      "metadata": {
        "colab": {
          "base_uri": "https://localhost:8080/"
        },
        "id": "46a7f4f7-93b3-499a-aff8-bbe5221bb925",
        "outputId": "4105b1ca-855e-4bba-96d7-7862e200ad8d"
      },
      "outputs": [
        {
          "name": "stdout",
          "output_type": "stream",
          "text": [
            "You are selected for the head of the department\n"
          ]
        }
      ],
      "source": [
        "city = \"Chittagong\"\n",
        "graduation = True\n",
        "experience = True\n",
        "research_paper = 10\n",
        "\n",
        "if city == \"Chittagong\":\n",
        "  if graduation:\n",
        "    if experience:\n",
        "      if research_paper > 5:\n",
        "        print(\"You are selected for the head of the department\")\n",
        "      else:\n",
        "        print(\"You are selected for the Senior post\")\n",
        "    else:\n",
        "      print(\"You are selected for the Junior post\")\n",
        "  else:\n",
        "    print(\"You are not selected for the Job\")\n",
        "else:\n",
        "  print(\"You are not selected for the Job because of your location\")"
      ]
    },
    {
      "cell_type": "code",
      "execution_count": null,
      "id": "0ba9eb81-96bf-4167-b1b0-fd92b281d07a",
      "metadata": {
        "id": "0ba9eb81-96bf-4167-b1b0-fd92b281d07a"
      },
      "outputs": [],
      "source": []
    },
    {
      "cell_type": "markdown",
      "id": "e6b28c36-af03-4c1c-9efd-0fbc8147a157",
      "metadata": {
        "id": "e6b28c36-af03-4c1c-9efd-0fbc8147a157"
      },
      "source": [
        "# Python Loop"
      ]
    },
    {
      "cell_type": "code",
      "source": [
        "print(type(range(1,6)))"
      ],
      "metadata": {
        "id": "oQ1kTIfxPNob",
        "colab": {
          "base_uri": "https://localhost:8080/"
        },
        "outputId": "60a6b2f6-500b-4a9a-dcd1-65dfcb0f43ad"
      },
      "id": "oQ1kTIfxPNob",
      "execution_count": null,
      "outputs": [
        {
          "output_type": "stream",
          "name": "stdout",
          "text": [
            "<class 'range'>\n"
          ]
        }
      ]
    },
    {
      "cell_type": "code",
      "source": [
        "for x in range(3,6):\n",
        "  print(x)"
      ],
      "metadata": {
        "id": "w7Ifk0mZOjz-",
        "colab": {
          "base_uri": "https://localhost:8080/"
        },
        "outputId": "b9a9b0a4-9842-45bd-aa7a-733ef971fede"
      },
      "id": "w7Ifk0mZOjz-",
      "execution_count": null,
      "outputs": [
        {
          "output_type": "stream",
          "name": "stdout",
          "text": [
            "3\n",
            "4\n",
            "5\n"
          ]
        }
      ]
    },
    {
      "cell_type": "code",
      "source": [
        "for x in range(1,30,3):\n",
        "  print(x)"
      ],
      "metadata": {
        "colab": {
          "base_uri": "https://localhost:8080/"
        },
        "id": "G5TF9mOPZ_L3",
        "outputId": "4d9c6c83-afa6-4719-d554-8061bdbe9547"
      },
      "id": "G5TF9mOPZ_L3",
      "execution_count": null,
      "outputs": [
        {
          "output_type": "stream",
          "name": "stdout",
          "text": [
            "1\n",
            "4\n",
            "7\n",
            "10\n",
            "13\n",
            "16\n",
            "19\n",
            "22\n",
            "25\n",
            "28\n"
          ]
        }
      ]
    },
    {
      "cell_type": "code",
      "source": [
        "for x in range(30,1, -3):\n",
        "  print(x)"
      ],
      "metadata": {
        "colab": {
          "base_uri": "https://localhost:8080/"
        },
        "id": "WRtF7cLYaUIu",
        "outputId": "a6c7e5e8-019f-4cf9-ff35-3447dcbf4af4"
      },
      "id": "WRtF7cLYaUIu",
      "execution_count": null,
      "outputs": [
        {
          "output_type": "stream",
          "name": "stdout",
          "text": [
            "30\n",
            "27\n",
            "24\n",
            "21\n",
            "18\n",
            "15\n",
            "12\n",
            "9\n",
            "6\n",
            "3\n"
          ]
        }
      ]
    },
    {
      "cell_type": "code",
      "execution_count": null,
      "id": "f34c4ebf-422e-4e38-88ae-a7a5b7e19897",
      "metadata": {
        "id": "f34c4ebf-422e-4e38-88ae-a7a5b7e19897",
        "colab": {
          "base_uri": "https://localhost:8080/"
        },
        "outputId": "7822f419-8888-4c3e-e4ad-350114565e6b"
      },
      "outputs": [
        {
          "output_type": "stream",
          "name": "stdout",
          "text": [
            "10\n",
            "11\n",
            "12\n",
            "13\n",
            "14\n",
            "15\n",
            "16\n",
            "17\n",
            "18\n",
            "19\n",
            "20\n",
            "21\n",
            "22\n",
            "23\n",
            "24\n",
            "25\n",
            "26\n",
            "27\n",
            "28\n",
            "29\n"
          ]
        }
      ],
      "source": [
        "for x in range(10,30):\n",
        "  print(x)"
      ]
    },
    {
      "cell_type": "code",
      "execution_count": null,
      "id": "cf81c574-4be1-4122-904b-e462c848af01",
      "metadata": {
        "id": "cf81c574-4be1-4122-904b-e462c848af01",
        "colab": {
          "base_uri": "https://localhost:8080/"
        },
        "outputId": "883f5dfe-7217-4652-baae-a8dca11d183d"
      },
      "outputs": [
        {
          "output_type": "stream",
          "name": "stdout",
          "text": [
            "Hello World\n",
            "Hello World\n",
            "Hello World\n",
            "Hello World\n",
            "Hello World\n",
            "Hello World\n",
            "Hello World\n",
            "Hello World\n",
            "Hello World\n",
            "Hello World\n"
          ]
        }
      ],
      "source": [
        "for x in range(1,11):\n",
        "  print(\"Hello World\")"
      ]
    },
    {
      "cell_type": "code",
      "execution_count": null,
      "id": "9e92b598-0b84-4194-83d6-91c8360d0d71",
      "metadata": {
        "id": "9e92b598-0b84-4194-83d6-91c8360d0d71"
      },
      "outputs": [],
      "source": []
    },
    {
      "cell_type": "markdown",
      "id": "00f78983-0cdc-431b-96de-131884438f6d",
      "metadata": {
        "id": "00f78983-0cdc-431b-96de-131884438f6d"
      },
      "source": [
        "### Combine Condition with Loop"
      ]
    },
    {
      "cell_type": "code",
      "execution_count": null,
      "id": "f7ca91bc-d711-4f21-924b-7029ec225988",
      "metadata": {
        "id": "f7ca91bc-d711-4f21-924b-7029ec225988",
        "colab": {
          "base_uri": "https://localhost:8080/"
        },
        "outputId": "51408a59-1741-4626-a3cb-cd3f3a5091ee"
      },
      "outputs": [
        {
          "output_type": "stream",
          "name": "stdout",
          "text": [
            "You are not selected\n"
          ]
        }
      ],
      "source": [
        "players = [\"Sakib\", \"Tamim\", \"Mushfiq\", \"Taskin\", \"Miraj\", \"Liton\", \"Soummo\"]\n",
        "\n",
        "name = \"Dhoni\"\n",
        "flag = False\n",
        "\n",
        "for player in players:\n",
        "  if name == player:\n",
        "    print(\"You are selected.\")\n",
        "    flag = True\n",
        "\n",
        "if flag == False:\n",
        "  print(\"You are not selected\")"
      ]
    },
    {
      "cell_type": "code",
      "execution_count": null,
      "id": "bac12e97-f973-431b-94da-2703d4c30c2a",
      "metadata": {
        "id": "bac12e97-f973-431b-94da-2703d4c30c2a",
        "colab": {
          "base_uri": "https://localhost:8080/"
        },
        "outputId": "1e68ea52-3974-4b80-e769-1d6f76f3304e"
      },
      "outputs": [
        {
          "output_type": "stream",
          "name": "stdout",
          "text": [
            "A\n",
            "s\n",
            "i\n",
            "f\n",
            " \n",
            "I\n",
            "q\n",
            "b\n",
            "a\n",
            "l\n"
          ]
        }
      ],
      "source": [
        "name = \"Asif Iqbal\"\n",
        "\n",
        "\n",
        "for i in range(0, len(name)):\n",
        "  print(name[i])\n",
        "  # print(i)"
      ]
    },
    {
      "cell_type": "code",
      "execution_count": null,
      "id": "7571f1dc-334f-4a3c-a5bb-22d654f2eff8",
      "metadata": {
        "id": "7571f1dc-334f-4a3c-a5bb-22d654f2eff8"
      },
      "outputs": [],
      "source": [
        "range"
      ]
    },
    {
      "cell_type": "markdown",
      "id": "58b07579-e866-4d03-8140-0f24690ad47c",
      "metadata": {
        "id": "58b07579-e866-4d03-8140-0f24690ad47c"
      },
      "source": [
        "### Nested For Loop"
      ]
    },
    {
      "cell_type": "code",
      "execution_count": null,
      "id": "c3795be5-6a3b-4a01-91d6-51a2056efbd9",
      "metadata": {
        "id": "c3795be5-6a3b-4a01-91d6-51a2056efbd9",
        "colab": {
          "base_uri": "https://localhost:8080/"
        },
        "outputId": "38f7955f-a371-4293-eeb0-a5c1351a837d"
      },
      "outputs": [
        {
          "output_type": "stream",
          "name": "stdout",
          "text": [
            "Sakib\n",
            "S\n",
            "a\n",
            "k\n",
            "i\n",
            "b\n",
            "Tamim\n",
            "T\n",
            "a\n",
            "m\n",
            "i\n",
            "m\n",
            "Mushfiq\n",
            "M\n",
            "u\n",
            "s\n",
            "h\n",
            "f\n",
            "i\n",
            "q\n"
          ]
        }
      ],
      "source": [
        "players = [\"Sakib\", \"Tamim\", \"Mushfiq\"]\n",
        "\n",
        "for player in players:\n",
        "  print(player)\n",
        "  # for char in player:\n",
        "  #   print(char)\n",
        "  for i in range(0, len(player)):\n",
        "    print(player[i])\n"
      ]
    },
    {
      "cell_type": "markdown",
      "id": "1e736544-81e7-4bf9-9547-05cbcfc40acf",
      "metadata": {
        "id": "1e736544-81e7-4bf9-9547-05cbcfc40acf"
      },
      "source": [
        "### While Loop"
      ]
    },
    {
      "cell_type": "code",
      "execution_count": null,
      "id": "8e8d2f8b-7a90-4da7-aff0-e24ea8c10401",
      "metadata": {
        "id": "8e8d2f8b-7a90-4da7-aff0-e24ea8c10401"
      },
      "outputs": [],
      "source": []
    },
    {
      "cell_type": "code",
      "execution_count": null,
      "id": "d72f4c32-691c-44d5-b666-36911449191d",
      "metadata": {
        "id": "d72f4c32-691c-44d5-b666-36911449191d"
      },
      "outputs": [],
      "source": []
    },
    {
      "cell_type": "markdown",
      "id": "e906fe6a-8667-46cf-9f93-6cb74d20886e",
      "metadata": {
        "id": "e906fe6a-8667-46cf-9f93-6cb74d20886e"
      },
      "source": [
        "# List Comprehension\n",
        "\n",
        "[expression for item in iterable if condition]"
      ]
    },
    {
      "cell_type": "code",
      "execution_count": null,
      "id": "b4a83c98-4292-4048-9589-73fee1416bf0",
      "metadata": {
        "id": "b4a83c98-4292-4048-9589-73fee1416bf0",
        "colab": {
          "base_uri": "https://localhost:8080/"
        },
        "outputId": "094b7d25-816d-4e59-bfea-48a1f9a2c7ee"
      },
      "outputs": [
        {
          "output_type": "stream",
          "name": "stdout",
          "text": [
            "['Honda', 'Audi', 'Toyota', 'Tata', 'Volkswage']\n"
          ]
        }
      ],
      "source": [
        "cars = [\"BMW\", \"Honda\", \"Ford\", \"Audi\", \"Toyota\", \"Tata\", \"Volkswage\"]\n",
        "\n",
        "new_list = []\n",
        "for car in cars:\n",
        "  if 'a' in car or 'A' in car:\n",
        "    new_list.append(car)\n",
        "\n",
        "print(new_list)"
      ]
    },
    {
      "cell_type": "code",
      "execution_count": null,
      "id": "a8852f3f-cc13-49dc-9e8f-a638e18493cd",
      "metadata": {
        "id": "a8852f3f-cc13-49dc-9e8f-a638e18493cd",
        "colab": {
          "base_uri": "https://localhost:8080/"
        },
        "outputId": "88282139-6c15-4eff-b885-40940a8d4840"
      },
      "outputs": [
        {
          "output_type": "stream",
          "name": "stdout",
          "text": [
            "['Honda', 'Audi', 'Toyota', 'Tata', 'Volkswage']\n"
          ]
        }
      ],
      "source": [
        "cars = [\"BMW\", \"Honda\", \"Ford\", \"Audi\", \"Toyota\", \"Tata\", \"Volkswage\"]\n",
        "\n",
        "new_list = [car for car in cars if \"a\" in car or \"A\" in car]\n",
        "\n",
        "print(new_list)"
      ]
    },
    {
      "cell_type": "code",
      "execution_count": null,
      "id": "1c6238f9-f02a-4f96-bc75-b91e2affcd7b",
      "metadata": {
        "id": "1c6238f9-f02a-4f96-bc75-b91e2affcd7b",
        "colab": {
          "base_uri": "https://localhost:8080/"
        },
        "outputId": "e2af8837-fce7-4c2e-af7c-2a6c425d7dfa"
      },
      "outputs": [
        {
          "output_type": "stream",
          "name": "stdout",
          "text": [
            "[6, 7, 8, 9, 10]\n"
          ]
        }
      ],
      "source": [
        "new_list = []\n",
        "\n",
        "for i in range(0,11):\n",
        "  if i>5:\n",
        "    new_list.append(i)\n",
        "\n",
        "print(new_list)"
      ]
    },
    {
      "cell_type": "code",
      "execution_count": null,
      "id": "dbc69894-88c2-4e1c-bcb1-3301f590d344",
      "metadata": {
        "id": "dbc69894-88c2-4e1c-bcb1-3301f590d344",
        "colab": {
          "base_uri": "https://localhost:8080/"
        },
        "outputId": "786363dd-d77a-4d7f-c200-af958019501e"
      },
      "outputs": [
        {
          "output_type": "stream",
          "name": "stdout",
          "text": [
            "[6, 7, 8, 9, 10]\n"
          ]
        }
      ],
      "source": [
        "new_list = [i for i in range(0, 11) if i>5]\n",
        "\n",
        "print(new_list)"
      ]
    },
    {
      "cell_type": "code",
      "execution_count": null,
      "id": "40fb2b63-7e63-43f6-ba5e-d6e828dbcfd6",
      "metadata": {
        "id": "40fb2b63-7e63-43f6-ba5e-d6e828dbcfd6"
      },
      "outputs": [],
      "source": []
    },
    {
      "cell_type": "code",
      "execution_count": null,
      "id": "ca076e2a-6c60-4351-8500-8d773544ce73",
      "metadata": {
        "id": "ca076e2a-6c60-4351-8500-8d773544ce73"
      },
      "outputs": [],
      "source": []
    },
    {
      "cell_type": "markdown",
      "id": "ad1a96fe-7fa9-466d-9e60-1a65b4bca2fb",
      "metadata": {
        "id": "ad1a96fe-7fa9-466d-9e60-1a65b4bca2fb"
      },
      "source": [
        "# Functions\n",
        "### A function is a block of code that performs a specific task."
      ]
    },
    {
      "cell_type": "code",
      "source": [
        "def print_hello():\n",
        "  print(\"Hello World\")\n",
        "  print(\"We are learning Python\")"
      ],
      "metadata": {
        "id": "-L6JveKWhlf1"
      },
      "id": "-L6JveKWhlf1",
      "execution_count": null,
      "outputs": []
    },
    {
      "cell_type": "code",
      "source": [
        "print_hello()"
      ],
      "metadata": {
        "colab": {
          "base_uri": "https://localhost:8080/"
        },
        "id": "vX17tQGshvNl",
        "outputId": "d07622f6-d5b5-4034-dd34-9312fbaed834"
      },
      "id": "vX17tQGshvNl",
      "execution_count": null,
      "outputs": [
        {
          "output_type": "stream",
          "name": "stdout",
          "text": [
            "Hello World\n",
            "We are learning Python\n"
          ]
        }
      ]
    },
    {
      "cell_type": "code",
      "source": [
        "def addition():\n",
        "  a = 5\n",
        "  b = 7\n",
        "  sum = a+b\n",
        "  # print(sum)\n",
        "  return sum\n",
        "  c = c+10"
      ],
      "metadata": {
        "id": "x3cnSdX_i4jc"
      },
      "id": "x3cnSdX_i4jc",
      "execution_count": null,
      "outputs": []
    },
    {
      "cell_type": "code",
      "source": [
        "addition()"
      ],
      "metadata": {
        "colab": {
          "base_uri": "https://localhost:8080/"
        },
        "id": "mikJz_GOi4Qt",
        "outputId": "c79f8077-7560-44e9-de35-9424b84dcced"
      },
      "id": "mikJz_GOi4Qt",
      "execution_count": null,
      "outputs": [
        {
          "output_type": "execute_result",
          "data": {
            "text/plain": [
              "12"
            ]
          },
          "metadata": {},
          "execution_count": 2
        }
      ]
    },
    {
      "cell_type": "code",
      "source": [
        "sum_a = addition()\n",
        "\n",
        "sum_b = sum_a**2"
      ],
      "metadata": {
        "id": "bYA3FtVFj49q"
      },
      "id": "bYA3FtVFj49q",
      "execution_count": null,
      "outputs": []
    },
    {
      "cell_type": "code",
      "source": [
        "print(sum_b)"
      ],
      "metadata": {
        "colab": {
          "base_uri": "https://localhost:8080/"
        },
        "id": "BFKQCaduj46q",
        "outputId": "3840fee1-1268-45e4-b91a-ace1a65fc1d2"
      },
      "id": "BFKQCaduj46q",
      "execution_count": null,
      "outputs": [
        {
          "output_type": "stream",
          "name": "stdout",
          "text": [
            "144\n"
          ]
        }
      ]
    },
    {
      "cell_type": "code",
      "source": [],
      "metadata": {
        "id": "YTi7R8t3j43t"
      },
      "id": "YTi7R8t3j43t",
      "execution_count": null,
      "outputs": []
    },
    {
      "cell_type": "code",
      "execution_count": null,
      "id": "905f8ccd-6ede-4713-a97e-4ef2c4af55ae",
      "metadata": {
        "id": "905f8ccd-6ede-4713-a97e-4ef2c4af55ae",
        "colab": {
          "base_uri": "https://localhost:8080/"
        },
        "outputId": "43a1535c-0b89-4b0f-cc98-cbde6a4d1b63"
      },
      "outputs": [
        {
          "output_type": "stream",
          "name": "stdout",
          "text": [
            "28.460498941515414\n"
          ]
        }
      ],
      "source": [
        "x1 = 10\n",
        "y1 = 30\n",
        "x2 = 1\n",
        "y2 = 3\n",
        "\n",
        "distance = ( (x1-x2)**2 + (y1-y2)**2 )**.5\n",
        "print(distance)"
      ]
    },
    {
      "cell_type": "code",
      "source": [
        "def distance(x1, y1, x2, y2):\n",
        "  dist = ( (x1-x2)**2 + (y1-y2)**2 )**(1/3)\n",
        "  print(str(dist))"
      ],
      "metadata": {
        "id": "w3nbwTbE1QEN"
      },
      "id": "w3nbwTbE1QEN",
      "execution_count": null,
      "outputs": []
    },
    {
      "cell_type": "code",
      "execution_count": null,
      "id": "e4b8b42f-0b31-4dd4-bed2-2a0af9c475af",
      "metadata": {
        "id": "e4b8b42f-0b31-4dd4-bed2-2a0af9c475af",
        "colab": {
          "base_uri": "https://localhost:8080/"
        },
        "outputId": "8445e294-54f1-4d5c-eb41-dc8acf58f582"
      },
      "outputs": [
        {
          "output_type": "stream",
          "name": "stdout",
          "text": [
            "9.321697517861576\n"
          ]
        }
      ],
      "source": [
        "a1 = 10\n",
        "b1 = 30\n",
        "a2 = 1\n",
        "b2 = 3\n",
        "\n",
        "distance(a1, b1, a2, b2)"
      ]
    },
    {
      "cell_type": "code",
      "execution_count": null,
      "id": "c7b69fe2-c091-4d8b-9bd7-c7e634b083a5",
      "metadata": {
        "id": "c7b69fe2-c091-4d8b-9bd7-c7e634b083a5",
        "colab": {
          "base_uri": "https://localhost:8080/"
        },
        "outputId": "7e585c5d-996c-417c-ea56-1782e27dc114"
      },
      "outputs": [
        {
          "output_type": "execute_result",
          "data": {
            "text/plain": [
              "1.7099759466766968"
            ]
          },
          "metadata": {},
          "execution_count": 16
        }
      ],
      "source": [
        "p1 = 3\n",
        "q1 = 2\n",
        "p2 = 1\n",
        "q2 = 3\n",
        "\n",
        "distance(p1, q1, p2, q2)"
      ]
    },
    {
      "cell_type": "code",
      "execution_count": null,
      "id": "e7954126-bace-4f42-8f1f-2372714d217b",
      "metadata": {
        "id": "e7954126-bace-4f42-8f1f-2372714d217b"
      },
      "outputs": [],
      "source": []
    },
    {
      "cell_type": "markdown",
      "id": "1cc94a19-2681-42e9-a154-3d693991aede",
      "metadata": {
        "id": "1cc94a19-2681-42e9-a154-3d693991aede"
      },
      "source": [
        "### Two things to remember, Parameter and Argument\n",
        "Parameters are the variables listed inside the parentheses in the function definition. They act like placeholders for the data the function can accept when we call them.\n",
        "Arguments are the actual values that we pass to the function when we call it."
      ]
    },
    {
      "cell_type": "code",
      "execution_count": null,
      "id": "10124540-ab5c-4c53-988b-0be5f57a9b8a",
      "metadata": {
        "id": "10124540-ab5c-4c53-988b-0be5f57a9b8a"
      },
      "outputs": [],
      "source": [
        "def distance(x1, y1, x2, y2):\n",
        "  dist = ( (x1-x2)**2 + (y1-y2)**2 )**(1/3)\n",
        "  return dist"
      ]
    },
    {
      "cell_type": "code",
      "execution_count": null,
      "id": "4695c585-380a-4291-94f0-e790d8bad228",
      "metadata": {
        "id": "4695c585-380a-4291-94f0-e790d8bad228",
        "colab": {
          "base_uri": "https://localhost:8080/"
        },
        "outputId": "ca2ffa5a-2246-4664-8c4a-79effef87ae1"
      },
      "outputs": [
        {
          "output_type": "execute_result",
          "data": {
            "text/plain": [
              "9.321697517861576"
            ]
          },
          "metadata": {},
          "execution_count": 29
        }
      ],
      "source": [
        "p1 = 2\n",
        "q1 = 3\n",
        "p2 = 10\n",
        "q2 = 8\n",
        "\n",
        "distance(p1, q1, p2, q2)"
      ]
    },
    {
      "cell_type": "code",
      "execution_count": null,
      "id": "48396f2e-e0ff-461b-8a36-fec35be7e861",
      "metadata": {
        "id": "48396f2e-e0ff-461b-8a36-fec35be7e861",
        "colab": {
          "base_uri": "https://localhost:8080/"
        },
        "outputId": "5a818c38-938e-41b4-bd98-bea103b7b053"
      },
      "outputs": [
        {
          "output_type": "stream",
          "name": "stdout",
          "text": [
            "1.7099759466766968\n"
          ]
        }
      ],
      "source": [
        "distance(p1, p2, q1, q2)"
      ]
    },
    {
      "cell_type": "code",
      "execution_count": null,
      "id": "18da61e9-4653-49cc-b48f-f5a90fdb76a2",
      "metadata": {
        "id": "18da61e9-4653-49cc-b48f-f5a90fdb76a2"
      },
      "outputs": [],
      "source": [
        "print(\"Hello World\")"
      ]
    },
    {
      "cell_type": "code",
      "execution_count": null,
      "id": "a409172d-c303-48f0-95cf-50fe383fd5bf",
      "metadata": {
        "id": "a409172d-c303-48f0-95cf-50fe383fd5bf"
      },
      "outputs": [],
      "source": []
    },
    {
      "cell_type": "code",
      "execution_count": null,
      "id": "2db36c07-a41b-4d50-a07f-16bcb7647ea9",
      "metadata": {
        "id": "2db36c07-a41b-4d50-a07f-16bcb7647ea9"
      },
      "outputs": [],
      "source": [
        "def distance(x_axis_1, y_axis_1, x_axis_2, y_axis_2):\n",
        "  dist = ( (x1-x2)**2 + (y1-y2)**2 )**(1/3)\n",
        "  return dist"
      ]
    },
    {
      "cell_type": "code",
      "execution_count": null,
      "id": "4a30aa97-2886-4655-9715-e4b92a5328ae",
      "metadata": {
        "id": "4a30aa97-2886-4655-9715-e4b92a5328ae",
        "colab": {
          "base_uri": "https://localhost:8080/"
        },
        "outputId": "3778e830-b9be-45ad-bb7c-32624c411107"
      },
      "outputs": [
        {
          "output_type": "execute_result",
          "data": {
            "text/plain": [
              "9.321697517861576"
            ]
          },
          "metadata": {},
          "execution_count": 28
        }
      ],
      "source": [
        "p1 = 2\n",
        "q1 = 3\n",
        "p2 = 10\n",
        "q2 = 8\n",
        "\n",
        "distance(x_axis_1 = p1, y_axis_1 = q1, x_axis_2 = p2, y_axis_2 = q2)"
      ]
    },
    {
      "cell_type": "code",
      "execution_count": null,
      "id": "a025ab31-28c6-472d-a312-b7577da9b8d4",
      "metadata": {
        "id": "a025ab31-28c6-472d-a312-b7577da9b8d4",
        "colab": {
          "base_uri": "https://localhost:8080/"
        },
        "outputId": "514b8d18-9041-4f8f-f8ae-8dd67f4ca4d3"
      },
      "outputs": [
        {
          "output_type": "execute_result",
          "data": {
            "text/plain": [
              "9.321697517861576"
            ]
          },
          "metadata": {},
          "execution_count": 30
        }
      ],
      "source": [
        "p1 = 2\n",
        "q1 = 3\n",
        "p2 = 10\n",
        "q2 = 8\n",
        "\n",
        "distance(x_axis_1 = p1, y_axis_1 = q1, y_axis_2 = q2, x_axis_2 = p2)"
      ]
    },
    {
      "cell_type": "code",
      "execution_count": null,
      "id": "fd69b4ef-10a4-4b3a-8652-211978ece329",
      "metadata": {
        "id": "fd69b4ef-10a4-4b3a-8652-211978ece329"
      },
      "outputs": [],
      "source": [
        "def print_date(date, month, year, *args):\n",
        "  print(f'Today is {date}th {month}, {year}')"
      ]
    },
    {
      "cell_type": "code",
      "execution_count": null,
      "id": "b72be4a5-7ef3-4c0c-9e45-479120f3d434",
      "metadata": {
        "id": "b72be4a5-7ef3-4c0c-9e45-479120f3d434",
        "colab": {
          "base_uri": "https://localhost:8080/"
        },
        "outputId": "8dbcbb37-1846-46a5-e7b6-b5fbe5101983"
      },
      "outputs": [
        {
          "output_type": "stream",
          "name": "stdout",
          "text": [
            "Today is 24th May, 2024\n"
          ]
        }
      ],
      "source": [
        "print_date(24, \"May\", 2024, 10, 100, 200, 1000)"
      ]
    },
    {
      "cell_type": "markdown",
      "id": "e3ea6516-5425-4980-bf35-0db2b0a45006",
      "metadata": {
        "id": "e3ea6516-5425-4980-bf35-0db2b0a45006"
      },
      "source": [
        "## Default Parameter"
      ]
    },
    {
      "cell_type": "code",
      "execution_count": null,
      "id": "098b27e3-851b-400a-ae0a-ffbf355dd0f4",
      "metadata": {
        "id": "098b27e3-851b-400a-ae0a-ffbf355dd0f4",
        "colab": {
          "base_uri": "https://localhost:8080/"
        },
        "outputId": "7f7bbb2d-3ee9-4d20-8635-5be3a9e309e1"
      },
      "outputs": [
        {
          "output_type": "stream",
          "name": "stdout",
          "text": [
            "I am from Sweden\n"
          ]
        }
      ],
      "source": [
        "def my_function(country = \"Norway\"):\n",
        "  print(\"I am from \" + country)\n",
        "\n",
        "my_function(\"Sweden\")"
      ]
    },
    {
      "cell_type": "code",
      "execution_count": null,
      "id": "1d968716-2c5c-4c06-8a6b-dfa1020feb9b",
      "metadata": {
        "id": "1d968716-2c5c-4c06-8a6b-dfa1020feb9b",
        "colab": {
          "base_uri": "https://localhost:8080/"
        },
        "outputId": "508eb17d-2062-4e44-a2f7-48410fc8ba42"
      },
      "outputs": [
        {
          "output_type": "stream",
          "name": "stdout",
          "text": [
            "I am from India\n"
          ]
        }
      ],
      "source": [
        "my_function(\"India\")"
      ]
    },
    {
      "cell_type": "code",
      "source": [
        "my_function()"
      ],
      "metadata": {
        "colab": {
          "base_uri": "https://localhost:8080/"
        },
        "id": "i-wO5F_x9SWt",
        "outputId": "e6605f4b-e65e-445d-835d-566b0a47f2d7"
      },
      "id": "i-wO5F_x9SWt",
      "execution_count": null,
      "outputs": [
        {
          "output_type": "stream",
          "name": "stdout",
          "text": [
            "I am from Norway\n"
          ]
        }
      ]
    },
    {
      "cell_type": "code",
      "source": [
        "my_function(\"Brazil\")"
      ],
      "metadata": {
        "colab": {
          "base_uri": "https://localhost:8080/"
        },
        "id": "rfrX6KvD9SSl",
        "outputId": "de56964d-bb23-482a-e9c0-cc8dc737719a"
      },
      "id": "rfrX6KvD9SSl",
      "execution_count": null,
      "outputs": [
        {
          "output_type": "stream",
          "name": "stdout",
          "text": [
            "I am from Brazil\n"
          ]
        }
      ]
    },
    {
      "cell_type": "markdown",
      "id": "9618c10d-e8ec-48db-996a-a3f91632a695",
      "metadata": {
        "id": "9618c10d-e8ec-48db-996a-a3f91632a695"
      },
      "source": [
        "# Recursion"
      ]
    },
    {
      "cell_type": "code",
      "execution_count": null,
      "id": "b8955407-d957-41d8-97e8-7b5e7635d62c",
      "metadata": {
        "id": "b8955407-d957-41d8-97e8-7b5e7635d62c"
      },
      "outputs": [],
      "source": [
        "def factorial(value):\n",
        "  if value == 3:\n",
        "    return 1\n",
        "  return value * factorial(value-1)\n",
        "\n",
        "factorial(3)"
      ]
    },
    {
      "cell_type": "code",
      "execution_count": null,
      "id": "1e494fa4-7b9a-4b8b-a0aa-a87b04418d9c",
      "metadata": {
        "id": "1e494fa4-7b9a-4b8b-a0aa-a87b04418d9c",
        "colab": {
          "base_uri": "https://localhost:8080/"
        },
        "outputId": "bf8b4feb-d27a-463d-d939-07fd6331a3ea"
      },
      "outputs": [
        {
          "output_type": "execute_result",
          "data": {
            "text/plain": [
              "1"
            ]
          },
          "metadata": {},
          "execution_count": 63
        }
      ],
      "source": []
    },
    {
      "cell_type": "code",
      "execution_count": null,
      "id": "41fbc914-e338-4c18-b7ae-651d5b6669c8",
      "metadata": {
        "id": "41fbc914-e338-4c18-b7ae-651d5b6669c8"
      },
      "outputs": [],
      "source": []
    }
  ],
  "metadata": {
    "colab": {
      "provenance": []
    },
    "kernelspec": {
      "display_name": "Python 3 (ipykernel)",
      "language": "python",
      "name": "python3"
    },
    "language_info": {
      "codemirror_mode": {
        "name": "ipython",
        "version": 3
      },
      "file_extension": ".py",
      "mimetype": "text/x-python",
      "name": "python",
      "nbconvert_exporter": "python",
      "pygments_lexer": "ipython3",
      "version": "3.12.3"
    }
  },
  "nbformat": 4,
  "nbformat_minor": 5
}